{
 "cells": [
  {
   "cell_type": "markdown",
   "metadata": {},
   "source": [
    "### Keras - MNIST MLP"
   ]
  },
  {
   "cell_type": "code",
   "execution_count": 14,
   "metadata": {},
   "outputs": [],
   "source": [
    "from keras.datasets import mnist\n",
    "from keras.models import Sequential\n",
    "from keras.layers import Dense, Dropout\n",
    "from keras.optimizers import RMSprop\n",
    "from keras.utils import to_categorical\n",
    "\n",
    "import tensorflow as tf\n",
    "import matplotlib.pyplot as plt\n",
    "\n",
    "def Analyze_training(h):\n",
    "# summarize history for accuracy\n",
    "   plt.plot(h.history['acc'])\n",
    "   plt.plot(h.history['val_acc'])\n",
    "   plt.title('model accuracy')\n",
    "   plt.ylabel('accuracy')\n",
    "   plt.xlabel('epoch')\n",
    "   plt.legend(['train', 'test'], loc='upper left')\n",
    "   plt.show()\n",
    "# summarize history for loss\n",
    "   plt.plot(h.history['loss'])\n",
    "   plt.plot(h.history['val_loss'])\n",
    "   plt.title('model loss')\n",
    "   plt.ylabel('loss')\n",
    "   plt.xlabel('epoch')\n",
    "   plt.legend(['train', 'test'], loc='upper left')\n",
    "   plt.show()\n",
    "   return"
   ]
  },
  {
   "cell_type": "markdown",
   "metadata": {},
   "source": [
    "    Modify layers size and epochs\n",
    "    Which accuracy can you obtain?"
   ]
  },
  {
   "cell_type": "code",
   "execution_count": 15,
   "metadata": {},
   "outputs": [],
   "source": [
    "batch_size = 128\n",
    "epochs = 10\n",
    "hlayer1 = 8\n",
    "hlayer2 = 8"
   ]
  },
  {
   "cell_type": "markdown",
   "metadata": {},
   "source": [
    "    Prepare Data"
   ]
  },
  {
   "cell_type": "code",
   "execution_count": 16,
   "metadata": {},
   "outputs": [
    {
     "name": "stdout",
     "output_type": "stream",
     "text": [
      "60000 train samples\n",
      "10000 test samples\n"
     ]
    }
   ],
   "source": [
    "(x_train, y_train), (x_test, y_test) = mnist.load_data()\n",
    "\n",
    "x_train = x_train.reshape(60000, 784)\n",
    "x_test = x_test.reshape(10000, 784)\n",
    "x_train = x_train.astype('float32')\n",
    "x_test = x_test.astype('float32')\n",
    "x_train /= 255\n",
    "x_test /= 255\n",
    "print(x_train.shape[0], 'train samples')\n",
    "print(x_test.shape[0], 'test samples')"
   ]
  },
  {
   "cell_type": "code",
   "execution_count": 17,
   "metadata": {},
   "outputs": [
    {
     "data": {
      "text/plain": [
       "(60000, 10)"
      ]
     },
     "execution_count": 17,
     "metadata": {},
     "output_type": "execute_result"
    }
   ],
   "source": [
    "# convert class vectors to binary class matrices\n",
    "y_train = to_categorical(y_train, 10)\n",
    "y_test = to_categorical(y_test, 10)\n",
    "y_train.shape"
   ]
  },
  {
   "cell_type": "markdown",
   "metadata": {},
   "source": [
    "####    Definition of a Simple [784:8:8:10] Network"
   ]
  },
  {
   "cell_type": "code",
   "execution_count": 18,
   "metadata": {},
   "outputs": [
    {
     "name": "stdout",
     "output_type": "stream",
     "text": [
      "_________________________________________________________________\n",
      "Layer (type)                 Output Shape              Param #   \n",
      "=================================================================\n",
      "dense_5 (Dense)              (None, 8)                 6280      \n",
      "_________________________________________________________________\n",
      "dense_6 (Dense)              (None, 8)                 72        \n",
      "_________________________________________________________________\n",
      "dense_7 (Dense)              (None, 10)                90        \n",
      "=================================================================\n",
      "Total params: 6,442\n",
      "Trainable params: 6,442\n",
      "Non-trainable params: 0\n",
      "_________________________________________________________________\n"
     ]
    }
   ],
   "source": [
    "model = Sequential()\n",
    "model.add(Dense(hlayer1, activation='relu', input_shape=(784,)))\n",
    "model.add(Dense(hlayer2, activation='relu'))\n",
    "model.add(Dense(10, activation='softmax'))\n",
    "model.summary()\n",
    "model.compile(loss='categorical_crossentropy',optimizer=RMSprop(),\n",
    "              metrics=['accuracy'])"
   ]
  },
  {
   "cell_type": "markdown",
   "metadata": {},
   "source": [
    "    Method Fit Trains Network !"
   ]
  },
  {
   "cell_type": "code",
   "execution_count": 19,
   "metadata": {
    "scrolled": true
   },
   "outputs": [
    {
     "name": "stdout",
     "output_type": "stream",
     "text": [
      "Train on 60000 samples, validate on 10000 samples\n",
      "Epoch 1/10\n",
      "60000/60000 [==============================] - 8s 132us/step - loss: 1.0366 - acc: 0.6799 - val_loss: 0.5152 - val_acc: 0.8539\n",
      "Epoch 2/10\n",
      "60000/60000 [==============================] - 7s 120us/step - loss: 0.4609 - acc: 0.8729 - val_loss: 0.3866 - val_acc: 0.8890\n",
      "Epoch 3/10\n",
      "60000/60000 [==============================] - 7s 119us/step - loss: 0.3853 - acc: 0.8927 - val_loss: 0.3564 - val_acc: 0.8970\n",
      "Epoch 4/10\n",
      "60000/60000 [==============================] - 7s 117us/step - loss: 0.3501 - acc: 0.9025 - val_loss: 0.3317 - val_acc: 0.9044\n",
      "Epoch 5/10\n",
      "60000/60000 [==============================] - 7s 116us/step - loss: 0.3240 - acc: 0.9099 - val_loss: 0.3092 - val_acc: 0.9132\n",
      "Epoch 6/10\n",
      "60000/60000 [==============================] - 7s 117us/step - loss: 0.3051 - acc: 0.9143 - val_loss: 0.2965 - val_acc: 0.9149\n",
      "Epoch 7/10\n",
      "60000/60000 [==============================] - 7s 120us/step - loss: 0.2923 - acc: 0.9170 - val_loss: 0.2887 - val_acc: 0.9187\n",
      "Epoch 8/10\n",
      "60000/60000 [==============================] - 7s 125us/step - loss: 0.2831 - acc: 0.9191 - val_loss: 0.2847 - val_acc: 0.9175\n",
      "Epoch 9/10\n",
      "60000/60000 [==============================] - 7s 119us/step - loss: 0.2755 - acc: 0.9212 - val_loss: 0.2805 - val_acc: 0.9204\n",
      "Epoch 10/10\n",
      "60000/60000 [==============================] - 8s 130us/step - loss: 0.2702 - acc: 0.9226 - val_loss: 0.2750 - val_acc: 0.9214\n"
     ]
    }
   ],
   "source": [
    "history = model.fit(x_train, y_train,\n",
    "                    batch_size=batch_size,\n",
    "                    epochs=epochs,\n",
    "                    verbose=1,\n",
    "                    validation_data=(x_test, y_test))"
   ]
  },
  {
   "cell_type": "code",
   "execution_count": 20,
   "metadata": {},
   "outputs": [
    {
     "name": "stdout",
     "output_type": "stream",
     "text": [
      "Test loss: 0.27497889505922796\n",
      "Test accuracy: 0.9214\n",
      "Train accuracy: 0.9257333333333333\n"
     ]
    },
    {
     "data": {
      "image/png": "[encoded data removed]",
      "text/plain": [
       "<Figure size 432x288 with 1 Axes>"
      ]
     },
     "metadata": {
      "needs_background": "light"
     },
     "output_type": "display_data"
    },
    {
     "data": {
      "image/png": "[encoded data removed]",
      "text/plain": [
       "<Figure size 432x288 with 1 Axes>"
      ]
     },
     "metadata": {
      "needs_background": "light"
     },
     "output_type": "display_data"
    }
   ],
   "source": [
    "score = model.evaluate(x_test, y_test, verbose=0)\n",
    "print('Test loss:', score[0])\n",
    "print('Test accuracy:', score[1])\n",
    "score = model.evaluate(x_train, y_train, verbose=0)\n",
    "print('Train accuracy:', score[1])\n",
    "\n",
    "Analyze_training(history)"
   ]
  }
 ],
 "metadata": {
  "kernelspec": {
   "display_name": "Python 3",
   "language": "python",
   "name": "python3"
  },
  "language_info": {
   "codemirror_mode": {
    "name": "ipython",
    "version": 3
   },
   "file_extension": ".py",
   "mimetype": "text/x-python",
   "name": "python",
   "nbconvert_exporter": "python",
   "pygments_lexer": "ipython3",
   "version": "3.6.4"
  }
 },
 "nbformat": 4,
 "nbformat_minor": 2
}
