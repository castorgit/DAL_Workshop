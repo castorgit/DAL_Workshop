{
 "cells": [
  {
   "cell_type": "markdown",
   "metadata": {},
   "source": [
    "## Keras - QMNIST MLP\n",
    "#### We use the QMNIST file which is MNIST with 120.000 digits\n",
    "### see https://github.com/facebookresearch/qmnist"
   ]
  },
  {
   "cell_type": "code",
   "execution_count": 16,
   "metadata": {},
   "outputs": [],
   "source": [
    "import os\n",
    "os.environ[\"CUDA_VISIBLE_DEVICES\"] = \"-1\" # to disable GPU\n",
    "\n",
    "from keras.models import Sequential\n",
    "from keras.layers import Dense, Dropout\n",
    "from tensorflow.keras.optimizers import RMSprop\n",
    "from tensorflow.keras.utils import to_categorical\n",
    "import numpy as np\n",
    "\n",
    "import tensorflow as tf\n",
    "import matplotlib.pyplot as plt\n"
   ]
  },
  {
   "cell_type": "markdown",
   "metadata": {},
   "source": [
    "    A couple of utility functions"
   ]
  },
  {
   "cell_type": "code",
   "execution_count": 17,
   "metadata": {},
   "outputs": [],
   "source": [
    "def Analyze_training(h):\n",
    "# summarize history for accuracy\n",
    "   plt.plot(h.history['accuracy'])\n",
    "   plt.plot(h.history['val_accuracy'])\n",
    "   plt.title('model accuracy')\n",
    "   plt.ylabel('accuracy')\n",
    "   plt.xlabel('epoch')\n",
    "   plt.legend(['train', 'test'], loc='upper left')\n",
    "   plt.show()\n",
    "# summarize history for loss\n",
    "   plt.plot(h.history['loss'])\n",
    "   plt.plot(h.history['val_loss'])\n",
    "   plt.title('model loss')\n",
    "   plt.ylabel('loss')\n",
    "   plt.xlabel('epoch')\n",
    "   plt.legend(['train', 'test'], loc='upper left')\n",
    "   plt.show()\n",
    "   return\n",
    "# Uploads into 6 arrays contents of MNIST.npz\n",
    "# # train_size in percentage\n",
    "# Remaining test is divided by 2\n",
    "def QMNIST_load_data(file_name,train_size):\n",
    "   # train size = x%\n",
    "   file = np.load(file_name)\n",
    "\n",
    "   a = file['arr_0']\n",
    "   b = file['arr_1']\n",
    "   c = file['arr_2']\n",
    "   d = file['arr_3']\n",
    "   X = np.concatenate((a, c), axis=0)\n",
    "   Y = np.concatenate((b, d), axis=0)\n",
    "   X = X.reshape(len(X), 784)\n",
    "   l = len(X)  # total lenght\n",
    "   p1 = int(len(X)*(train_size/100))\n",
    "   p2 = int((l-p1)/2)\n",
    "   return (X[0:p1],Y[0:p1]),(X[p1:p1+p2], Y[p1:p1+p2]), (X[p1+p2+1:l+1], Y[p1+p2+1:l+1])"
   ]
  },
  {
   "cell_type": "markdown",
   "metadata": {},
   "source": [
    "    Observe how different is the graph of accuracy and loss"
   ]
  },
  {
   "cell_type": "code",
   "execution_count": 18,
   "metadata": {},
   "outputs": [],
   "source": [
    "batch_size = 128\n",
    "num_classes = 10\n",
    "epochs = 20\n",
    "hlayer1 = 512\n",
    "hlayer2 = 512"
   ]
  },
  {
   "cell_type": "code",
   "execution_count": 19,
   "metadata": {},
   "outputs": [],
   "source": [
    "# data preparation"
   ]
  },
  {
   "cell_type": "code",
   "execution_count": 20,
   "metadata": {},
   "outputs": [
    {
     "name": "stdout",
     "output_type": "stream",
     "text": [
      "Train len 84000\n",
      "Test len 18000\n",
      "Val len 17999\n",
      "(84000, 784)\n",
      "84000 train samples\n",
      "18000 test samples\n",
      "17999 validation samples\n"
     ]
    }
   ],
   "source": [
    "file_name = './DAL_workshop_datasets/QMNIST.npz'\n",
    "(x_train, y_train),(x_test, y_test),(x_val,y_val) = QMNIST_load_data(file_name,70) # 70% train 30% test\n",
    "print('Train len',len(x_train))\n",
    "print('Test len',len(x_test))\n",
    "print('Val len',len(x_val))\n",
    "\n",
    "print(x_train.shape)\n",
    "\n",
    "x_train = x_train.astype('float32')\n",
    "x_test = x_test.astype('float32')\n",
    "x_val = x_val.astype('float32')\n",
    "\n",
    "x_train /= 255\n",
    "x_test  /= 255\n",
    "x_val   /= 255\n",
    "\n",
    "print(x_train.shape[0], 'train samples')\n",
    "print(x_test.shape[0], 'test samples')\n",
    "print(x_val.shape[0], 'validation samples')\n"
   ]
  },
  {
   "cell_type": "code",
   "execution_count": 21,
   "metadata": {},
   "outputs": [
    {
     "data": {
      "text/plain": [
       "(84000, 10)"
      ]
     },
     "execution_count": 21,
     "metadata": {},
     "output_type": "execute_result"
    }
   ],
   "source": [
    "# convert class vectors to binary class matrices\n",
    "y_train = to_categorical(y_train, num_classes)\n",
    "y_test = to_categorical(y_test, num_classes)\n",
    "y_val = to_categorical(y_val, num_classes)\n",
    "y_train.shape"
   ]
  },
  {
   "cell_type": "markdown",
   "metadata": {},
   "source": [
    "### Network definition"
   ]
  },
  {
   "cell_type": "code",
   "execution_count": 22,
   "metadata": {},
   "outputs": [
    {
     "name": "stdout",
     "output_type": "stream",
     "text": [
      "Model: \"sequential_1\"\n",
      "_________________________________________________________________\n",
      " Layer (type)                Output Shape              Param #   \n",
      "=================================================================\n",
      " dense_3 (Dense)             (None, 512)               401920    \n",
      "                                                                 \n",
      " dropout_2 (Dropout)         (None, 512)               0         \n",
      "                                                                 \n",
      " dense_4 (Dense)             (None, 512)               262656    \n",
      "                                                                 \n",
      " dropout_3 (Dropout)         (None, 512)               0         \n",
      "                                                                 \n",
      " dense_5 (Dense)             (None, 10)                5130      \n",
      "                                                                 \n",
      "=================================================================\n",
      "Total params: 669,706\n",
      "Trainable params: 669,706\n",
      "Non-trainable params: 0\n",
      "_________________________________________________________________\n"
     ]
    }
   ],
   "source": [
    "model = Sequential()\n",
    "model.add(Dense(hlayer1, activation='relu', input_shape=(784,)))\n",
    "model.add(Dropout(rate=0.2))\n",
    "model.add(Dense(hlayer2, activation='relu'))\n",
    "model.add(Dropout(rate=0.2))\n",
    "model.add(Dense(10, activation='softmax'))\n",
    "model.summary()\n",
    "model.compile(loss='categorical_crossentropy',\n",
    "              optimizer=RMSprop(),\n",
    "              metrics=['accuracy'])"
   ]
  },
  {
   "cell_type": "markdown",
   "metadata": {},
   "source": [
    "    Fit Trains Network !"
   ]
  },
  {
   "cell_type": "code",
   "execution_count": 23,
   "metadata": {},
   "outputs": [
    {
     "name": "stdout",
     "output_type": "stream",
     "text": [
      "Epoch 1/20\n",
      "657/657 [==============================] - 5s 8ms/step - loss: 0.2103 - accuracy: 0.9355 - val_loss: 0.1488 - val_accuracy: 0.9512\n",
      "Epoch 2/20\n",
      "657/657 [==============================] - 5s 8ms/step - loss: 0.0917 - accuracy: 0.9727 - val_loss: 0.0782 - val_accuracy: 0.9778\n",
      "Epoch 3/20\n",
      "657/657 [==============================] - 5s 8ms/step - loss: 0.0708 - accuracy: 0.9791 - val_loss: 0.0703 - val_accuracy: 0.9797\n",
      "Epoch 4/20\n",
      "657/657 [==============================] - 5s 7ms/step - loss: 0.0577 - accuracy: 0.9829 - val_loss: 0.0697 - val_accuracy: 0.9811\n",
      "Epoch 5/20\n",
      "657/657 [==============================] - 5s 8ms/step - loss: 0.0502 - accuracy: 0.9855 - val_loss: 0.0794 - val_accuracy: 0.9795\n",
      "Epoch 6/20\n",
      "657/657 [==============================] - 5s 8ms/step - loss: 0.0440 - accuracy: 0.9866 - val_loss: 0.0791 - val_accuracy: 0.9813\n",
      "Epoch 7/20\n",
      "657/657 [==============================] - 5s 8ms/step - loss: 0.0400 - accuracy: 0.9888 - val_loss: 0.0780 - val_accuracy: 0.9823\n",
      "Epoch 8/20\n",
      "657/657 [==============================] - 5s 8ms/step - loss: 0.0373 - accuracy: 0.9891 - val_loss: 0.0852 - val_accuracy: 0.9830\n",
      "Epoch 9/20\n",
      "657/657 [==============================] - 6s 9ms/step - loss: 0.0336 - accuracy: 0.9904 - val_loss: 0.0870 - val_accuracy: 0.9811\n",
      "Epoch 10/20\n",
      "657/657 [==============================] - 6s 9ms/step - loss: 0.0329 - accuracy: 0.9909 - val_loss: 0.1028 - val_accuracy: 0.9822\n",
      "Epoch 11/20\n",
      "657/657 [==============================] - 6s 9ms/step - loss: 0.0288 - accuracy: 0.9917 - val_loss: 0.0958 - val_accuracy: 0.9831\n",
      "Epoch 12/20\n",
      "657/657 [==============================] - 6s 8ms/step - loss: 0.0302 - accuracy: 0.9918 - val_loss: 0.0862 - val_accuracy: 0.9830\n",
      "Epoch 13/20\n",
      "657/657 [==============================] - 6s 9ms/step - loss: 0.0283 - accuracy: 0.9927 - val_loss: 0.1145 - val_accuracy: 0.9834\n",
      "Epoch 14/20\n",
      "657/657 [==============================] - 6s 9ms/step - loss: 0.0251 - accuracy: 0.9937 - val_loss: 0.1050 - val_accuracy: 0.9832\n",
      "Epoch 15/20\n",
      "657/657 [==============================] - 6s 9ms/step - loss: 0.0262 - accuracy: 0.9937 - val_loss: 0.1101 - val_accuracy: 0.9835\n",
      "Epoch 16/20\n",
      "657/657 [==============================] - 6s 9ms/step - loss: 0.0265 - accuracy: 0.9936 - val_loss: 0.1025 - val_accuracy: 0.9837\n",
      "Epoch 17/20\n",
      "657/657 [==============================] - 6s 9ms/step - loss: 0.0233 - accuracy: 0.9942 - val_loss: 0.0989 - val_accuracy: 0.9838\n",
      "Epoch 18/20\n",
      "657/657 [==============================] - 6s 9ms/step - loss: 0.0238 - accuracy: 0.9942 - val_loss: 0.1259 - val_accuracy: 0.9826\n",
      "Epoch 19/20\n",
      "657/657 [==============================] - 6s 8ms/step - loss: 0.0235 - accuracy: 0.9946 - val_loss: 0.1304 - val_accuracy: 0.9835\n",
      "Epoch 20/20\n",
      "657/657 [==============================] - 6s 9ms/step - loss: 0.0228 - accuracy: 0.9944 - val_loss: 0.1187 - val_accuracy: 0.9843\n"
     ]
    }
   ],
   "source": [
    "history = model.fit(x_train, y_train,\n",
    "                    batch_size=batch_size,\n",
    "                    epochs=epochs,\n",
    "                    verbose=1,\n",
    "                    validation_data=(x_test, y_test))"
   ]
  },
  {
   "cell_type": "code",
   "execution_count": 27,
   "metadata": {},
   "outputs": [
    {
     "name": "stdout",
     "output_type": "stream",
     "text": [
      "Test loss: 0.14017942547798157\n",
      "Test accuracy: 0.9838324189186096\n",
      "Train accuracy: 0.9988571405410767\n"
     ]
    }
   ],
   "source": [
    "score = model.evaluate(x_val, y_val, verbose=0)\n",
    "print('Test loss:', score[0])\n",
    "print('Test accuracy:', score[1])\n",
    "score = model.evaluate(x_train, y_train, verbose=0)\n",
    "print('Train accuracy:', score[1])\n"
   ]
  },
  {
   "cell_type": "code",
   "execution_count": 28,
   "metadata": {},
   "outputs": [
    {
     "data": {
      "image/png": "[encoded data removed]",
      "text/plain": [
       "<Figure size 432x288 with 1 Axes>"
      ]
     },
     "metadata": {
      "needs_background": "light"
     },
     "output_type": "display_data"
    },
    {
     "data": {
      "image/png": "[encoded data removed]",
      "text/plain": [
       "<Figure size 432x288 with 1 Axes>"
      ]
     },
     "metadata": {
      "needs_background": "light"
     },
     "output_type": "display_data"
    }
   ],
   "source": [
    "Analyze_training(history)"
   ]
  },
  {
   "cell_type": "code",
   "execution_count": null,
   "metadata": {},
   "outputs": [],
   "source": [
    "#EOF"
   ]
  }
 ],
 "metadata": {
  "kernelspec": {
   "display_name": "Python 3 (ipykernel)",
   "language": "python",
   "name": "python3"
  },
  "language_info": {
   "codemirror_mode": {
    "name": "ipython",
    "version": 3
   },
   "file_extension": ".py",
   "mimetype": "text/x-python",
   "name": "python",
   "nbconvert_exporter": "python",
   "pygments_lexer": "ipython3",
   "version": "3.8.12"
  }
 },
 "nbformat": 4,
 "nbformat_minor": 2
}
