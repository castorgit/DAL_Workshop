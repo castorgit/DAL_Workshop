{
 "cells": [
  {
   "cell_type": "markdown",
   "metadata": {},
   "source": [
    "### Keras - QMNIST MLP"
   ]
  },
  {
   "cell_type": "code",
   "execution_count": 28,
   "metadata": {},
   "outputs": [],
   "source": [
    "from keras.models import Sequential\n",
    "from keras.layers import Dense, Dropout\n",
    "from keras.optimizers import RMSprop\n",
    "from keras.utils import to_categorical\n",
    "import numpy as np\n",
    "\n",
    "from DL_utils import Analyze_training\n",
    "import tensorflow as tf\n",
    "import matplotlib.pyplot as plt\n",
    "\n",
    "tf.logging.set_verbosity(tf.logging.ERROR)"
   ]
  },
  {
   "cell_type": "markdown",
   "metadata": {},
   "source": [
    "    A couple of utility functions"
   ]
  },
  {
   "cell_type": "code",
   "execution_count": 29,
   "metadata": {},
   "outputs": [],
   "source": [
    "def Analyze_training(h):\n",
    "# summarize history for accuracy\n",
    "   plt.plot(h.history['acc'])\n",
    "   plt.plot(h.history['val_acc'])\n",
    "   plt.title('model accuracy')\n",
    "   plt.ylabel('accuracy')\n",
    "   plt.xlabel('epoch')\n",
    "   plt.legend(['train', 'test'], loc='upper left')\n",
    "   plt.show()\n",
    "# summarize history for loss\n",
    "   plt.plot(h.history['loss'])\n",
    "   plt.plot(h.history['val_loss'])\n",
    "   plt.title('model loss')\n",
    "   plt.ylabel('loss')\n",
    "   plt.xlabel('epoch')\n",
    "   plt.legend(['train', 'test'], loc='upper left')\n",
    "   plt.show()\n",
    "   return\n",
    "# Uploads into 4 arrays contents of MNIST.npz\n",
    "# Test file of 60.000 digits\n",
    "def QMNIST_load_data(file_name):\n",
    "   file = np.load('e:/QMNIST.npz')\n",
    "   a = file['arr_0']\n",
    "   b = file['arr_1']\n",
    "   c = file['arr_2']\n",
    "   d = file['arr_3']\n",
    "   return (a,b),(c,d)"
   ]
  },
  {
   "cell_type": "markdown",
   "metadata": {},
   "source": [
    "    Observe how different is the graph of accuracy and loss"
   ]
  },
  {
   "cell_type": "code",
   "execution_count": 33,
   "metadata": {},
   "outputs": [],
   "source": [
    "batch_size = 128\n",
    "num_classes = 10\n",
    "epochs = 20\n",
    "hlayer1 = 512\n",
    "hlayer2 = 512"
   ]
  },
  {
   "cell_type": "markdown",
   "metadata": {},
   "source": [
    "    Prepare Data now test has 60000 digit samples"
   ]
  },
  {
   "cell_type": "code",
   "execution_count": 31,
   "metadata": {},
   "outputs": [
    {
     "name": "stdout",
     "output_type": "stream",
     "text": [
      "(100000, 28, 28) (100000,)\n",
      "(60000, 28, 28) (60000,)\n",
      "100000 train samples\n",
      "10000 test samples\n",
      "10000 validation samples\n"
     ]
    }
   ],
   "source": [
    "file_name = 'e:/QMNIST.npz'\n",
    "(x_train, y_train),(x_test, y_test) = QMNIST_load_data(file_name)\n",
    "# we add values and obtain train 100.000, test 10.000 val 10000\n",
    "x_train = np.append(x_train,x_test[0:40000],axis=0)\n",
    "y_train = np.append(y_train,y_test[0:40000],axis=0)\n",
    "x_test1= x_test[40000:50000]\n",
    "y_test1= y_test[40000:50000]\n",
    "x_val  = x_test[50000:60000]\n",
    "y_val  = y_test[50000:60000]\n",
    "print(x_train.shape, y_train.shape)\n",
    "print(x_test.shape, y_test.shape)\n",
    "\n",
    "x_train = x_train.reshape(len(x_train), 784)\n",
    "x_test1 = x_test1.reshape(len(x_test1), 784) \n",
    "x_val = x_val.reshape(len(x_val),784)\n",
    "\n",
    "x_train = x_train.astype('float32')\n",
    "x_test1 = x_test1.astype('float32')\n",
    "x_val = x_val.astype('float32')\n",
    "x_train /= 255\n",
    "x_test1 /= 255\n",
    "x_val /= 255\n",
    "print(x_train.shape[0], 'train samples')\n",
    "print(x_test1.shape[0], 'test samples')\n",
    "print(x_val.shape[0], 'validation samples')\n"
   ]
  },
  {
   "cell_type": "code",
   "execution_count": 34,
   "metadata": {},
   "outputs": [
    {
     "data": {
      "text/plain": [
       "(100000, 10)"
      ]
     },
     "execution_count": 34,
     "metadata": {},
     "output_type": "execute_result"
    }
   ],
   "source": [
    "\n",
    "# convert class vectors to binary class matrices\n",
    "y_train = to_categorical(y_train, num_classes)\n",
    "y_test1 = to_categorical(y_test1, num_classes)\n",
    "y_val = to_categorical(y_val, num_classes)\n",
    "y_train.shape"
   ]
  },
  {
   "cell_type": "markdown",
   "metadata": {},
   "source": [
    "    Definition of a Simple [784:512:512:10] Network"
   ]
  },
  {
   "cell_type": "code",
   "execution_count": 35,
   "metadata": {},
   "outputs": [
    {
     "name": "stdout",
     "output_type": "stream",
     "text": [
      "_________________________________________________________________\n",
      "Layer (type)                 Output Shape              Param #   \n",
      "=================================================================\n",
      "dense_13 (Dense)             (None, 512)               401920    \n",
      "_________________________________________________________________\n",
      "dropout_9 (Dropout)          (None, 512)               0         \n",
      "_________________________________________________________________\n",
      "dense_14 (Dense)             (None, 512)               262656    \n",
      "_________________________________________________________________\n",
      "dropout_10 (Dropout)         (None, 512)               0         \n",
      "_________________________________________________________________\n",
      "dense_15 (Dense)             (None, 10)                5130      \n",
      "=================================================================\n",
      "Total params: 669,706\n",
      "Trainable params: 669,706\n",
      "Non-trainable params: 0\n",
      "_________________________________________________________________\n"
     ]
    }
   ],
   "source": [
    "model = Sequential()\n",
    "model.add(Dense(hlayer1, activation='relu', input_shape=(784,)))\n",
    "model.add(Dropout(rate=0.2))\n",
    "model.add(Dense(hlayer2, activation='relu'))\n",
    "model.add(Dropout(rate=0.2))\n",
    "model.add(Dense(10, activation='softmax'))\n",
    "model.summary()\n",
    "model.compile(loss='categorical_crossentropy',\n",
    "              optimizer=RMSprop(),\n",
    "              metrics=['accuracy'])"
   ]
  },
  {
   "cell_type": "markdown",
   "metadata": {},
   "source": [
    "    Fit Trains Network !"
   ]
  },
  {
   "cell_type": "code",
   "execution_count": 36,
   "metadata": {},
   "outputs": [
    {
     "name": "stdout",
     "output_type": "stream",
     "text": [
      "Train on 100000 samples, validate on 10000 samples\n",
      "Epoch 1/20\n",
      "100000/100000 [==============================] - 14s 141us/step - loss: 0.1960 - acc: 0.9393 - val_loss: 0.1000 - val_acc: 0.9691\n",
      "Epoch 2/20\n",
      "100000/100000 [==============================] - 13s 126us/step - loss: 0.0874 - acc: 0.9740 - val_loss: 0.0789 - val_acc: 0.9773\n",
      "Epoch 3/20\n",
      "100000/100000 [==============================] - 13s 130us/step - loss: 0.0678 - acc: 0.9796 - val_loss: 0.0885 - val_acc: 0.9775\n",
      "Epoch 4/20\n",
      "100000/100000 [==============================] - 14s 138us/step - loss: 0.0562 - acc: 0.9832 - val_loss: 0.0883 - val_acc: 0.9785\n",
      "Epoch 5/20\n",
      "100000/100000 [==============================] - 19s 191us/step - loss: 0.0499 - acc: 0.9856 - val_loss: 0.0850 - val_acc: 0.9805\n",
      "Epoch 6/20\n",
      "100000/100000 [==============================] - 17s 165us/step - loss: 0.0457 - acc: 0.9873 - val_loss: 0.0865 - val_acc: 0.9795\n",
      "Epoch 7/20\n",
      "100000/100000 [==============================] - 13s 133us/step - loss: 0.0412 - acc: 0.9885 - val_loss: 0.0775 - val_acc: 0.9832\n",
      "Epoch 8/20\n",
      "100000/100000 [==============================] - 18s 175us/step - loss: 0.0406 - acc: 0.9889 - val_loss: 0.0804 - val_acc: 0.9844\n",
      "Epoch 9/20\n",
      "100000/100000 [==============================] - 14s 137us/step - loss: 0.0347 - acc: 0.9906 - val_loss: 0.0931 - val_acc: 0.9841\n",
      "Epoch 10/20\n",
      "100000/100000 [==============================] - 13s 133us/step - loss: 0.0359 - acc: 0.9909 - val_loss: 0.0866 - val_acc: 0.9833\n",
      "Epoch 11/20\n",
      "100000/100000 [==============================] - 15s 146us/step - loss: 0.0347 - acc: 0.9914 - val_loss: 0.0907 - val_acc: 0.9835 0s - loss: 0.0346 - acc: 0.991\n",
      "Epoch 12/20\n",
      "100000/100000 [==============================] - 18s 175us/step - loss: 0.0316 - acc: 0.9920 - val_loss: 0.1098 - val_acc: 0.9832\n",
      "Epoch 13/20\n",
      "100000/100000 [==============================] - 14s 136us/step - loss: 0.0313 - acc: 0.9923 - val_loss: 0.0852 - val_acc: 0.9855\n",
      "Epoch 14/20\n",
      "100000/100000 [==============================] - 13s 131us/step - loss: 0.0287 - acc: 0.9927 - val_loss: 0.0952 - val_acc: 0.9842\n",
      "Epoch 15/20\n",
      "100000/100000 [==============================] - 13s 130us/step - loss: 0.0289 - acc: 0.9929 - val_loss: 0.0872 - val_acc: 0.9853\n",
      "Epoch 16/20\n",
      "100000/100000 [==============================] - 12s 124us/step - loss: 0.0278 - acc: 0.9933 - val_loss: 0.1144 - val_acc: 0.9837\n",
      "Epoch 17/20\n",
      "100000/100000 [==============================] - 15s 154us/step - loss: 0.0268 - acc: 0.9934 - val_loss: 0.0910 - val_acc: 0.9850\n",
      "Epoch 18/20\n",
      "100000/100000 [==============================] - 14s 144us/step - loss: 0.0259 - acc: 0.9940 - val_loss: 0.1139 - val_acc: 0.9836\n",
      "Epoch 19/20\n",
      "100000/100000 [==============================] - 13s 131us/step - loss: 0.0280 - acc: 0.9937 - val_loss: 0.0952 - val_acc: 0.9849\n",
      "Epoch 20/20\n",
      "100000/100000 [==============================] - 13s 129us/step - loss: 0.0268 - acc: 0.9938 - val_loss: 0.1103 - val_acc: 0.9843\n",
      "Test loss: 0.09468349950352577\n",
      "Test accuracy: 0.9848\n"
     ]
    },
    {
     "data": {
      "image/png": "[encoded data removed]",
      "text/plain": [
       "<Figure size 432x288 with 1 Axes>"
      ]
     },
     "metadata": {
      "needs_background": "light"
     },
     "output_type": "display_data"
    },
    {
     "data": {
      "image/png": "[encoded data removed]",
      "text/plain": [
       "<Figure size 432x288 with 1 Axes>"
      ]
     },
     "metadata": {
      "needs_background": "light"
     },
     "output_type": "display_data"
    }
   ],
   "source": [
    "history = model.fit(x_train, y_train,\n",
    "                    batch_size=batch_size,\n",
    "                    epochs=epochs,\n",
    "                    verbose=1,\n",
    "                    validation_data=(x_test1, y_test1))\n",
    "score = model.evaluate(x_val, y_val, verbose=0)\n",
    "print('Test loss:', score[0])\n",
    "print('Test accuracy:', score[1])\n",
    "\n",
    "Analyze_training(history)"
   ]
  },
  {
   "cell_type": "code",
   "execution_count": null,
   "metadata": {},
   "outputs": [],
   "source": []
  }
 ],
 "metadata": {
  "kernelspec": {
   "display_name": "Python 3",
   "language": "python",
   "name": "python3"
  },
  "language_info": {
   "codemirror_mode": {
    "name": "ipython",
    "version": 3
   },
   "file_extension": ".py",
   "mimetype": "text/x-python",
   "name": "python",
   "nbconvert_exporter": "python",
   "pygments_lexer": "ipython3",
   "version": "3.6.4"
  }
 },
 "nbformat": 4,
 "nbformat_minor": 2
}
