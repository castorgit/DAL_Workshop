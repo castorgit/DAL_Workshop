{
 "cells": [
  {
   "cell_type": "markdown",
   "metadata": {},
   "source": [
    "### Hyperparameter searching with GridSearch"
   ]
  },
  {
   "cell_type": "code",
   "execution_count": 117,
   "metadata": {},
   "outputs": [],
   "source": [
    "import pandas as pd\n",
    "from numpy import random\n",
    "from keras.activations import relu, elu\n",
    "from keras.models import Sequential\n",
    "from keras.layers import Dense, Dropout, Activation, Flatten\n",
    "from keras.wrappers.scikit_learn import KerasClassifier\n",
    "from sklearn.model_selection import GridSearchCV\n",
    "from sklearn.preprocessing import StandardScaler\n",
    "from tabulate import tabulate\n",
    "import tensorflow as tf\n",
    "tf.logging.set_verbosity(tf.logging.ERROR)"
   ]
  },
  {
   "cell_type": "markdown",
   "metadata": {},
   "source": [
    "The dataset includes data from 768 women with 8 characteristics, in particular:\n",
    "\n",
    "    Number of times pregnant\n",
    "    Plasma glucose concentration a 2 hours in an oral glucose tolerance test\n",
    "    Diastolic blood pressure (mm Hg)\n",
    "    Triceps skin fold thickness (mm)\n",
    "    2-Hour serum insulin (mu U/ml)\n",
    "    Body mass index (weight in kg/(height in m)^2)\n",
    "    Diabetes pedigree function\n",
    "    Age (years)\n",
    "\n",
    "The last column of the dataset indicates if the person has been diagnosed with diabetes (1) or not (0)"
   ]
  },
  {
   "cell_type": "code",
   "execution_count": 120,
   "metadata": {},
   "outputs": [],
   "source": [
    "df  = pd.read_csv(\"e:/$Notebooks/pima-indians-diabetes.csv\", header = 0)\n",
    "\n",
    "X = df.iloc[:,0:8]\n",
    "y = df.iloc[:,8]\n",
    "\n",
    "scaler = StandardScaler()\n",
    "X = scaler.fit_transform(X)"
   ]
  },
  {
   "cell_type": "code",
   "execution_count": 127,
   "metadata": {},
   "outputs": [],
   "source": [
    "def model_diabetes(optimizer='Adam', init='uniform', activation='relu', dropout = 0.5, layer_size=16):\n",
    "    \n",
    "    model = Sequential()\n",
    "    model.add(Dense(12, input_dim=8, activation=activation,kernel_initializer=init))\n",
    "    model.add(Dropout(dropout))\n",
    "    model.add(Dense(layer_size, activation=activation))\n",
    "    model.add(Dropout(dropout))\n",
    "    model.add(Dense(1, activation=activation))\n",
    "    model.compile(loss='binary_crossentropy', optimizer=optimizer, metrics=['accuracy'])\n",
    "    return model"
   ]
  },
  {
   "cell_type": "code",
   "execution_count": 128,
   "metadata": {},
   "outputs": [],
   "source": [
    "param_grid = {\n",
    "    'layer_size':[24,64],\n",
    "    'activation': ['relu', 'elu'],\n",
    "    'optimizer' : ['Adam', 'Adamax'],\n",
    "    'batch_size': [10, 20, 30],\n",
    "    'dropout'   : [0.5,0.4,0.3]\n",
    "}"
   ]
  },
  {
   "cell_type": "code",
   "execution_count": 129,
   "metadata": {},
   "outputs": [],
   "source": [
    "# fix random seed for reproducibility\n",
    "seed = 7\n",
    "random.seed(seed)\n",
    "\n",
    "# create model\n",
    "#model = KerasClassifier(build_fn=create_model, verbose=0)\n",
    "\n",
    "# grid search epochs, batch size and optimizer ('TFOptimizer' throws error)\n",
    "optimizers = ['SGD','RMSprop','Adagrad','Adadelta','Adam','Adamax','Nadam']     \n",
    "# possible activations 'softmax','softplus','softsign','relu','tanh','sigmoid','hard_sigmoid','linear'\n",
    "# activations = ['softmax','softplus','softsign','relu','tanh','sigmoid','hard_sigmoid','linear']\n",
    "activations = ['softmax','softplus','softsign','relu','tanh','sigmoid','hard_sigmoid','linear']\n",
    "\n",
    "# 'glorot_uniform', 'normal', 'uniform'\n",
    "# init = ['uniform','lecun_uniform','normal','identity','orthogonal','zero','one','glorot_normal','glorot_uniform', 'he_normal', 'he_uniform']\n",
    "# init = ['uniform','lecun_uniform','normal','orthogonal','zero','one','glorot_normal','glorot_uniform', 'he_normal', 'he_uniform']\n",
    "init = ['normal']\n",
    "        \n",
    "# just one epoch to save computational time (300 is optimum for this 12,8,1 model)\n",
    "epochs = [100]\n",
    "\n",
    "# batches can be 1,3,5,10,20,40\n",
    "batches = [5]"
   ]
  },
  {
   "cell_type": "code",
   "execution_count": null,
   "metadata": {
    "scrolled": false
   },
   "outputs": [
    {
     "name": "stdout",
     "output_type": "stream",
     "text": [
      "Fitting 3 folds for each of 72 candidates, totalling 216 fits\n"
     ]
    },
    {
     "name": "stderr",
     "output_type": "stream",
     "text": [
      "[Parallel(n_jobs=1)]: Using backend SequentialBackend with 1 concurrent workers.\n"
     ]
    }
   ],
   "source": [
    "m = KerasClassifier(build_fn=model_diabetes, verbose=0)  # to use it with scikit\n",
    "\n",
    "#param_grid = dict(optimizer=optimizers, nb_epoch=epochs, batch_size=batches, init=init, activation=activations)\n",
    "\n",
    "\n",
    "grid = GridSearchCV(cv=3, estimator=m, param_grid=param_grid, n_jobs=1, verbose=3)\n",
    "grid_result = grid.fit(X, y)\n",
    "\n",
    "# summarize results\n",
    "print(\"Best: %f using %s\" % (grid_result.best_score_, grid_result.best_params_))\n",
    "means = grid_result.cv_results_['mean_test_score']\n",
    "stds = grid_result.cv_results_['std_test_score']\n",
    "params = grid_result.cv_results_['params']\n",
    "\n",
    "results = pd.DataFrame({'Mean':means[:],'std':stds[:],'parameters':params[:]})\n",
    "results = results.sort_values(by=['Mean'],ascending=[0])\n",
    "print(tabulate(results, headers='keys', tablefmt='psql'))"
   ]
  },
  {
   "cell_type": "code",
   "execution_count": 96,
   "metadata": {},
   "outputs": [],
   "source": [
    "param_grid = {\n",
    "    'layer_size':[128,256,512],\n",
    "    'activation': ['elu','relu'],\n",
    "    'optimizer' : ['Adam'],\n",
    "    'batch_size': [5,10,20]\n",
    "}"
   ]
  },
  {
   "cell_type": "code",
   "execution_count": 97,
   "metadata": {},
   "outputs": [
    {
     "name": "stdout",
     "output_type": "stream",
     "text": [
      "Fitting 3 folds for each of 18 candidates, totalling 54 fits\n"
     ]
    },
    {
     "name": "stderr",
     "output_type": "stream",
     "text": [
      "[Parallel(n_jobs=1)]: Using backend SequentialBackend with 1 concurrent workers.\n",
      "[Parallel(n_jobs=1)]: Done  54 out of  54 | elapsed: 75.4min finished\n"
     ]
    },
    {
     "name": "stdout",
     "output_type": "stream",
     "text": [
      "Best: 0.764323 using {'activation': 'relu', 'batch_size': 5, 'layer_size': 128, 'optimizer': 'Adam'}\n",
      "0.750000 (0.036782) with: {'activation': 'elu', 'batch_size': 5, 'layer_size': 128, 'optimizer': 'Adam'}\n",
      "0.748698 (0.025780) with: {'activation': 'elu', 'batch_size': 5, 'layer_size': 256, 'optimizer': 'Adam'}\n",
      "0.750000 (0.033299) with: {'activation': 'elu', 'batch_size': 5, 'layer_size': 512, 'optimizer': 'Adam'}\n",
      "0.675781 (0.025516) with: {'activation': 'elu', 'batch_size': 10, 'layer_size': 128, 'optimizer': 'Adam'}\n",
      "0.694010 (0.060711) with: {'activation': 'elu', 'batch_size': 10, 'layer_size': 256, 'optimizer': 'Adam'}\n",
      "0.703125 (0.025315) with: {'activation': 'elu', 'batch_size': 10, 'layer_size': 512, 'optimizer': 'Adam'}\n",
      "0.652344 (0.025315) with: {'activation': 'elu', 'batch_size': 20, 'layer_size': 128, 'optimizer': 'Adam'}\n",
      "0.651042 (0.024774) with: {'activation': 'elu', 'batch_size': 20, 'layer_size': 256, 'optimizer': 'Adam'}\n",
      "0.675781 (0.042192) with: {'activation': 'elu', 'batch_size': 20, 'layer_size': 512, 'optimizer': 'Adam'}\n",
      "0.764323 (0.023510) with: {'activation': 'relu', 'batch_size': 5, 'layer_size': 128, 'optimizer': 'Adam'}\n",
      "0.747396 (0.045256) with: {'activation': 'relu', 'batch_size': 5, 'layer_size': 256, 'optimizer': 'Adam'}\n",
      "0.759115 (0.036966) with: {'activation': 'relu', 'batch_size': 5, 'layer_size': 512, 'optimizer': 'Adam'}\n",
      "0.678385 (0.045592) with: {'activation': 'relu', 'batch_size': 10, 'layer_size': 128, 'optimizer': 'Adam'}\n",
      "0.665365 (0.017566) with: {'activation': 'relu', 'batch_size': 10, 'layer_size': 256, 'optimizer': 'Adam'}\n",
      "0.677083 (0.019225) with: {'activation': 'relu', 'batch_size': 10, 'layer_size': 512, 'optimizer': 'Adam'}\n",
      "0.661458 (0.012890) with: {'activation': 'relu', 'batch_size': 20, 'layer_size': 128, 'optimizer': 'Adam'}\n",
      "0.652344 (0.026107) with: {'activation': 'relu', 'batch_size': 20, 'layer_size': 256, 'optimizer': 'Adam'}\n",
      "0.651042 (0.024774) with: {'activation': 'relu', 'batch_size': 20, 'layer_size': 512, 'optimizer': 'Adam'}\n"
     ]
    }
   ],
   "source": [
    "grid = GridSearchCV(cv=3, estimator=m, param_grid=param_grid, n_jobs=1, verbose=3)\n",
    "grid_result = grid.fit(X, y)\n",
    "\n",
    "# summarize results\n",
    "print(\"Best: %f using %s\" % (grid_result.best_score_, grid_result.best_params_))\n",
    "means = grid_result.cv_results_['mean_test_score']\n",
    "stds = grid_result.cv_results_['std_test_score']\n",
    "params = grid_result.cv_results_['params']\n",
    "\n",
    "results = pd.DataFrame({'Mean':means[:],'std':stds[:],'parameters':params[:]})\n",
    "results = results.sort_values(by=['Mean'],ascending=[0])\n",
    "print(tabulate(results, headers='keys', tablefmt='psql'))"
   ]
  },
  {
   "cell_type": "raw",
   "metadata": {},
   "source": []
  }
 ],
 "metadata": {
  "kernelspec": {
   "display_name": "Python 3",
   "language": "python",
   "name": "python3"
  },
  "language_info": {
   "codemirror_mode": {
    "name": "ipython",
    "version": 3
   },
   "file_extension": ".py",
   "mimetype": "text/x-python",
   "name": "python",
   "nbconvert_exporter": "python",
   "pygments_lexer": "ipython3",
   "version": "3.6.4"
  }
 },
 "nbformat": 4,
 "nbformat_minor": 2
}
