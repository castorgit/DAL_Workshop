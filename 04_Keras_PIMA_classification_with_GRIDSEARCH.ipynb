{
 "cells": [
  {
   "cell_type": "markdown",
   "metadata": {},
   "source": [
    "### Hyperparameter searching with GridSearch"
   ]
  },
  {
   "cell_type": "code",
   "execution_count": 1,
   "metadata": {},
   "outputs": [
    {
     "name": "stderr",
     "output_type": "stream",
     "text": [
      "Using TensorFlow backend.\n"
     ]
    }
   ],
   "source": [
    "import pandas as pd\n",
    "from numpy import random\n",
    "from keras.activations import relu, elu\n",
    "from keras.models import Sequential\n",
    "from keras.layers import Dense, Dropout, Activation, Flatten\n",
    "from keras.wrappers.scikit_learn import KerasClassifier\n",
    "from sklearn.model_selection import GridSearchCV\n",
    "from sklearn.preprocessing import StandardScaler\n",
    "from tabulate import tabulate\n",
    "import tensorflow as tf\n",
    "tf.logging.set_verbosity(tf.logging.ERROR)"
   ]
  },
  {
   "cell_type": "markdown",
   "metadata": {},
   "source": [
    "The dataset includes data from 768 women with 8 characteristics, in particular:\n",
    "\n",
    "    Number of times pregnant\n",
    "    Plasma glucose concentration a 2 hours in an oral glucose tolerance test\n",
    "    Diastolic blood pressure (mm Hg)\n",
    "    Triceps skin fold thickness (mm)\n",
    "    2-Hour serum insulin (mu U/ml)\n",
    "    Body mass index (weight in kg/(height in m)^2)\n",
    "    Diabetes pedigree function\n",
    "    Age (years)\n",
    "\n",
    "The last column of the dataset indicates if the person has been diagnosed with diabetes (1) or not (0)"
   ]
  },
  {
   "cell_type": "code",
   "execution_count": 2,
   "metadata": {},
   "outputs": [],
   "source": [
    "df  = pd.read_csv(\"e:/$Notebooks/pima-indians-diabetes.csv\", header = 0)\n",
    "\n",
    "X = df.iloc[:,0:8]\n",
    "y = df.iloc[:,8]\n",
    "\n",
    "scaler = StandardScaler()\n",
    "X = scaler.fit_transform(X)"
   ]
  },
  {
   "cell_type": "code",
   "execution_count": 3,
   "metadata": {},
   "outputs": [],
   "source": [
    "def model_diabetes(optimizer='Adam', init='uniform', activation='relu', dropout = 0.5, layer_size=16):\n",
    "    \n",
    "    model = Sequential()\n",
    "    model.add(Dense(12, input_dim=8, activation=activation,kernel_initializer=init))\n",
    "    model.add(Dropout(dropout))\n",
    "    model.add(Dense(layer_size, activation=activation))\n",
    "    model.add(Dropout(dropout))\n",
    "    model.add(Dense(1, activation=activation))\n",
    "    model.compile(loss='binary_crossentropy', optimizer=optimizer, metrics=['accuracy'])\n",
    "    return model"
   ]
  },
  {
   "cell_type": "code",
   "execution_count": 8,
   "metadata": {},
   "outputs": [],
   "source": [
    "param_grid = {\n",
    "    'layer_size': [64],\n",
    "    'activation': ['relu', 'elu'],\n",
    "    'optimizer' : ['Adam'],\n",
    "    'dropout'   : [0.5,0.4,0.3]\n",
    "}\n",
    "batch_size = 10"
   ]
  },
  {
   "cell_type": "code",
   "execution_count": 9,
   "metadata": {},
   "outputs": [],
   "source": [
    "# fix random seed for reproducibility\n",
    "seed = 7\n",
    "random.seed(seed)\n",
    "# possible optimizers = ['SGD','RMSprop','Adagrad','Adadelta','Adam','Adamax','Nadam']     \n",
    "# possible activations 'softmax','softplus','softsign','relu','tanh','sigmoid','hard_sigmoid','linear'\n",
    "# init = ['uniform','lecun_uniform','normal','identity','orthogonal','zero','one','glorot_normal','glorot_uniform', 'he_normal', 'he_uniform']\n",
    "epochs = [100]\n",
    "init = ['normal']"
   ]
  },
  {
   "cell_type": "code",
   "execution_count": 10,
   "metadata": {
    "scrolled": false
   },
   "outputs": [
    {
     "name": "stdout",
     "output_type": "stream",
     "text": [
      "Best: 0.777344 using {'activation': 'elu', 'dropout': 0.5, 'layer_size': 64, 'optimizer': 'Adam'}\n",
      "+----+----------+------------+-------------------------------------------------------------------------------+\n",
      "|    |     Mean |        std | param                                                                         |\n",
      "|----+----------+------------+-------------------------------------------------------------------------------|\n",
      "|  3 | 0.777344 | 0.017758   | {'activation': 'elu', 'dropout': 0.5, 'layer_size': 64, 'optimizer': 'Adam'}  |\n",
      "|  5 | 0.764323 | 0.0217101  | {'activation': 'elu', 'dropout': 0.3, 'layer_size': 64, 'optimizer': 'Adam'}  |\n",
      "|  1 | 0.761719 | 0.019918   | {'activation': 'relu', 'dropout': 0.4, 'layer_size': 64, 'optimizer': 'Adam'} |\n",
      "|  2 | 0.753906 | 0.00956832 | {'activation': 'relu', 'dropout': 0.3, 'layer_size': 64, 'optimizer': 'Adam'} |\n",
      "|  0 | 0.744792 | 0.0102526  | {'activation': 'relu', 'dropout': 0.5, 'layer_size': 64, 'optimizer': 'Adam'} |\n",
      "|  4 | 0.740885 | 0.0296349  | {'activation': 'elu', 'dropout': 0.4, 'layer_size': 64, 'optimizer': 'Adam'}  |\n",
      "+----+----------+------------+-------------------------------------------------------------------------------+\n"
     ]
    }
   ],
   "source": [
    "m = KerasClassifier(build_fn=model_diabetes, verbose=0)  # to use it with scikit\n",
    "\n",
    "grid = GridSearchCV(cv=3, estimator=m, param_grid=param_grid, n_jobs=1, verbose=0)\n",
    "grid_result = grid.fit(X, y,epochs = 50)\n",
    "\n",
    "# summarize results\n",
    "print(\"Best: %f using %s\" % (grid_result.best_score_, grid_result.best_params_))\n",
    "means = grid_result.cv_results_['mean_test_score']\n",
    "stds = grid_result.cv_results_['std_test_score']\n",
    "params = grid_result.cv_results_['params']\n",
    "\n",
    "results = pd.DataFrame({'Mean':means[:],'std':stds[:],'param':params[:]})\n",
    "results = results.sort_values(by=['Mean'],ascending=[0])\n",
    "print(tabulate(results, headers='keys', tablefmt='psql'))"
   ]
  },
  {
   "cell_type": "markdown",
   "metadata": {},
   "source": [
    "2nd Round use best parameters from 1st round and try some new ones"
   ]
  },
  {
   "cell_type": "code",
   "execution_count": 19,
   "metadata": {},
   "outputs": [],
   "source": [
    "param_grid = {\n",
    "    'layer_size':[64,32],\n",
    "    'activation': ['elu'],\n",
    "    'optimizer' : ['Adam'],\n",
    "    'dropout': [0.5]\n",
    "}"
   ]
  },
  {
   "cell_type": "code",
   "execution_count": 20,
   "metadata": {},
   "outputs": [
    {
     "name": "stdout",
     "output_type": "stream",
     "text": [
      "Best: 0.760417 using {'activation': 'elu', 'dropout': 0.5, 'layer_size': 64, 'optimizer': 'Adam'}\n",
      "+----+----------+-----------+------------------------------------------------------------------------------+\n",
      "|    |     Mean |       std | parameters                                                                   |\n",
      "|----+----------+-----------+------------------------------------------------------------------------------|\n",
      "|  0 | 0.760417 | 0.0243597 | {'activation': 'elu', 'dropout': 0.5, 'layer_size': 64, 'optimizer': 'Adam'} |\n",
      "|  1 | 0.739583 | 0.0415036 | {'activation': 'elu', 'dropout': 0.5, 'layer_size': 32, 'optimizer': 'Adam'} |\n",
      "+----+----------+-----------+------------------------------------------------------------------------------+\n"
     ]
    }
   ],
   "source": [
    "grid = GridSearchCV(cv=3, estimator=m, param_grid=param_grid, n_jobs=1, verbose=0)\n",
    "grid_result = grid.fit(X, y,epochs = 50)\n",
    "\n",
    "# summarize results\n",
    "print(\"Best: %f using %s\" % (grid_result.best_score_, grid_result.best_params_))\n",
    "means = grid_result.cv_results_['mean_test_score']\n",
    "stds = grid_result.cv_results_['std_test_score']\n",
    "params = grid_result.cv_results_['params']\n",
    "\n",
    "results = pd.DataFrame({'Mean':means[:],'std':stds[:],'parameters':params[:]})\n",
    "results = results.sort_values(by=['Mean'],ascending=[0])\n",
    "print(tabulate(results, headers='keys', tablefmt='psql'))"
   ]
  },
  {
   "cell_type": "code",
   "execution_count": null,
   "metadata": {},
   "outputs": [],
   "source": []
  }
 ],
 "metadata": {
  "kernelspec": {
   "display_name": "Python 3",
   "language": "python",
   "name": "python3"
  },
  "language_info": {
   "codemirror_mode": {
    "name": "ipython",
    "version": 3
   },
   "file_extension": ".py",
   "mimetype": "text/x-python",
   "name": "python",
   "nbconvert_exporter": "python",
   "pygments_lexer": "ipython3",
   "version": "3.6.4"
  }
 },
 "nbformat": 4,
 "nbformat_minor": 2
}
