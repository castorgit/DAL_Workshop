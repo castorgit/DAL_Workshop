{
 "cells": [
  {
   "cell_type": "markdown",
   "metadata": {},
   "source": [
    "### Hyperparameter searching with GridSearch"
   ]
  },
  {
   "cell_type": "code",
   "execution_count": 2,
   "metadata": {},
   "outputs": [
    {
     "name": "stderr",
     "output_type": "stream",
     "text": [
      "Using TensorFlow backend.\n"
     ]
    }
   ],
   "source": [
    "import pandas as pd\n",
    "from numpy import random\n",
    "from keras.activations import relu, elu\n",
    "from keras.models import Sequential\n",
    "from keras.layers import Dense, Dropout, Activation, Flatten\n",
    "from keras.wrappers.scikit_learn import KerasClassifier\n",
    "from sklearn.model_selection import GridSearchCV\n",
    "from sklearn.preprocessing import StandardScaler\n",
    "from tabulate import tabulate\n",
    "import tensorflow as tf\n",
    "tf.logging.set_verbosity(tf.logging.ERROR)"
   ]
  },
  {
   "cell_type": "markdown",
   "metadata": {},
   "source": [
    "The dataset includes data from 768 women with 8 characteristics, in particular:\n",
    "\n",
    "    Number of times pregnant\n",
    "    Plasma glucose concentration a 2 hours in an oral glucose tolerance test\n",
    "    Diastolic blood pressure (mm Hg)\n",
    "    Triceps skin fold thickness (mm)\n",
    "    2-Hour serum insulin (mu U/ml)\n",
    "    Body mass index (weight in kg/(height in m)^2)\n",
    "    Diabetes pedigree function\n",
    "    Age (years)\n",
    "\n",
    "The last column of the dataset indicates if the person has been diagnosed with diabetes (1) or not (0)"
   ]
  },
  {
   "cell_type": "code",
   "execution_count": 3,
   "metadata": {},
   "outputs": [],
   "source": [
    "df  = pd.read_csv(\"e:/$Notebooks/pima-indians-diabetes.csv\", header = 0)\n",
    "\n",
    "X = df.iloc[:,0:8]\n",
    "y = df.iloc[:,8]\n",
    "\n",
    "scaler = StandardScaler()\n",
    "X = scaler.fit_transform(X)"
   ]
  },
  {
   "cell_type": "code",
   "execution_count": 4,
   "metadata": {},
   "outputs": [],
   "source": [
    "def model_diabetes(optimizer='Adam', init='uniform', activation='relu', dropout = 0.5, layer_size=16):\n",
    "    \n",
    "    model = Sequential()\n",
    "    model.add(Dense(12, input_dim=8, activation=activation,kernel_initializer=init))\n",
    "    model.add(Dropout(dropout))\n",
    "    model.add(Dense(layer_size, activation=activation))\n",
    "    model.add(Dropout(dropout))\n",
    "    model.add(Dense(1, activation=activation))\n",
    "    model.compile(loss='binary_crossentropy', optimizer=optimizer, metrics=['accuracy'])\n",
    "    return model"
   ]
  },
  {
   "cell_type": "code",
   "execution_count": 5,
   "metadata": {},
   "outputs": [],
   "source": [
    "param_grid = {\n",
    "    'layer_size': [24,64],\n",
    "    'activation': ['relu', 'elu'],\n",
    "    'optimizer' : ['Adam', 'Adamax'],\n",
    "    'batch_size': [10, 20, 30],\n",
    "    'dropout'   : [0.5,0.4,0.3]\n",
    "}"
   ]
  },
  {
   "cell_type": "code",
   "execution_count": 6,
   "metadata": {},
   "outputs": [],
   "source": [
    "# fix random seed for reproducibility\n",
    "seed = 7\n",
    "random.seed(seed)\n",
    "# possible optimizers = ['SGD','RMSprop','Adagrad','Adadelta','Adam','Adamax','Nadam']     \n",
    "# possible activations 'softmax','softplus','softsign','relu','tanh','sigmoid','hard_sigmoid','linear'\n",
    "# init = ['uniform','lecun_uniform','normal','identity','orthogonal','zero','one','glorot_normal','glorot_uniform', 'he_normal', 'he_uniform']\n",
    "epochs = [100]\n",
    "init = ['normal']"
   ]
  },
  {
   "cell_type": "code",
   "execution_count": null,
   "metadata": {
    "scrolled": false
   },
   "outputs": [
    {
     "name": "stdout",
     "output_type": "stream",
     "text": [
      "Fitting 3 folds for each of 72 candidates, totalling 216 fits\n",
      "[CV] activation=relu, batch_size=10, dropout=0.5, layer_size=24, optimizer=Adam \n"
     ]
    },
    {
     "name": "stderr",
     "output_type": "stream",
     "text": [
      "[Parallel(n_jobs=1)]: Using backend SequentialBackend with 1 concurrent workers.\n"
     ]
    },
    {
     "name": "stdout",
     "output_type": "stream",
     "text": [
      "[CV]  activation=relu, batch_size=10, dropout=0.5, layer_size=24, optimizer=Adam, score=0.617, total=  19.4s\n",
      "[CV] activation=relu, batch_size=10, dropout=0.5, layer_size=24, optimizer=Adam \n"
     ]
    },
    {
     "name": "stderr",
     "output_type": "stream",
     "text": [
      "[Parallel(n_jobs=1)]: Done   1 out of   1 | elapsed:   19.3s remaining:    0.0s\n"
     ]
    },
    {
     "name": "stdout",
     "output_type": "stream",
     "text": [
      "[CV]  activation=relu, batch_size=10, dropout=0.5, layer_size=24, optimizer=Adam, score=0.660, total=   5.0s\n",
      "[CV] activation=relu, batch_size=10, dropout=0.5, layer_size=24, optimizer=Adam \n"
     ]
    },
    {
     "name": "stderr",
     "output_type": "stream",
     "text": [
      "[Parallel(n_jobs=1)]: Done   2 out of   2 | elapsed:   24.4s remaining:    0.0s\n"
     ]
    },
    {
     "name": "stdout",
     "output_type": "stream",
     "text": [
      "[CV]  activation=relu, batch_size=10, dropout=0.5, layer_size=24, optimizer=Adam, score=0.676, total=   5.1s\n",
      "[CV] activation=relu, batch_size=10, dropout=0.5, layer_size=24, optimizer=Adamax \n",
      "[CV]  activation=relu, batch_size=10, dropout=0.5, layer_size=24, optimizer=Adamax, score=0.617, total=   5.5s\n",
      "[CV] activation=relu, batch_size=10, dropout=0.5, layer_size=24, optimizer=Adamax \n",
      "[CV]  activation=relu, batch_size=10, dropout=0.5, layer_size=24, optimizer=Adamax, score=0.660, total=   5.0s\n",
      "[CV] activation=relu, batch_size=10, dropout=0.5, layer_size=24, optimizer=Adamax \n",
      "[CV]  activation=relu, batch_size=10, dropout=0.5, layer_size=24, optimizer=Adamax, score=0.676, total=   4.8s\n",
      "[CV] activation=relu, batch_size=10, dropout=0.5, layer_size=64, optimizer=Adam \n",
      "[CV]  activation=relu, batch_size=10, dropout=0.5, layer_size=64, optimizer=Adam, score=0.617, total=   5.9s\n",
      "[CV] activation=relu, batch_size=10, dropout=0.5, layer_size=64, optimizer=Adam \n",
      "[CV]  activation=relu, batch_size=10, dropout=0.5, layer_size=64, optimizer=Adam, score=0.660, total=   5.9s\n",
      "[CV] activation=relu, batch_size=10, dropout=0.5, layer_size=64, optimizer=Adam \n",
      "[CV]  activation=relu, batch_size=10, dropout=0.5, layer_size=64, optimizer=Adam, score=0.676, total=   6.3s\n",
      "[CV] activation=relu, batch_size=10, dropout=0.5, layer_size=64, optimizer=Adamax \n",
      "[CV]  activation=relu, batch_size=10, dropout=0.5, layer_size=64, optimizer=Adamax, score=0.617, total=   6.2s\n",
      "[CV] activation=relu, batch_size=10, dropout=0.5, layer_size=64, optimizer=Adamax \n",
      "[CV]  activation=relu, batch_size=10, dropout=0.5, layer_size=64, optimizer=Adamax, score=0.660, total=   6.2s\n",
      "[CV] activation=relu, batch_size=10, dropout=0.5, layer_size=64, optimizer=Adamax \n",
      "[CV]  activation=relu, batch_size=10, dropout=0.5, layer_size=64, optimizer=Adamax, score=0.676, total=   6.5s\n",
      "[CV] activation=relu, batch_size=10, dropout=0.4, layer_size=24, optimizer=Adam \n",
      "[CV]  activation=relu, batch_size=10, dropout=0.4, layer_size=24, optimizer=Adam, score=0.617, total=   7.6s\n",
      "[CV] activation=relu, batch_size=10, dropout=0.4, layer_size=24, optimizer=Adam \n",
      "[CV]  activation=relu, batch_size=10, dropout=0.4, layer_size=24, optimizer=Adam, score=0.660, total=   7.6s\n",
      "[CV] activation=relu, batch_size=10, dropout=0.4, layer_size=24, optimizer=Adam \n",
      "[CV]  activation=relu, batch_size=10, dropout=0.4, layer_size=24, optimizer=Adam, score=0.676, total=   7.4s\n",
      "[CV] activation=relu, batch_size=10, dropout=0.4, layer_size=24, optimizer=Adamax \n",
      "[CV]  activation=relu, batch_size=10, dropout=0.4, layer_size=24, optimizer=Adamax, score=0.617, total=   7.4s\n",
      "[CV] activation=relu, batch_size=10, dropout=0.4, layer_size=24, optimizer=Adamax \n",
      "[CV]  activation=relu, batch_size=10, dropout=0.4, layer_size=24, optimizer=Adamax, score=0.660, total=   7.2s\n",
      "[CV] activation=relu, batch_size=10, dropout=0.4, layer_size=24, optimizer=Adamax \n",
      "[CV]  activation=relu, batch_size=10, dropout=0.4, layer_size=24, optimizer=Adamax, score=0.676, total=   9.3s\n",
      "[CV] activation=relu, batch_size=10, dropout=0.4, layer_size=64, optimizer=Adam \n",
      "[CV]  activation=relu, batch_size=10, dropout=0.4, layer_size=64, optimizer=Adam, score=0.617, total=  10.4s\n",
      "[CV] activation=relu, batch_size=10, dropout=0.4, layer_size=64, optimizer=Adam \n",
      "[CV]  activation=relu, batch_size=10, dropout=0.4, layer_size=64, optimizer=Adam, score=0.676, total=   8.3s\n",
      "[CV] activation=relu, batch_size=10, dropout=0.4, layer_size=64, optimizer=Adam \n",
      "[CV]  activation=relu, batch_size=10, dropout=0.4, layer_size=64, optimizer=Adam, score=0.676, total=   9.1s\n",
      "[CV] activation=relu, batch_size=10, dropout=0.4, layer_size=64, optimizer=Adamax \n",
      "[CV]  activation=relu, batch_size=10, dropout=0.4, layer_size=64, optimizer=Adamax, score=0.617, total=   8.7s\n",
      "[CV] activation=relu, batch_size=10, dropout=0.4, layer_size=64, optimizer=Adamax \n",
      "[CV]  activation=relu, batch_size=10, dropout=0.4, layer_size=64, optimizer=Adamax, score=0.660, total=   9.0s\n",
      "[CV] activation=relu, batch_size=10, dropout=0.4, layer_size=64, optimizer=Adamax \n",
      "[CV]  activation=relu, batch_size=10, dropout=0.4, layer_size=64, optimizer=Adamax, score=0.676, total=   8.9s\n",
      "[CV] activation=relu, batch_size=10, dropout=0.3, layer_size=24, optimizer=Adam \n",
      "[CV]  activation=relu, batch_size=10, dropout=0.3, layer_size=24, optimizer=Adam, score=0.617, total=  10.5s\n",
      "[CV] activation=relu, batch_size=10, dropout=0.3, layer_size=24, optimizer=Adam \n",
      "[CV]  activation=relu, batch_size=10, dropout=0.3, layer_size=24, optimizer=Adam, score=0.684, total=  10.0s\n",
      "[CV] activation=relu, batch_size=10, dropout=0.3, layer_size=24, optimizer=Adam \n",
      "[CV]  activation=relu, batch_size=10, dropout=0.3, layer_size=24, optimizer=Adam, score=0.676, total=  10.0s\n",
      "[CV] activation=relu, batch_size=10, dropout=0.3, layer_size=24, optimizer=Adamax \n",
      "[CV]  activation=relu, batch_size=10, dropout=0.3, layer_size=24, optimizer=Adamax, score=0.617, total=   9.9s\n",
      "[CV] activation=relu, batch_size=10, dropout=0.3, layer_size=24, optimizer=Adamax \n",
      "[CV]  activation=relu, batch_size=10, dropout=0.3, layer_size=24, optimizer=Adamax, score=0.660, total=  10.6s\n",
      "[CV] activation=relu, batch_size=10, dropout=0.3, layer_size=24, optimizer=Adamax \n",
      "[CV]  activation=relu, batch_size=10, dropout=0.3, layer_size=24, optimizer=Adamax, score=0.676, total=  10.5s\n",
      "[CV] activation=relu, batch_size=10, dropout=0.3, layer_size=64, optimizer=Adam \n",
      "[CV]  activation=relu, batch_size=10, dropout=0.3, layer_size=64, optimizer=Adam, score=0.617, total=  10.7s\n",
      "[CV] activation=relu, batch_size=10, dropout=0.3, layer_size=64, optimizer=Adam \n",
      "[CV]  activation=relu, batch_size=10, dropout=0.3, layer_size=64, optimizer=Adam, score=0.660, total=  10.8s\n",
      "[CV] activation=relu, batch_size=10, dropout=0.3, layer_size=64, optimizer=Adam \n",
      "[CV]  activation=relu, batch_size=10, dropout=0.3, layer_size=64, optimizer=Adam, score=0.672, total=  11.4s\n",
      "[CV] activation=relu, batch_size=10, dropout=0.3, layer_size=64, optimizer=Adamax \n",
      "[CV]  activation=relu, batch_size=10, dropout=0.3, layer_size=64, optimizer=Adamax, score=0.617, total=  11.6s\n",
      "[CV] activation=relu, batch_size=10, dropout=0.3, layer_size=64, optimizer=Adamax \n",
      "[CV]  activation=relu, batch_size=10, dropout=0.3, layer_size=64, optimizer=Adamax, score=0.660, total=  11.3s\n",
      "[CV] activation=relu, batch_size=10, dropout=0.3, layer_size=64, optimizer=Adamax \n",
      "[CV]  activation=relu, batch_size=10, dropout=0.3, layer_size=64, optimizer=Adamax, score=0.676, total=  10.9s\n",
      "[CV] activation=relu, batch_size=20, dropout=0.5, layer_size=24, optimizer=Adam \n",
      "[CV]  activation=relu, batch_size=20, dropout=0.5, layer_size=24, optimizer=Adam, score=0.617, total=  11.4s\n",
      "[CV] activation=relu, batch_size=20, dropout=0.5, layer_size=24, optimizer=Adam \n",
      "[CV]  activation=relu, batch_size=20, dropout=0.5, layer_size=24, optimizer=Adam, score=0.660, total=  13.1s\n",
      "[CV] activation=relu, batch_size=20, dropout=0.5, layer_size=24, optimizer=Adam \n",
      "[CV]  activation=relu, batch_size=20, dropout=0.5, layer_size=24, optimizer=Adam, score=0.676, total=  12.3s\n",
      "[CV] activation=relu, batch_size=20, dropout=0.5, layer_size=24, optimizer=Adamax \n",
      "[CV]  activation=relu, batch_size=20, dropout=0.5, layer_size=24, optimizer=Adamax, score=0.617, total=  11.6s\n",
      "[CV] activation=relu, batch_size=20, dropout=0.5, layer_size=24, optimizer=Adamax \n",
      "[CV]  activation=relu, batch_size=20, dropout=0.5, layer_size=24, optimizer=Adamax, score=0.660, total=  11.7s\n",
      "[CV] activation=relu, batch_size=20, dropout=0.5, layer_size=24, optimizer=Adamax \n",
      "[CV]  activation=relu, batch_size=20, dropout=0.5, layer_size=24, optimizer=Adamax, score=0.676, total=  12.1s\n",
      "[CV] activation=relu, batch_size=20, dropout=0.5, layer_size=64, optimizer=Adam \n",
      "[CV]  activation=relu, batch_size=20, dropout=0.5, layer_size=64, optimizer=Adam, score=0.617, total=  14.5s\n",
      "[CV] activation=relu, batch_size=20, dropout=0.5, layer_size=64, optimizer=Adam \n",
      "[CV]  activation=relu, batch_size=20, dropout=0.5, layer_size=64, optimizer=Adam, score=0.660, total=  13.4s\n",
      "[CV] activation=relu, batch_size=20, dropout=0.5, layer_size=64, optimizer=Adam \n",
      "[CV]  activation=relu, batch_size=20, dropout=0.5, layer_size=64, optimizer=Adam, score=0.676, total=  13.7s\n",
      "[CV] activation=relu, batch_size=20, dropout=0.5, layer_size=64, optimizer=Adamax \n"
     ]
    },
    {
     "name": "stdout",
     "output_type": "stream",
     "text": [
      "[CV]  activation=relu, batch_size=20, dropout=0.5, layer_size=64, optimizer=Adamax, score=0.617, total=  13.6s\n",
      "[CV] activation=relu, batch_size=20, dropout=0.5, layer_size=64, optimizer=Adamax \n",
      "[CV]  activation=relu, batch_size=20, dropout=0.5, layer_size=64, optimizer=Adamax, score=0.660, total=  15.4s\n",
      "[CV] activation=relu, batch_size=20, dropout=0.5, layer_size=64, optimizer=Adamax \n",
      "[CV]  activation=relu, batch_size=20, dropout=0.5, layer_size=64, optimizer=Adamax, score=0.676, total=  15.9s\n",
      "[CV] activation=relu, batch_size=20, dropout=0.4, layer_size=24, optimizer=Adam \n",
      "[CV]  activation=relu, batch_size=20, dropout=0.4, layer_size=24, optimizer=Adam, score=0.613, total=  15.5s\n",
      "[CV] activation=relu, batch_size=20, dropout=0.4, layer_size=24, optimizer=Adam \n",
      "[CV]  activation=relu, batch_size=20, dropout=0.4, layer_size=24, optimizer=Adam, score=0.660, total=  15.1s\n",
      "[CV] activation=relu, batch_size=20, dropout=0.4, layer_size=24, optimizer=Adam \n",
      "[CV]  activation=relu, batch_size=20, dropout=0.4, layer_size=24, optimizer=Adam, score=0.676, total=  15.6s\n",
      "[CV] activation=relu, batch_size=20, dropout=0.4, layer_size=24, optimizer=Adamax \n",
      "[CV]  activation=relu, batch_size=20, dropout=0.4, layer_size=24, optimizer=Adamax, score=0.617, total=  15.8s\n",
      "[CV] activation=relu, batch_size=20, dropout=0.4, layer_size=24, optimizer=Adamax \n",
      "[CV]  activation=relu, batch_size=20, dropout=0.4, layer_size=24, optimizer=Adamax, score=0.660, total=  16.7s\n",
      "[CV] activation=relu, batch_size=20, dropout=0.4, layer_size=24, optimizer=Adamax \n",
      "[CV]  activation=relu, batch_size=20, dropout=0.4, layer_size=24, optimizer=Adamax, score=0.676, total=  16.3s\n",
      "[CV] activation=relu, batch_size=20, dropout=0.4, layer_size=64, optimizer=Adam \n",
      "[CV]  activation=relu, batch_size=20, dropout=0.4, layer_size=64, optimizer=Adam, score=0.617, total=  16.5s\n",
      "[CV] activation=relu, batch_size=20, dropout=0.4, layer_size=64, optimizer=Adam \n",
      "[CV]  activation=relu, batch_size=20, dropout=0.4, layer_size=64, optimizer=Adam, score=0.660, total=  19.2s\n",
      "[CV] activation=relu, batch_size=20, dropout=0.4, layer_size=64, optimizer=Adam \n",
      "[CV]  activation=relu, batch_size=20, dropout=0.4, layer_size=64, optimizer=Adam, score=0.676, total=  16.0s\n",
      "[CV] activation=relu, batch_size=20, dropout=0.4, layer_size=64, optimizer=Adamax \n",
      "[CV]  activation=relu, batch_size=20, dropout=0.4, layer_size=64, optimizer=Adamax, score=0.617, total=  16.3s\n",
      "[CV] activation=relu, batch_size=20, dropout=0.4, layer_size=64, optimizer=Adamax \n",
      "[CV]  activation=relu, batch_size=20, dropout=0.4, layer_size=64, optimizer=Adamax, score=0.660, total=  16.9s\n",
      "[CV] activation=relu, batch_size=20, dropout=0.4, layer_size=64, optimizer=Adamax \n",
      "[CV]  activation=relu, batch_size=20, dropout=0.4, layer_size=64, optimizer=Adamax, score=0.676, total=  16.1s\n",
      "[CV] activation=relu, batch_size=20, dropout=0.3, layer_size=24, optimizer=Adam \n",
      "[CV]  activation=relu, batch_size=20, dropout=0.3, layer_size=24, optimizer=Adam, score=0.617, total=  17.0s\n",
      "[CV] activation=relu, batch_size=20, dropout=0.3, layer_size=24, optimizer=Adam \n",
      "[CV]  activation=relu, batch_size=20, dropout=0.3, layer_size=24, optimizer=Adam, score=0.660, total=  19.7s\n",
      "[CV] activation=relu, batch_size=20, dropout=0.3, layer_size=24, optimizer=Adam \n",
      "[CV]  activation=relu, batch_size=20, dropout=0.3, layer_size=24, optimizer=Adam, score=0.676, total=  19.4s\n",
      "[CV] activation=relu, batch_size=20, dropout=0.3, layer_size=24, optimizer=Adamax \n",
      "[CV]  activation=relu, batch_size=20, dropout=0.3, layer_size=24, optimizer=Adamax, score=0.617, total=  18.7s\n",
      "[CV] activation=relu, batch_size=20, dropout=0.3, layer_size=24, optimizer=Adamax \n"
     ]
    }
   ],
   "source": [
    "m = KerasClassifier(build_fn=model_diabetes, ,epochs = epochs, verbose=0)  # to use it with scikit\n",
    "\n",
    "grid = GridSearchCV(cv=3, estimator=m, param_grid=param_grid, n_jobs=1, verbose=3)\n",
    "grid_result = grid.fit(X, y)\n",
    "\n",
    "# summarize results\n",
    "print(\"Best: %f using %s\" % (grid_result.best_score_, grid_result.best_params_))\n",
    "means = grid_result.cv_results_['mean_test_score']\n",
    "stds = grid_result.cv_results_['std_test_score']\n",
    "params = grid_result.cv_results_['params']\n",
    "\n",
    "results = pd.DataFrame({'Mean':means[:],'std':stds[:],'parameters':params[:]})\n",
    "results = results.sort_values(by=['Mean'],ascending=[0])\n",
    "print(tabulate(results, headers='keys', tablefmt='psql'))"
   ]
  },
  {
   "cell_type": "code",
   "execution_count": null,
   "metadata": {},
   "outputs": [],
   "source": [
    "param_grid = {\n",
    "    'layer_size':[128,256,512],\n",
    "    'activation': ['elu','relu'],\n",
    "    'optimizer' : ['Adam'],\n",
    "    'batch_size': [5,10,20]\n",
    "}"
   ]
  },
  {
   "cell_type": "code",
   "execution_count": null,
   "metadata": {},
   "outputs": [],
   "source": [
    "m = KerasClassifier(build_fn=model_diabetes, ,epochs = epochs, verbose=0)  \n",
    "grid_result = grid.fit(X, y)\n",
    "\n",
    "# summarize results\n",
    "print(\"Best: %f using %s\" % (grid_result.best_score_, grid_result.best_params_))\n",
    "means = grid_result.cv_results_['mean_test_score']\n",
    "stds = grid_result.cv_results_['std_test_score']\n",
    "params = grid_result.cv_results_['params']\n",
    "\n",
    "results = pd.DataFrame({'Mean':means[:],'std':stds[:],'parameters':params[:]})\n",
    "results = results.sort_values(by=['Mean'],ascending=[0])\n",
    "print(tabulate(results, headers='keys', tablefmt='psql'))"
   ]
  }
 ],
 "metadata": {
  "kernelspec": {
   "display_name": "Python 3",
   "language": "python",
   "name": "python3"
  },
  "language_info": {
   "codemirror_mode": {
    "name": "ipython",
    "version": 3
   },
   "file_extension": ".py",
   "mimetype": "text/x-python",
   "name": "python",
   "nbconvert_exporter": "python",
   "pygments_lexer": "ipython3",
   "version": "3.6.4"
  }
 },
 "nbformat": 4,
 "nbformat_minor": 2
}
