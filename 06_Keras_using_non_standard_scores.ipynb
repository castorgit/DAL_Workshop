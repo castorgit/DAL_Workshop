{
 "cells": [
  {
   "cell_type": "markdown",
   "metadata": {},
   "source": [
    "## Defining ad-hoc scoring capabilities in Keras\n",
    "### using a DOS attack file (label normal/attack)"
   ]
  },
  {
   "cell_type": "code",
   "execution_count": 19,
   "metadata": {},
   "outputs": [],
   "source": [
    "import os\n",
    "os.environ[\"CUDA_VISIBLE_DEVICES\"] = \"0\" # to disable GPU\n",
    "\n",
    "import sys\n",
    "import pandas as pd\n",
    "import numpy as np\n",
    "\n",
    "from keras import Sequential\n",
    "from sklearn.preprocessing import StandardScaler, LabelEncoder\n",
    "from sklearn.model_selection import train_test_split\n",
    "from keras.layers import Dense\n",
    "from keras.utils import np_utils\n",
    "from tensorflow.keras.utils import to_categorical\n",
    "from keras import backend as K\n",
    "import tensorflow as tf\n",
    "import matplotlib.pyplot as plt\n"
   ]
  },
  {
   "cell_type": "markdown",
   "metadata": {},
   "source": [
    "    Three classical score Measures (f1, recall, precision)"
   ]
  },
  {
   "cell_type": "code",
   "execution_count": 14,
   "metadata": {},
   "outputs": [],
   "source": [
    "def recall_m(y_true, y_pred):\n",
    "        true_positives = K.sum(K.round(K.clip(y_true * y_pred, 0, 1)))\n",
    "        possible_positives = K.sum(K.round(K.clip(y_true, 0, 1)))\n",
    "        recall = true_positives / (possible_positives + K.epsilon())\n",
    "        return recall\n",
    "\n",
    "def precision_m(y_true, y_pred):\n",
    "        true_positives = K.sum(K.round(K.clip(y_true * y_pred, 0, 1)))\n",
    "        predicted_positives = K.sum(K.round(K.clip(y_pred, 0, 1)))\n",
    "        precision = true_positives / (predicted_positives + K.epsilon())\n",
    "        return precision\n",
    "\n",
    "def f1_m(y_true, y_pred):\n",
    "    precision = precision_m(y_true, y_pred)\n",
    "    recall = recall_m(y_true, y_pred)\n",
    "    return 2*((precision*recall)/(precision+recall+K.epsilon()))"
   ]
  },
  {
   "cell_type": "markdown",
   "metadata": {},
   "source": [
    "    Model definition with non standard measures"
   ]
  },
  {
   "cell_type": "code",
   "execution_count": 8,
   "metadata": {},
   "outputs": [],
   "source": [
    "def MLP_model():\n",
    "   model = Sequential()\n",
    "   model.add(Dense(128, activation='relu', kernel_initializer='random_normal', input_dim=122))\n",
    "   model.add(Dense(128, activation='relu', kernel_initializer='random_normal'))\n",
    "   model.add(Dense(2, activation='sigmoid', kernel_initializer='random_normal'))\n",
    "   model.compile(optimizer ='adam',loss='binary_crossentropy', metrics=['acc',f1_m,precision_m, recall_m])\n",
    "   return model"
   ]
  },
  {
   "cell_type": "markdown",
   "metadata": {},
   "source": [
    "    Read and prepare data"
   ]
  },
  {
   "cell_type": "code",
   "execution_count": 11,
   "metadata": {},
   "outputs": [],
   "source": [
    "data = pd.read_csv(\"./DAL_workshop_datasets/DoS_df.csv\")\n",
    "X_DoS = data.drop(columns='label')\n",
    "y_DoS = data.label\n",
    "\n",
    "y = np_utils.to_categorical(y_DoS) # t is categorical now\n",
    "scaler = StandardScaler()\n",
    "X = scaler.fit_transform(X_DoS)\n",
    "\n",
    "\n",
    "X_train, X_test, y_train, y_test = train_test_split(\n",
    "           X, y, test_size=0.20, random_state=42)"
   ]
  },
  {
   "cell_type": "markdown",
   "metadata": {},
   "source": [
    "    Fit and Score model"
   ]
  },
  {
   "cell_type": "code",
   "execution_count": 12,
   "metadata": {},
   "outputs": [
    {
     "name": "stdout",
     "output_type": "stream",
     "text": [
      "Epoch 1/10\n"
     ]
    },
    {
     "name": "stderr",
     "output_type": "stream",
     "text": [
      "2023-02-20 18:51:26.891712: E tensorflow/stream_executor/cuda/cuda_driver.cc:271] failed call to cuInit: CUDA_ERROR_NO_DEVICE: no CUDA-capable device is detected\n",
      "2023-02-20 18:51:26.891773: I tensorflow/stream_executor/cuda/cuda_diagnostics.cc:169] retrieving CUDA diagnostic information for host: manero-ThinkPad-P52s\n",
      "2023-02-20 18:51:26.891788: I tensorflow/stream_executor/cuda/cuda_diagnostics.cc:176] hostname: manero-ThinkPad-P52s\n",
      "2023-02-20 18:51:26.891958: I tensorflow/stream_executor/cuda/cuda_diagnostics.cc:200] libcuda reported version is: 470.161.3\n",
      "2023-02-20 18:51:26.892042: I tensorflow/stream_executor/cuda/cuda_diagnostics.cc:204] kernel reported version is: 470.161.3\n",
      "2023-02-20 18:51:26.892096: I tensorflow/stream_executor/cuda/cuda_diagnostics.cc:310] kernel version seems to match DSO: 470.161.3\n",
      "2023-02-20 18:51:26.893127: I tensorflow/core/platform/cpu_feature_guard.cc:193] This TensorFlow binary is optimized with oneAPI Deep Neural Network Library (oneDNN) to use the following CPU instructions in performance-critical operations:  AVX2 FMA\n",
      "To enable them in other operations, rebuild TensorFlow with the appropriate compiler flags.\n"
     ]
    },
    {
     "name": "stdout",
     "output_type": "stream",
     "text": [
      "1983/1983 [==============================] - 5s 2ms/step - loss: 0.0214 - acc: 0.9945 - f1_m: 0.9944 - precision_m: 0.9946 - recall_m: 0.9941 - val_loss: 0.0064 - val_acc: 0.9989 - val_f1_m: 0.9989 - val_precision_m: 0.9989 - val_recall_m: 0.9989\n",
      "Epoch 2/10\n",
      "1983/1983 [==============================] - 4s 2ms/step - loss: 0.0057 - acc: 0.9987 - f1_m: 0.9987 - precision_m: 0.9987 - recall_m: 0.9987 - val_loss: 0.0031 - val_acc: 0.9992 - val_f1_m: 0.9992 - val_precision_m: 0.9992 - val_recall_m: 0.9993\n",
      "Epoch 3/10\n",
      "1983/1983 [==============================] - 4s 2ms/step - loss: 0.0049 - acc: 0.9988 - f1_m: 0.9988 - precision_m: 0.9988 - recall_m: 0.9988 - val_loss: 0.0023 - val_acc: 0.9995 - val_f1_m: 0.9995 - val_precision_m: 0.9995 - val_recall_m: 0.9995\n",
      "Epoch 4/10\n",
      "1983/1983 [==============================] - 4s 2ms/step - loss: 0.0027 - acc: 0.9991 - f1_m: 0.9991 - precision_m: 0.9991 - recall_m: 0.9991 - val_loss: 0.0026 - val_acc: 0.9992 - val_f1_m: 0.9992 - val_precision_m: 0.9992 - val_recall_m: 0.9992\n",
      "Epoch 5/10\n",
      "1983/1983 [==============================] - 4s 2ms/step - loss: 0.0026 - acc: 0.9991 - f1_m: 0.9991 - precision_m: 0.9991 - recall_m: 0.9991 - val_loss: 0.0020 - val_acc: 0.9994 - val_f1_m: 0.9994 - val_precision_m: 0.9994 - val_recall_m: 0.9994\n",
      "Epoch 6/10\n",
      "1983/1983 [==============================] - 4s 2ms/step - loss: 0.0018 - acc: 0.9994 - f1_m: 0.9994 - precision_m: 0.9994 - recall_m: 0.9994 - val_loss: 0.0019 - val_acc: 0.9992 - val_f1_m: 0.9992 - val_precision_m: 0.9993 - val_recall_m: 0.9992\n",
      "Epoch 7/10\n",
      "1983/1983 [==============================] - 4s 2ms/step - loss: 0.0021 - acc: 0.9992 - f1_m: 0.9992 - precision_m: 0.9992 - recall_m: 0.9992 - val_loss: 0.0022 - val_acc: 0.9993 - val_f1_m: 0.9993 - val_precision_m: 0.9993 - val_recall_m: 0.9993\n",
      "Epoch 8/10\n",
      "1983/1983 [==============================] - 4s 2ms/step - loss: 0.0021 - acc: 0.9994 - f1_m: 0.9994 - precision_m: 0.9994 - recall_m: 0.9994 - val_loss: 0.0020 - val_acc: 0.9996 - val_f1_m: 0.9996 - val_precision_m: 0.9996 - val_recall_m: 0.9996\n",
      "Epoch 9/10\n",
      "1983/1983 [==============================] - 4s 2ms/step - loss: 0.0015 - acc: 0.9994 - f1_m: 0.9994 - precision_m: 0.9994 - recall_m: 0.9994 - val_loss: 0.0021 - val_acc: 0.9992 - val_f1_m: 0.9992 - val_precision_m: 0.9992 - val_recall_m: 0.9992\n",
      "Epoch 10/10\n",
      "1983/1983 [==============================] - 4s 2ms/step - loss: 0.0015 - acc: 0.9994 - f1_m: 0.9994 - precision_m: 0.9994 - recall_m: 0.9994 - val_loss: 0.0015 - val_acc: 0.9994 - val_f1_m: 0.9994 - val_precision_m: 0.9995 - val_recall_m: 0.9994\n"
     ]
    }
   ],
   "source": [
    "model = MLP_model()\n",
    "\n",
    "# fit the model\n",
    "history = model.fit(X_train, y_train, validation_split=0.3, epochs=10, verbose=1)\n",
    "\n",
    "# evaluate the model\n",
    "loss, accuracy, f1_score, precision, recall = model.evaluate(X_test, y_test, verbose=0)"
   ]
  },
  {
   "cell_type": "code",
   "execution_count": 21,
   "metadata": {},
   "outputs": [
    {
     "data": {
      "text/plain": [
       "{'loss': [0.02137228660285473,\n",
       "  0.005703735630959272,\n",
       "  0.004907746333628893,\n",
       "  0.0027046739123761654,\n",
       "  0.0026486513670533895,\n",
       "  0.0018155121942982078,\n",
       "  0.0021157804876565933,\n",
       "  0.0021465655881911516,\n",
       "  0.0014833132736384869,\n",
       "  0.0014722500927746296],\n",
       " 'acc': [0.9944822192192078,\n",
       "  0.9987072348594666,\n",
       "  0.9988333582878113,\n",
       "  0.99906986951828,\n",
       "  0.9991171360015869,\n",
       "  0.9993693828582764,\n",
       "  0.9992432594299316,\n",
       "  0.9993851780891418,\n",
       "  0.9993693828582764,\n",
       "  0.9993851780891418],\n",
       " 'f1_m': [0.9943701028823853,\n",
       "  0.9986845254898071,\n",
       "  0.9988105893135071,\n",
       "  0.9990779757499695,\n",
       "  0.9991252422332764,\n",
       "  0.9993616342544556,\n",
       "  0.9992358088493347,\n",
       "  0.9994011521339417,\n",
       "  0.9993776679039001,\n",
       "  0.9993776679039001],\n",
       " 'precision_m': [0.9946318864822388,\n",
       "  0.998661994934082,\n",
       "  0.9987885355949402,\n",
       "  0.9990859627723694,\n",
       "  0.9991332292556763,\n",
       "  0.9993696212768555,\n",
       "  0.999228298664093,\n",
       "  0.9994016289710999,\n",
       "  0.9993701577186584,\n",
       "  0.9993701577186584],\n",
       " 'recall_m': [0.9941376447677612,\n",
       "  0.9987077713012695,\n",
       "  0.9988338351249695,\n",
       "  0.9990702271461487,\n",
       "  0.9991174936294556,\n",
       "  0.9993538856506348,\n",
       "  0.9992435574531555,\n",
       "  0.9994011521339417,\n",
       "  0.999385416507721,\n",
       "  0.999385416507721],\n",
       " 'val_loss': [0.0064462884329259396,\n",
       "  0.003101017326116562,\n",
       "  0.0023120983969420195,\n",
       "  0.00262600090354681,\n",
       "  0.0019565531983971596,\n",
       "  0.0019408443477004766,\n",
       "  0.0021832287311553955,\n",
       "  0.002030906965956092,\n",
       "  0.002105632796883583,\n",
       "  0.0015281918458640575],\n",
       " 'val_acc': [0.9989332556724548,\n",
       "  0.9992275238037109,\n",
       "  0.9994850158691406,\n",
       "  0.9992275238037109,\n",
       "  0.9994114637374878,\n",
       "  0.9992275238037109,\n",
       "  0.9993010759353638,\n",
       "  0.9996321797370911,\n",
       "  0.9992275238037109,\n",
       "  0.9994482398033142],\n",
       " 'val_f1_m': [0.9989157319068909,\n",
       "  0.9992465972900391,\n",
       "  0.9994853138923645,\n",
       "  0.9992279410362244,\n",
       "  0.9994111657142639,\n",
       "  0.9992460608482361,\n",
       "  0.9993014931678772,\n",
       "  0.9996142387390137,\n",
       "  0.9992279410362244,\n",
       "  0.9994479417800903],\n",
       " 'val_precision_m': [0.9988982081413269,\n",
       "  0.9992290735244751,\n",
       "  0.9994853138923645,\n",
       "  0.9992279410362244,\n",
       "  0.9994485378265381,\n",
       "  0.9992647171020508,\n",
       "  0.9993014931678772,\n",
       "  0.9995967149734497,\n",
       "  0.9992279410362244,\n",
       "  0.9994853138923645],\n",
       " 'val_recall_m': [0.9989338517189026,\n",
       "  0.9992647171020508,\n",
       "  0.9994853138923645,\n",
       "  0.9992279410362244,\n",
       "  0.9993749856948853,\n",
       "  0.9992279410362244,\n",
       "  0.9993014931678772,\n",
       "  0.9996323585510254,\n",
       "  0.9992279410362244,\n",
       "  0.9994117617607117]}"
      ]
     },
     "execution_count": 21,
     "metadata": {},
     "output_type": "execute_result"
    }
   ],
   "source": [
    "history.history"
   ]
  },
  {
   "cell_type": "code",
   "execution_count": 29,
   "metadata": {},
   "outputs": [
    {
     "data": {
      "image/png": "[encoded data removed]",
      "text/plain": [
       "<Figure size 432x288 with 1 Axes>"
      ]
     },
     "metadata": {
      "needs_background": "light"
     },
     "output_type": "display_data"
    }
   ],
   "source": [
    "   plt.plot(history.history['acc'],label='accuracy')\n",
    "   plt.plot(history.history['val_acc'],label='val_accuracy')\n",
    "   plt.plot(history.history['f1_m'], label='f1')\n",
    "   plt.plot(history.history['precision_m'], label='precission')\n",
    "   plt.title('different scoring measures')\n",
    "   plt.ylabel('accuracy')\n",
    "   plt.xlabel('epoch')\n",
    "   plt.legend()\n",
    "   plt.show()"
   ]
  },
  {
   "cell_type": "code",
   "execution_count": null,
   "metadata": {},
   "outputs": [],
   "source": [
    "#EOF"
   ]
  }
 ],
 "metadata": {
  "kernelspec": {
   "display_name": "DL",
   "language": "python",
   "name": "dl"
  },
  "language_info": {
   "codemirror_mode": {
    "name": "ipython",
    "version": 3
   },
   "file_extension": ".py",
   "mimetype": "text/x-python",
   "name": "python",
   "nbconvert_exporter": "python",
   "pygments_lexer": "ipython3",
   "version": "3.8.12"
  }
 },
 "nbformat": 4,
 "nbformat_minor": 2
}
