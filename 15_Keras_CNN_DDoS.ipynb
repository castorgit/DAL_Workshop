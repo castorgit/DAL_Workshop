{
 "cells": [
  {
   "cell_type": "markdown",
   "metadata": {},
   "source": [
    "### CNN for DDoS intrusion detection"
   ]
  },
  {
   "cell_type": "code",
   "execution_count": 1,
   "metadata": {},
   "outputs": [
    {
     "name": "stderr",
     "output_type": "stream",
     "text": [
      "Using TensorFlow backend.\n"
     ]
    }
   ],
   "source": [
    "import numpy as np\n",
    "import pandas as pd\n",
    "\n",
    "from keras.layers import Conv1D, Dense, Dropout, Flatten, MaxPooling1D\n",
    "from keras.models import Sequential\n",
    "\n",
    "from keras import callbacks\n",
    "from keras.callbacks import CSVLogger\n",
    "\n",
    "from sklearn import metrics\n",
    "from sklearn.model_selection import train_test_split\n",
    "from sklearn.preprocessing import Normalizer\n",
    "import tensorflow as tf\n",
    "from sklearn.metrics import accuracy_score, recall_score, precision_score, f1_score\n",
    "tf.logging.set_verbosity(tf.logging.ERROR)"
   ]
  },
  {
   "cell_type": "markdown",
   "metadata": {},
   "source": [
    "Read and prepare dataset"
   ]
  },
  {
   "cell_type": "code",
   "execution_count": 2,
   "metadata": {},
   "outputs": [],
   "source": [
    "np.random.seed(667)  # randomize\n",
    "\n",
    "testdata = pd.read_csv(\"DDoS2007_spounged.csv\", header=None)\n",
    "\n",
    "\n",
    "#X = traindata.iloc[:,0:42]\n",
    "#Y = traindata.iloc[:,0]\n",
    "y_ini = testdata.iloc[:,0]\n",
    "X_ini = testdata.iloc[:,1:42]\n",
    "\n",
    "scaler = Normalizer().fit(X_ini)\n",
    "X_tras = scaler.transform(X_ini) #X Transformed\n",
    "\n",
    "# reshape input to be [samples, time steps, features]\n",
    "X = np.reshape(X_tras, (X_tras.shape[0],X_tras.shape[1],1))\n",
    "y = np.array(y_ini)\n",
    "\n",
    "X_train, X_test, y_train, y_test = train_test_split(X, y, test_size=0.3)"
   ]
  },
  {
   "cell_type": "markdown",
   "metadata": {},
   "source": [
    "CNN Structure"
   ]
  },
  {
   "cell_type": "code",
   "execution_count": 3,
   "metadata": {},
   "outputs": [],
   "source": [
    "cnn = Sequential()\n",
    "cnn.add(Conv1D(filters=16, kernel_size=3, strides=1, padding=\"same\",activation=\"relu\",input_shape=(41, 1)))\n",
    "cnn.add(Conv1D(filters=16, kernel_size=3, activation='relu'))\n",
    "cnn.add(MaxPooling1D(pool_size=(2)))\n",
    "cnn.add(Flatten())\n",
    "cnn.add(Dense(64, activation=\"relu\"))\n",
    "cnn.add(Dropout(0.5))\n",
    "cnn.add(Dense(1, activation=\"sigmoid\"))\n",
    "\n",
    "cnn.compile(loss=\"binary_crossentropy\", optimizer=\"adam\",metrics=['accuracy'])"
   ]
  },
  {
   "cell_type": "markdown",
   "metadata": {},
   "source": [
    "Training (FIT)"
   ]
  },
  {
   "cell_type": "code",
   "execution_count": 4,
   "metadata": {},
   "outputs": [
    {
     "name": "stdout",
     "output_type": "stream",
     "text": [
      "Train on 700000 samples, validate on 300001 samples\n",
      "Epoch 1/25\n",
      "700000/700000 [==============================] - 547s 781us/step - loss: 0.4718 - acc: 0.7717 - val_loss: 0.4169 - val_acc: 0.8072\n",
      "Epoch 2/25\n",
      "700000/700000 [==============================] - 514s 734us/step - loss: 0.4172 - acc: 0.8066 - val_loss: 0.3832 - val_acc: 0.8284\n",
      "Epoch 3/25\n",
      "700000/700000 [==============================] - 468s 669us/step - loss: 0.3901 - acc: 0.8249 - val_loss: 0.3554 - val_acc: 0.8430\n",
      "Epoch 4/25\n",
      "700000/700000 [==============================] - 480s 685us/step - loss: 0.3710 - acc: 0.8358 - val_loss: 0.3432 - val_acc: 0.8459\n",
      "Epoch 5/25\n",
      "700000/700000 [==============================] - 489s 698us/step - loss: 0.3597 - acc: 0.8419 - val_loss: 0.3351 - val_acc: 0.8517\n",
      "Epoch 6/25\n",
      "700000/700000 [==============================] - 483s 690us/step - loss: 0.3526 - acc: 0.8446 - val_loss: 0.3256 - val_acc: 0.8575\n",
      "Epoch 7/25\n",
      "700000/700000 [==============================] - 487s 695us/step - loss: 0.3482 - acc: 0.8470 - val_loss: 0.3238 - val_acc: 0.8568\n",
      "Epoch 8/25\n",
      "700000/700000 [==============================] - 493s 705us/step - loss: 0.3434 - acc: 0.8492 - val_loss: 0.3173 - val_acc: 0.8598\n",
      "Epoch 9/25\n",
      "700000/700000 [==============================] - 482s 689us/step - loss: 0.3400 - acc: 0.8504 - val_loss: 0.3161 - val_acc: 0.8611\n",
      "Epoch 10/25\n",
      "700000/700000 [==============================] - 490s 700us/step - loss: 0.3369 - acc: 0.8518 - val_loss: 0.3110 - val_acc: 0.8647\n",
      "Epoch 11/25\n",
      "700000/700000 [==============================] - 494s 705us/step - loss: 0.3337 - acc: 0.8532 - val_loss: 0.3047 - val_acc: 0.8642\n",
      "Epoch 12/25\n",
      "700000/700000 [==============================] - 506s 723us/step - loss: 0.3303 - acc: 0.8554 - val_loss: 0.3037 - val_acc: 0.8672\n",
      "Epoch 13/25\n",
      "700000/700000 [==============================] - 492s 703us/step - loss: 0.3283 - acc: 0.8563 - val_loss: 0.2998 - val_acc: 0.8676\n",
      "Epoch 14/25\n",
      "700000/700000 [==============================] - 462s 659us/step - loss: 0.3268 - acc: 0.8568 - val_loss: 0.2980 - val_acc: 0.8716\n",
      "Epoch 15/25\n",
      "700000/700000 [==============================] - 446s 638us/step - loss: 0.3239 - acc: 0.8583 - val_loss: 0.2935 - val_acc: 0.8732\n",
      "Epoch 16/25\n",
      "700000/700000 [==============================] - 452s 646us/step - loss: 0.3219 - acc: 0.8592 - val_loss: 0.2940 - val_acc: 0.8718\n",
      "Epoch 17/25\n",
      "700000/700000 [==============================] - 444s 634us/step - loss: 0.3203 - acc: 0.8598 - val_loss: 0.2876 - val_acc: 0.8757\n",
      "Epoch 18/25\n",
      "700000/700000 [==============================] - 442s 632us/step - loss: 0.3191 - acc: 0.8602 - val_loss: 0.2859 - val_acc: 0.8768\n",
      "Epoch 19/25\n",
      "700000/700000 [==============================] - 431s 616us/step - loss: 0.3176 - acc: 0.8613 - val_loss: 0.2919 - val_acc: 0.8732\n",
      "Epoch 20/25\n",
      "700000/700000 [==============================] - 433s 618us/step - loss: 0.3158 - acc: 0.8619 - val_loss: 0.2851 - val_acc: 0.8763\n",
      "Epoch 21/25\n",
      "700000/700000 [==============================] - 432s 618us/step - loss: 0.3145 - acc: 0.8624 - val_loss: 0.2827 - val_acc: 0.8781\n",
      "Epoch 22/25\n",
      "700000/700000 [==============================] - 450s 642us/step - loss: 0.3130 - acc: 0.8632 - val_loss: 0.2883 - val_acc: 0.8741\n",
      "Epoch 23/25\n",
      "700000/700000 [==============================] - 438s 626us/step - loss: 0.3125 - acc: 0.8633 - val_loss: 0.2827 - val_acc: 0.8777\n",
      "Epoch 24/25\n",
      "700000/700000 [==============================] - 433s 618us/step - loss: 0.3113 - acc: 0.8636 - val_loss: 0.2806 - val_acc: 0.8783\n",
      "Epoch 25/25\n",
      "700000/700000 [==============================] - 433s 618us/step - loss: 0.3093 - acc: 0.8650 - val_loss: 0.2813 - val_acc: 0.8775\n"
     ]
    },
    {
     "data": {
      "text/plain": [
       "<keras.callbacks.History at 0x24c58df3e80>"
      ]
     },
     "execution_count": 4,
     "metadata": {},
     "output_type": "execute_result"
    }
   ],
   "source": [
    "cnn.fit(X_train, y_train, epochs=25, validation_data=(X_test, y_test))"
   ]
  },
  {
   "cell_type": "markdown",
   "metadata": {},
   "source": [
    "Results"
   ]
  },
  {
   "cell_type": "code",
   "execution_count": 5,
   "metadata": {},
   "outputs": [
    {
     "name": "stdout",
     "output_type": "stream",
     "text": [
      "confusion matrix\n",
      "----------------------------------------------\n",
      "accuracy 0.8775\n",
      "recall 0.7018\n",
      "precision 0.9300\n",
      "f1score 0.7999\n",
      "confusion matrix [[189781   5530]\n",
      " [ 31219  73471]]\n",
      "----------------------------------------------\n"
     ]
    }
   ],
   "source": [
    "y_prob = cnn.predict(X_test)\n",
    "y_pred = (y_prob > 0.5).astype(np.int)\n",
    "np.savetxt(\"cnn.txt\", y_pred)\n",
    "accuracy = accuracy_score(y_test, y_pred)\n",
    "recall = recall_score(y_test, y_pred , average=\"binary\")\n",
    "precision = precision_score(y_test, y_pred , average=\"binary\")\n",
    "f1 = f1_score(y_test, y_pred, average=\"binary\")\n",
    "\n",
    "print(\"confusion matrix\")\n",
    "print(\"----------------------------------------------\")\n",
    "print(\"accuracy %.4f\" %accuracy)\n",
    "print(\"recall %.4f\" %recall)\n",
    "print(\"precision %.4f\" %precision)\n",
    "print(\"f1score %.4f\" %f1)\n",
    "cm = metrics.confusion_matrix(y_test, y_pred)\n",
    "print(\"confusion matrix\", cm)\n",
    "print(\"----------------------------------------------\")"
   ]
  }
 ],
 "metadata": {
  "kernelspec": {
   "display_name": "Python 3",
   "language": "python",
   "name": "python3"
  },
  "language_info": {
   "codemirror_mode": {
    "name": "ipython",
    "version": 3
   },
   "file_extension": ".py",
   "mimetype": "text/x-python",
   "name": "python",
   "nbconvert_exporter": "python",
   "pygments_lexer": "ipython3",
   "version": "3.6.4"
  }
 },
 "nbformat": 4,
 "nbformat_minor": 2
}
