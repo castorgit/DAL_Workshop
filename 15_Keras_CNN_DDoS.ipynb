{
 "cells": [
  {
   "cell_type": "markdown",
   "metadata": {},
   "source": [
    "### CNN for DDoS intrusion detection"
   ]
  },
  {
   "cell_type": "code",
   "execution_count": 13,
   "metadata": {},
   "outputs": [],
   "source": [
    "import numpy as np\n",
    "import pandas as pd\n",
    "\n",
    "from keras.layers import Conv1D, Dense, Dropout, Flatten, MaxPooling1D\n",
    "from keras.models import Sequential\n",
    "\n",
    "from keras import callbacks\n",
    "from keras.callbacks import CSVLogger\n",
    "\n",
    "from sklearn import metrics\n",
    "from sklearn.model_selection import train_test_split\n",
    "from sklearn.preprocessing import Normalizer\n",
    "import tensorflow as tf\n",
    "from sklearn.metrics import accuracy_score, recall_score, precision_score, f1_score\n",
    "tf.logging.set_verbosity(tf.logging.ERROR)"
   ]
  },
  {
   "cell_type": "markdown",
   "metadata": {},
   "source": [
    "Read and prepare dataset"
   ]
  },
  {
   "cell_type": "code",
   "execution_count": 4,
   "metadata": {},
   "outputs": [],
   "source": [
    "np.random.seed(667)  # randomize\n",
    "\n",
    "testdata = pd.read_csv(\"DDoS2007_spounged.csv\", header=None)\n",
    "\n",
    "\n",
    "#X = traindata.iloc[:,0:42]\n",
    "#Y = traindata.iloc[:,0]\n",
    "y_ini = testdata.iloc[:,0]\n",
    "X_ini = testdata.iloc[:,1:42]\n",
    "\n",
    "scaler = Normalizer().fit(X_ini)\n",
    "X_tras = scaler.transform(X_ini) #X Transformed\n",
    "\n",
    "# reshape input to be [samples, time steps, features]\n",
    "X = np.reshape(X_tras, (X_tras.shape[0],X_tras.shape[1],1))\n",
    "y = np.array(y_ini)\n",
    "\n",
    "X_train, X_test, y_train, y_test = train_test_split(X, y, test_size=0.3)"
   ]
  },
  {
   "cell_type": "markdown",
   "metadata": {},
   "source": [
    "CNN Structure"
   ]
  },
  {
   "cell_type": "code",
   "execution_count": 8,
   "metadata": {},
   "outputs": [],
   "source": [
    "cnn = Sequential()\n",
    "cnn.add(Conv1D(filters=16, kernel_size=3, strides=1, padding=\"same\",activation=\"relu\",input_shape=(41, 1)))\n",
    "cnn.add(Conv1D(filters=16, kernel_size=3, activation='relu'))\n",
    "cnn.add(MaxPooling1D(pool_size=(2)))\n",
    "cnn.add(Flatten())\n",
    "cnn.add(Dense(64, activation=\"relu\"))\n",
    "cnn.add(Dropout(0.5))\n",
    "cnn.add(Dense(1, activation=\"sigmoid\"))\n",
    "\n",
    "cnn.compile(loss=\"binary_crossentropy\", optimizer=\"adam\",metrics=['accuracy'])"
   ]
  },
  {
   "cell_type": "markdown",
   "metadata": {},
   "source": [
    "Training (FIT)"
   ]
  },
  {
   "cell_type": "code",
   "execution_count": 10,
   "metadata": {},
   "outputs": [
    {
     "name": "stdout",
     "output_type": "stream",
     "text": [
      "Train on 700000 samples, validate on 300001 samples\n",
      "Epoch 1/3\n",
      "700000/700000 [==============================] - 512s 731us/step - loss: 0.4593 - acc: 0.7794 - val_loss: 0.4053 - val_acc: 0.8165\n",
      "Epoch 2/3\n",
      "700000/700000 [==============================] - 4861s 7ms/step - loss: 0.3972 - acc: 0.8195 - val_loss: 0.3603 - val_acc: 0.8377\n",
      "Epoch 3/3\n",
      "700000/700000 [==============================] - 498s 711us/step - loss: 0.3698 - acc: 0.8373 - val_loss: 0.3427 - val_acc: 0.8460\n"
     ]
    },
    {
     "data": {
      "text/plain": [
       "<keras.callbacks.History at 0x1f202b65470>"
      ]
     },
     "execution_count": 10,
     "metadata": {},
     "output_type": "execute_result"
    }
   ],
   "source": [
    "cnn.fit(X_train, y_train, epochs=3, validation_data=(X_test, y_test))"
   ]
  },
  {
   "cell_type": "markdown",
   "metadata": {},
   "source": [
    "Results"
   ]
  },
  {
   "cell_type": "code",
   "execution_count": 15,
   "metadata": {},
   "outputs": [
    {
     "name": "stdout",
     "output_type": "stream",
     "text": [
      "confusion matrix\n",
      "----------------------------------------------\n",
      "accuracy 0.8460\n",
      "recall 0.6311\n",
      "precision 0.8972\n",
      "f1score 0.7410\n",
      "confusion matrix [[187743   7568]\n",
      " [ 38622  66068]]\n",
      "----------------------------------------------\n"
     ]
    }
   ],
   "source": [
    "y_prob = cnn.predict(X_test)\n",
    "y_pred = (y_prob > 0.5).astype(np.int)\n",
    "np.savetxt(\"cnn.txt\", y_pred)\n",
    "accuracy = accuracy_score(y_test, y_pred)\n",
    "recall = recall_score(y_test, y_pred , average=\"binary\")\n",
    "precision = precision_score(y_test, y_pred , average=\"binary\")\n",
    "f1 = f1_score(y_test, y_pred, average=\"binary\")\n",
    "\n",
    "print(\"confusion matrix\")\n",
    "print(\"----------------------------------------------\")\n",
    "print(\"accuracy %.4f\" %accuracy)\n",
    "print(\"recall %.4f\" %recall)\n",
    "print(\"precision %.4f\" %precision)\n",
    "print(\"f1score %.4f\" %f1)\n",
    "cm = metrics.confusion_matrix(y_test, y_pred)\n",
    "print(\"confusion matrix\", cm)\n",
    "print(\"----------------------------------------------\")"
   ]
  },
  {
   "cell_type": "code",
   "execution_count": null,
   "metadata": {},
   "outputs": [],
   "source": []
  }
 ],
 "metadata": {
  "kernelspec": {
   "display_name": "Python 3",
   "language": "python",
   "name": "python3"
  },
  "language_info": {
   "codemirror_mode": {
    "name": "ipython",
    "version": 3
   },
   "file_extension": ".py",
   "mimetype": "text/x-python",
   "name": "python",
   "nbconvert_exporter": "python",
   "pygments_lexer": "ipython3",
   "version": "3.6.4"
  }
 },
 "nbformat": 4,
 "nbformat_minor": 2
}
