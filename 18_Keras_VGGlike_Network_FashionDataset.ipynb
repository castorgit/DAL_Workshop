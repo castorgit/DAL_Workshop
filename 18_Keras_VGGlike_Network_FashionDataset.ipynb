{
 "cells": [
  {
   "cell_type": "markdown",
   "metadata": {},
   "source": [
    "Small version CNN VGG network"
   ]
  },
  {
   "cell_type": "code",
   "execution_count": 47,
   "metadata": {},
   "outputs": [
    {
     "name": "stderr",
     "output_type": "stream",
     "text": [
      "UsageError: Line magic function `%matplotlibe` not found.\n"
     ]
    }
   ],
   "source": [
    "from keras.models import Sequential\n",
    "from keras.layers.normalization import BatchNormalization\n",
    "from keras.layers.convolutional import Conv2D\n",
    "from keras.layers.convolutional import MaxPooling2D\n",
    "from keras.layers.core import Activation\n",
    "from keras.layers.core import Flatten\n",
    "from keras.layers.core import Dropout\n",
    "from keras.layers.core import Dense\n",
    "from keras import backend as K\n",
    "from keras.optimizers import SGD\n",
    "from keras.datasets import fashion_mnist\n",
    "from keras.utils import to_categorical\n",
    "import matplotlib.pyplot as plt\n",
    "%matplotlibe inline\n",
    "\n",
    "def Analyze_training(h):\n",
    "# summarize history for accuracy\n",
    "   plt.plot(h.history['acc'])\n",
    "   plt.plot(h.history['val_acc'])\n",
    "   plt.title('model accuracy')\n",
    "   plt.ylabel('accuracy')\n",
    "   plt.xlabel('epoch')\n",
    "   plt.legend(['train', 'test'], loc='upper left')\n",
    "   plt.show()\n",
    "# summarize history for loss\n",
    "   plt.plot(h.history['loss'])\n",
    "   plt.plot(h.history['val_loss'])\n",
    "   plt.title('model loss')\n",
    "   plt.ylabel('loss')\n",
    "   plt.xlabel('epoch')\n",
    "   plt.legend(['train', 'test'], loc='upper left')\n",
    "   plt.show()\n",
    "   return"
   ]
  },
  {
   "cell_type": "markdown",
   "metadata": {},
   "source": [
    "Read Dataset (print 3 samples)"
   ]
  },
  {
   "cell_type": "code",
   "execution_count": 38,
   "metadata": {},
   "outputs": [
    {
     "name": "stdout",
     "output_type": "stream",
     "text": [
      "Train:  (60000, 28, 28) (60000,)\n",
      "Test:  (10000, 28, 28) (10000,)\n"
     ]
    }
   ],
   "source": [
    "((X_train, y_train), (X_test, y_test)) = fashion_mnist.load_data()\n",
    "# Dataset Summary\n",
    "print('Train: ', X_train.shape, y_train.shape)\n",
    "print('Test: ',  X_test.shape, y_test.shape)\n",
    "# plot first 6  images\n",
    "for i in range(6):\n",
    "   plt.subplot(330 + 1 + i)\n",
    "   plt.imshow(X_train[i], cmap=plt.get_cmap('gray'))\n",
    "plt.show()"
   ]
  },
  {
   "cell_type": "markdown",
   "metadata": {},
   "source": [
    "Data preparation reshape single color scale and hot encode labels"
   ]
  },
  {
   "cell_type": "code",
   "execution_count": 39,
   "metadata": {},
   "outputs": [
    {
     "name": "stdout",
     "output_type": "stream",
     "text": [
      "before (10000,)\n",
      "(10000, 10)\n"
     ]
    }
   ],
   "source": [
    "# reshape dataset to have a single channel\n",
    "X_train = X_train.reshape((X_train.shape[0], 28, 28, 1))\n",
    "X_test  = X_test.reshape((X_test.shape[0], 28, 28, 1))\n",
    "# one hot encode labels\n",
    "print(\"before\",y_test.shape)\n",
    "y_train = to_categorical(y_train)\n",
    "y_test  = to_categorical(y_test)\n",
    "# are numbers float? just make sure\n",
    "train_norm = X_train.astype('float32')\n",
    "test_norm = X_test.astype('float32')\n",
    "# normalize \n",
    "X_train = train_norm / 255.0\n",
    "X_test = test_norm / 255.0\n",
    "print(y_test.shape)"
   ]
  },
  {
   "cell_type": "markdown",
   "metadata": {},
   "source": [
    "CNN Network"
   ]
  },
  {
   "cell_type": "code",
   "execution_count": 40,
   "metadata": {},
   "outputs": [],
   "source": [
    "def define_CNN():\n",
    "   model = Sequential()\n",
    "   model.add(Conv2D(64, (3, 3), padding='same', activation='relu', kernel_initializer='he_uniform', input_shape=(28, 28, 1)))\n",
    "   model.add(MaxPooling2D((2, 2)))\n",
    "   model.add(Flatten())\n",
    "   model.add(Dense(100, activation='relu', kernel_initializer='he_uniform'))\n",
    "   model.add(Dense(10, activation='softmax'))\n",
    "\n",
    "   opt = SGD(lr=0.01, momentum=0.9)\n",
    "   model.compile(optimizer=opt, loss='categorical_crossentropy', metrics=['accuracy'])\n",
    "   model.summary()\n",
    "   return model"
   ]
  },
  {
   "cell_type": "code",
   "execution_count": 41,
   "metadata": {},
   "outputs": [
    {
     "name": "stdout",
     "output_type": "stream",
     "text": [
      "_________________________________________________________________\n",
      "Layer (type)                 Output Shape              Param #   \n",
      "=================================================================\n",
      "conv2d_2 (Conv2D)            (None, 28, 28, 64)        640       \n",
      "_________________________________________________________________\n",
      "max_pooling2d_2 (MaxPooling2 (None, 14, 14, 64)        0         \n",
      "_________________________________________________________________\n",
      "flatten_2 (Flatten)          (None, 12544)             0         \n",
      "_________________________________________________________________\n",
      "dense_3 (Dense)              (None, 100)               1254500   \n",
      "_________________________________________________________________\n",
      "dense_4 (Dense)              (None, 10)                1010      \n",
      "=================================================================\n",
      "Total params: 1,256,150\n",
      "Trainable params: 1,256,150\n",
      "Non-trainable params: 0\n",
      "_________________________________________________________________\n",
      "--- (60000, 28, 28, 1) (60000, 10)\n",
      "> 91.130\n"
     ]
    }
   ],
   "source": [
    "model = define_CNN()\n",
    "print(\"---\",X_train.shape, y_train.shape)\n",
    "history = model.fit(X_train, y_train, epochs=10, batch_size=32, validation_data=(X_test,y_test), verbose=1)\n",
    "# evaluate model\n",
    "_, acc = model.evaluate(X_test, y_test, verbose=0)\n",
    "print('> %.3f' % (acc * 100.0))\n",
    "# append scores"
   ]
  },
  {
   "cell_type": "code",
   "execution_count": 46,
   "metadata": {},
   "outputs": [
    {
     "name": "stdout",
     "output_type": "stream",
     "text": [
      "accuracy : 0.9113\n"
     ]
    }
   ],
   "source": [
    "print(\"accuracy :\", acc)\n",
    "Analyze_training(history)\n"
   ]
  },
  {
   "cell_type": "markdown",
   "metadata": {},
   "source": [
    "    Use classifier with an image"
   ]
  },
  {
   "cell_type": "code",
   "execution_count": 58,
   "metadata": {},
   "outputs": [
    {
     "data": {
      "image/png": "[encoded data removed]",
      "text/plain": [
       "<Figure size 432x288 with 1 Axes>"
      ]
     },
     "metadata": {
      "needs_background": "light"
     },
     "output_type": "display_data"
    },
    {
     "name": "stdout",
     "output_type": "stream",
     "text": [
      "0\n"
     ]
    }
   ],
   "source": [
    "from keras.preprocessing.image import load_img,img_to_array\n",
    "import matplotlib.image as mpimg\n",
    "%matplotlib inline\n",
    "\n",
    "filename = \"e:/$Notebooks/DAL_Workshop/pants.png\"\n",
    "img = load_img(filename, grayscale=True, target_size=(28, 28))\n",
    "\n",
    "# convert to array\n",
    "img1 = img_to_array(img)\n",
    "img = img_to_array(img)\n",
    "# reshape into a single sample with 1 channel\n",
    "img = img.reshape(1, 28, 28, 1)\n",
    "# prepare pixel data\n",
    "img = img.astype('float32')\n",
    "img = img / 255.0\n",
    "photo =mpimg.imread(filename)\n",
    "imgplot = plt.imshow(photo)\n",
    "plt.show()\n",
    "# load an image and predict the class\n",
    "# load the image\n",
    "result = model.predict_classes(img)\n",
    "print(result[0])"
   ]
  },
  {
   "cell_type": "markdown",
   "metadata": {},
   "source": [
    "0 T-shirt/top\n",
    "1 Trouser/pants\n",
    "2 Pullover shirt\n",
    "3 Dress\n",
    "4 Coat\n",
    "5 Sandal\n",
    "6 Shirt\n",
    "7 Sneaker\n",
    "8 Bag\n",
    "9 Ankle boot\n"
   ]
  }
 ],
 "metadata": {
  "kernelspec": {
   "display_name": "Python 3",
   "language": "python",
   "name": "python3"
  },
  "language_info": {
   "codemirror_mode": {
    "name": "ipython",
    "version": 3
   },
   "file_extension": ".py",
   "mimetype": "text/x-python",
   "name": "python",
   "nbconvert_exporter": "python",
   "pygments_lexer": "ipython3",
   "version": "3.6.4"
  }
 },
 "nbformat": 4,
 "nbformat_minor": 2
}
