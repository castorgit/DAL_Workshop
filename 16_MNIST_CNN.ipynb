{
 "cells": [
  {
   "cell_type": "markdown",
   "metadata": {},
   "source": [
    "## MNIST CNN\n",
    "### Using a convolutional network for MNIST"
   ]
  },
  {
   "cell_type": "code",
   "execution_count": 9,
   "metadata": {},
   "outputs": [],
   "source": [
    "import os\n",
    "os.environ[\"CUDA_VISIBLE_DEVICES\"] = \"-1\" # to disable GPU\n",
    "\n",
    "import keras\n",
    "from keras.datasets import mnist\n",
    "from keras.models import Sequential\n",
    "from keras.layers import Dense, Dropout, Flatten\n",
    "from keras.layers import Conv2D, MaxPooling2D\n",
    "from keras import backend as K\n",
    "import matplotlib.pyplot as plt"
   ]
  },
  {
   "cell_type": "code",
   "execution_count": 6,
   "metadata": {},
   "outputs": [],
   "source": [
    "def Analyze_training(h):\n",
    "# summarize history for accuracy\n",
    "   plt.plot(h.history['accuracy'])\n",
    "   plt.plot(h.history['val_accuracy'])\n",
    "   plt.title('model accuracy')\n",
    "   plt.ylabel('accuracy')\n",
    "   plt.xlabel('epoch')\n",
    "   plt.legend(['train', 'test'], loc='upper left')\n",
    "   plt.show()\n",
    "# summarize history for loss\n",
    "   plt.plot(h.history['loss'])\n",
    "   plt.plot(h.history['val_loss'])\n",
    "   plt.title('model loss')\n",
    "   plt.ylabel('loss')\n",
    "   plt.xlabel('epoch')\n",
    "   plt.legend(['train', 'test'], loc='upper left')\n",
    "   plt.show()\n",
    "   return"
   ]
  },
  {
   "cell_type": "markdown",
   "metadata": {},
   "source": [
    "Meta parameters (Remember images are 28x28)"
   ]
  },
  {
   "cell_type": "code",
   "execution_count": 2,
   "metadata": {},
   "outputs": [],
   "source": [
    "batch_size = 128\n",
    "epochs = 32"
   ]
  },
  {
   "cell_type": "markdown",
   "metadata": {},
   "source": [
    "Read File using Keras function datasets and prepare data"
   ]
  },
  {
   "cell_type": "code",
   "execution_count": 3,
   "metadata": {},
   "outputs": [
    {
     "name": "stdout",
     "output_type": "stream",
     "text": [
      "x_train shape: (60000, 28, 28, 1)\n",
      "60000 train samples\n",
      "10000 test samples\n"
     ]
    }
   ],
   "source": [
    "(x_train, y_train), (x_test, y_test) = mnist.load_data()\n",
    "# In Keras, Default usually is 'channels_last'\n",
    "if K.image_data_format() == 'channels_first':\n",
    "    x_train = x_train.reshape(x_train.shape[0], 1, 28,28)\n",
    "    x_test = x_test.reshape(x_test.shape[0], 1, 28,28)\n",
    "    input_shape = (1, 28,28)\n",
    "else:\n",
    "    x_train = x_train.reshape(x_train.shape[0], 28,28, 1)\n",
    "    x_test = x_test.reshape(x_test.shape[0], 28,28, 1)\n",
    "    input_shape = (28,28, 1)\n",
    "    \n",
    "x_train = x_train.astype('float32')\n",
    "x_test = x_test.astype('float32')\n",
    "x_train /= 255\n",
    "x_test /= 255\n",
    "print('x_train shape:', x_train.shape)\n",
    "print(x_train.shape[0], 'train samples')\n",
    "print(x_test.shape[0], 'test samples')\n",
    "\n",
    "# convert class vectors to binary class matrices\n",
    "y_train = keras.utils.to_categorical(y_train, 10)\n",
    "y_test = keras.utils.to_categorical(y_test, 10)"
   ]
  },
  {
   "cell_type": "markdown",
   "metadata": {},
   "source": [
    "Network model"
   ]
  },
  {
   "cell_type": "code",
   "execution_count": 4,
   "metadata": {},
   "outputs": [
    {
     "name": "stdout",
     "output_type": "stream",
     "text": [
      "Model: \"sequential\"\n",
      "_________________________________________________________________\n",
      " Layer (type)                Output Shape              Param #   \n",
      "=================================================================\n",
      " conv2d (Conv2D)             (None, 26, 26, 32)        320       \n",
      "                                                                 \n",
      " conv2d_1 (Conv2D)           (None, 24, 24, 64)        18496     \n",
      "                                                                 \n",
      " max_pooling2d (MaxPooling2D  (None, 12, 12, 64)       0         \n",
      " )                                                               \n",
      "                                                                 \n",
      " dropout (Dropout)           (None, 12, 12, 64)        0         \n",
      "                                                                 \n",
      " flatten (Flatten)           (None, 9216)              0         \n",
      "                                                                 \n",
      " dense (Dense)               (None, 128)               1179776   \n",
      "                                                                 \n",
      " dropout_1 (Dropout)         (None, 128)               0         \n",
      "                                                                 \n",
      " dense_1 (Dense)             (None, 10)                1290      \n",
      "                                                                 \n",
      "=================================================================\n",
      "Total params: 1,199,882\n",
      "Trainable params: 1,199,882\n",
      "Non-trainable params: 0\n",
      "_________________________________________________________________\n"
     ]
    },
    {
     "name": "stderr",
     "output_type": "stream",
     "text": [
      "2023-02-21 02:17:27.183171: E tensorflow/stream_executor/cuda/cuda_driver.cc:271] failed call to cuInit: CUDA_ERROR_NO_DEVICE: no CUDA-capable device is detected\n",
      "2023-02-21 02:17:27.183273: I tensorflow/stream_executor/cuda/cuda_diagnostics.cc:169] retrieving CUDA diagnostic information for host: manero-ThinkPad-P52s\n",
      "2023-02-21 02:17:27.183303: I tensorflow/stream_executor/cuda/cuda_diagnostics.cc:176] hostname: manero-ThinkPad-P52s\n",
      "2023-02-21 02:17:27.183537: I tensorflow/stream_executor/cuda/cuda_diagnostics.cc:200] libcuda reported version is: 470.161.3\n",
      "2023-02-21 02:17:27.183636: I tensorflow/stream_executor/cuda/cuda_diagnostics.cc:204] kernel reported version is: 470.161.3\n",
      "2023-02-21 02:17:27.183663: I tensorflow/stream_executor/cuda/cuda_diagnostics.cc:310] kernel version seems to match DSO: 470.161.3\n",
      "2023-02-21 02:17:27.184898: I tensorflow/core/platform/cpu_feature_guard.cc:193] This TensorFlow binary is optimized with oneAPI Deep Neural Network Library (oneDNN) to use the following CPU instructions in performance-critical operations:  AVX2 FMA\n",
      "To enable them in other operations, rebuild TensorFlow with the appropriate compiler flags.\n"
     ]
    }
   ],
   "source": [
    "model = Sequential()\n",
    "model.add(Conv2D(32, kernel_size=(3, 3),activation='relu',input_shape=input_shape))\n",
    "model.add(Conv2D(64, (3, 3), activation='relu'))\n",
    "model.add(MaxPooling2D(pool_size=(2, 2)))\n",
    "model.add(Dropout(0.25))\n",
    "model.add(Flatten())\n",
    "model.add(Dense(128, activation='relu'))\n",
    "model.add(Dropout(0.5))\n",
    "model.add(Dense(10, activation='softmax'))\n",
    "model.summary()\n",
    "\n",
    "model.compile(loss=keras.losses.categorical_crossentropy,optimizer=keras.optimizers.Adadelta(),\n",
    "              metrics=['accuracy'])"
   ]
  },
  {
   "cell_type": "markdown",
   "metadata": {},
   "source": [
    "Train"
   ]
  },
  {
   "cell_type": "code",
   "execution_count": 5,
   "metadata": {},
   "outputs": [
    {
     "name": "stdout",
     "output_type": "stream",
     "text": [
      "Epoch 1/12\n"
     ]
    },
    {
     "name": "stderr",
     "output_type": "stream",
     "text": [
      "2023-02-21 02:17:35.281395: W tensorflow/core/framework/cpu_allocator_impl.cc:82] Allocation of 188160000 exceeds 10% of free system memory.\n"
     ]
    },
    {
     "name": "stdout",
     "output_type": "stream",
     "text": [
      "469/469 [==============================] - 54s 113ms/step - loss: 2.2715 - accuracy: 0.1510 - val_loss: 2.2211 - val_accuracy: 0.2989\n",
      "Epoch 2/12\n",
      "469/469 [==============================] - 57s 122ms/step - loss: 2.1955 - accuracy: 0.2637 - val_loss: 2.1290 - val_accuracy: 0.5122\n",
      "Epoch 3/12\n",
      "469/469 [==============================] - 57s 122ms/step - loss: 2.0988 - accuracy: 0.3759 - val_loss: 2.0026 - val_accuracy: 0.6403\n",
      "Epoch 4/12\n",
      "469/469 [==============================] - 59s 125ms/step - loss: 1.9695 - accuracy: 0.4751 - val_loss: 1.8361 - val_accuracy: 0.7055\n",
      "Epoch 5/12\n",
      "469/469 [==============================] - 58s 124ms/step - loss: 1.8074 - accuracy: 0.5431 - val_loss: 1.6316 - val_accuracy: 0.7472\n",
      "Epoch 6/12\n",
      "469/469 [==============================] - 61s 129ms/step - loss: 1.6211 - accuracy: 0.5992 - val_loss: 1.4089 - val_accuracy: 0.7796\n",
      "Epoch 7/12\n",
      "469/469 [==============================] - 89s 191ms/step - loss: 1.4381 - accuracy: 0.6332 - val_loss: 1.2006 - val_accuracy: 0.7960\n",
      "Epoch 8/12\n",
      "469/469 [==============================] - 89s 190ms/step - loss: 1.2758 - accuracy: 0.6594 - val_loss: 1.0291 - val_accuracy: 0.8135\n",
      "Epoch 9/12\n",
      "469/469 [==============================] - 86s 184ms/step - loss: 1.1504 - accuracy: 0.6806 - val_loss: 0.8972 - val_accuracy: 0.8245\n",
      "Epoch 10/12\n",
      "469/469 [==============================] - 84s 180ms/step - loss: 1.0499 - accuracy: 0.6999 - val_loss: 0.7973 - val_accuracy: 0.8348\n",
      "Epoch 11/12\n",
      "469/469 [==============================] - 84s 179ms/step - loss: 0.9771 - accuracy: 0.7143 - val_loss: 0.7221 - val_accuracy: 0.8428\n",
      "Epoch 12/12\n",
      "469/469 [==============================] - 85s 180ms/step - loss: 0.9127 - accuracy: 0.7296 - val_loss: 0.6631 - val_accuracy: 0.8504\n"
     ]
    }
   ],
   "source": [
    "history = model.fit(x_train, y_train,\n",
    "          batch_size=batch_size,\n",
    "          epochs=epochs,\n",
    "          verbose=1,\n",
    "          validation_data=(x_test, y_test))"
   ]
  },
  {
   "cell_type": "markdown",
   "metadata": {},
   "source": [
    "Present Results"
   ]
  },
  {
   "cell_type": "code",
   "execution_count": 6,
   "metadata": {},
   "outputs": [
    {
     "name": "stdout",
     "output_type": "stream",
     "text": [
      "Test loss: 0.029138010466477862\n",
      "Test accuracy: 0.991\n"
     ]
    }
   ],
   "source": [
    "score = model.evaluate(x_test, y_test, verbose=0)\n",
    "print('Test loss:', score[0])\n",
    "print('Test accuracy:', score[1])"
   ]
  },
  {
   "cell_type": "code",
   "execution_count": 10,
   "metadata": {},
   "outputs": [
    {
     "data": {
      "image/png": "[encoded data removed]",
      "text/plain": [
       "<Figure size 432x288 with 1 Axes>"
      ]
     },
     "metadata": {
      "needs_background": "light"
     },
     "output_type": "display_data"
    },
    {
     "data": {
      "image/png": "[encoded data removed]",
      "text/plain": [
       "<Figure size 432x288 with 1 Axes>"
      ]
     },
     "metadata": {
      "needs_background": "light"
     },
     "output_type": "display_data"
    }
   ],
   "source": [
    "Analyze_training(history)"
   ]
  },
  {
   "cell_type": "code",
   "execution_count": null,
   "metadata": {},
   "outputs": [],
   "source": [
    "#EOF"
   ]
  }
 ],
 "metadata": {
  "kernelspec": {
   "display_name": "DL",
   "language": "python",
   "name": "dl"
  },
  "language_info": {
   "codemirror_mode": {
    "name": "ipython",
    "version": 3
   },
   "file_extension": ".py",
   "mimetype": "text/x-python",
   "name": "python",
   "nbconvert_exporter": "python",
   "pygments_lexer": "ipython3",
   "version": "3.8.12"
  }
 },
 "nbformat": 4,
 "nbformat_minor": 2
}
