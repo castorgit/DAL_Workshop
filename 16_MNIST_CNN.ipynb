{
 "cells": [
  {
   "cell_type": "markdown",
   "metadata": {},
   "source": [
    "## MNIST CNN\n",
    "### Using a convolutional network for MNIST"
   ]
  },
  {
   "cell_type": "code",
   "execution_count": 1,
   "metadata": {},
   "outputs": [
    {
     "name": "stderr",
     "output_type": "stream",
     "text": [
      "2023-02-21 02:34:51.433804: W tensorflow/stream_executor/platform/default/dso_loader.cc:64] Could not load dynamic library 'libcudart.so.11.0'; dlerror: libcudart.so.11.0: cannot open shared object file: No such file or directory\n",
      "2023-02-21 02:34:51.433838: I tensorflow/stream_executor/cuda/cudart_stub.cc:29] Ignore above cudart dlerror if you do not have a GPU set up on your machine.\n"
     ]
    }
   ],
   "source": [
    "import os\n",
    "os.environ[\"CUDA_VISIBLE_DEVICES\"] = \"-1\" # to disable GPU\n",
    "\n",
    "import keras\n",
    "from keras.datasets import mnist\n",
    "from keras.models import Sequential\n",
    "from keras.layers import Dense, Dropout, Flatten\n",
    "from keras.layers import Conv2D, MaxPooling2D\n",
    "from keras import backend as K\n",
    "import matplotlib.pyplot as plt"
   ]
  },
  {
   "cell_type": "code",
   "execution_count": 2,
   "metadata": {},
   "outputs": [],
   "source": [
    "def Analyze_training(h):\n",
    "# summarize history for accuracy\n",
    "   plt.plot(h.history['accuracy'])\n",
    "   plt.plot(h.history['val_accuracy'])\n",
    "   plt.title('model accuracy')\n",
    "   plt.ylabel('accuracy')\n",
    "   plt.xlabel('epoch')\n",
    "   plt.legend(['train', 'test'], loc='upper left')\n",
    "   plt.show()\n",
    "# summarize history for loss\n",
    "   plt.plot(h.history['loss'])\n",
    "   plt.plot(h.history['val_loss'])\n",
    "   plt.title('model loss')\n",
    "   plt.ylabel('loss')\n",
    "   plt.xlabel('epoch')\n",
    "   plt.legend(['train', 'test'], loc='upper left')\n",
    "   plt.show()\n",
    "   return"
   ]
  },
  {
   "cell_type": "markdown",
   "metadata": {},
   "source": [
    "Meta parameters (Remember images are 28x28)"
   ]
  },
  {
   "cell_type": "code",
   "execution_count": 3,
   "metadata": {},
   "outputs": [],
   "source": [
    "batch_size = 128\n",
    "epochs = 32"
   ]
  },
  {
   "cell_type": "markdown",
   "metadata": {},
   "source": [
    "Read File using Keras function datasets and prepare data"
   ]
  },
  {
   "cell_type": "code",
   "execution_count": 4,
   "metadata": {},
   "outputs": [
    {
     "name": "stdout",
     "output_type": "stream",
     "text": [
      "x_train shape: (60000, 28, 28, 1)\n",
      "60000 train samples\n",
      "10000 test samples\n"
     ]
    }
   ],
   "source": [
    "(x_train, y_train), (x_test, y_test) = mnist.load_data()\n",
    "# In Keras, Default usually is 'channels_last'\n",
    "if K.image_data_format() == 'channels_first':\n",
    "    x_train = x_train.reshape(x_train.shape[0], 1, 28,28)\n",
    "    x_test = x_test.reshape(x_test.shape[0], 1, 28,28)\n",
    "    input_shape = (1, 28,28)\n",
    "else:\n",
    "    x_train = x_train.reshape(x_train.shape[0], 28,28, 1)\n",
    "    x_test = x_test.reshape(x_test.shape[0], 28,28, 1)\n",
    "    input_shape = (28,28, 1)\n",
    "    \n",
    "x_train = x_train.astype('float32')\n",
    "x_test = x_test.astype('float32')\n",
    "x_train /= 255\n",
    "x_test /= 255\n",
    "print('x_train shape:', x_train.shape)\n",
    "print(x_train.shape[0], 'train samples')\n",
    "print(x_test.shape[0], 'test samples')\n",
    "\n",
    "# convert class vectors to binary class matrices\n",
    "y_train = keras.utils.to_categorical(y_train, 10)\n",
    "y_test = keras.utils.to_categorical(y_test, 10)"
   ]
  },
  {
   "cell_type": "markdown",
   "metadata": {},
   "source": [
    "Network model"
   ]
  },
  {
   "cell_type": "code",
   "execution_count": 5,
   "metadata": {},
   "outputs": [
    {
     "name": "stdout",
     "output_type": "stream",
     "text": [
      "Model: \"sequential\"\n",
      "_________________________________________________________________\n",
      " Layer (type)                Output Shape              Param #   \n",
      "=================================================================\n",
      " conv2d (Conv2D)             (None, 26, 26, 32)        320       \n",
      "                                                                 \n",
      " conv2d_1 (Conv2D)           (None, 24, 24, 64)        18496     \n",
      "                                                                 \n",
      " max_pooling2d (MaxPooling2D  (None, 12, 12, 64)       0         \n",
      " )                                                               \n",
      "                                                                 \n",
      " dropout (Dropout)           (None, 12, 12, 64)        0         \n",
      "                                                                 \n",
      " flatten (Flatten)           (None, 9216)              0         \n",
      "                                                                 \n",
      " dense (Dense)               (None, 128)               1179776   \n",
      "                                                                 \n",
      " dropout_1 (Dropout)         (None, 128)               0         \n",
      "                                                                 \n",
      " dense_1 (Dense)             (None, 10)                1290      \n",
      "                                                                 \n",
      "=================================================================\n",
      "Total params: 1,199,882\n",
      "Trainable params: 1,199,882\n",
      "Non-trainable params: 0\n",
      "_________________________________________________________________\n"
     ]
    },
    {
     "name": "stderr",
     "output_type": "stream",
     "text": [
      "2023-02-21 02:34:54.191045: E tensorflow/stream_executor/cuda/cuda_driver.cc:271] failed call to cuInit: CUDA_ERROR_NO_DEVICE: no CUDA-capable device is detected\n",
      "2023-02-21 02:34:54.191076: I tensorflow/stream_executor/cuda/cuda_diagnostics.cc:169] retrieving CUDA diagnostic information for host: manero-ThinkPad-P52s\n",
      "2023-02-21 02:34:54.191084: I tensorflow/stream_executor/cuda/cuda_diagnostics.cc:176] hostname: manero-ThinkPad-P52s\n",
      "2023-02-21 02:34:54.191168: I tensorflow/stream_executor/cuda/cuda_diagnostics.cc:200] libcuda reported version is: 470.161.3\n",
      "2023-02-21 02:34:54.191192: I tensorflow/stream_executor/cuda/cuda_diagnostics.cc:204] kernel reported version is: 470.161.3\n",
      "2023-02-21 02:34:54.191199: I tensorflow/stream_executor/cuda/cuda_diagnostics.cc:310] kernel version seems to match DSO: 470.161.3\n",
      "2023-02-21 02:34:54.191578: I tensorflow/core/platform/cpu_feature_guard.cc:193] This TensorFlow binary is optimized with oneAPI Deep Neural Network Library (oneDNN) to use the following CPU instructions in performance-critical operations:  AVX2 FMA\n",
      "To enable them in other operations, rebuild TensorFlow with the appropriate compiler flags.\n"
     ]
    }
   ],
   "source": [
    "model = Sequential()\n",
    "model.add(Conv2D(32, kernel_size=(3, 3),activation='relu',input_shape=input_shape))\n",
    "model.add(Conv2D(64, (3, 3), activation='relu'))\n",
    "model.add(MaxPooling2D(pool_size=(2, 2)))\n",
    "model.add(Dropout(0.25))\n",
    "model.add(Flatten())\n",
    "model.add(Dense(128, activation='relu'))\n",
    "model.add(Dropout(0.5))\n",
    "model.add(Dense(10, activation='softmax'))\n",
    "model.summary()\n",
    "\n",
    "model.compile(loss=keras.losses.categorical_crossentropy,optimizer=keras.optimizers.Adadelta(),\n",
    "              metrics=['accuracy'])"
   ]
  },
  {
   "cell_type": "markdown",
   "metadata": {},
   "source": [
    "Train"
   ]
  },
  {
   "cell_type": "code",
   "execution_count": 6,
   "metadata": {},
   "outputs": [
    {
     "name": "stderr",
     "output_type": "stream",
     "text": [
      "2023-02-21 02:34:54.277813: W tensorflow/core/framework/cpu_allocator_impl.cc:82] Allocation of 188160000 exceeds 10% of free system memory.\n"
     ]
    },
    {
     "name": "stdout",
     "output_type": "stream",
     "text": [
      "Epoch 1/32\n",
      "469/469 [==============================] - 50s 106ms/step - loss: 2.2937 - accuracy: 0.1234 - val_loss: 2.2566 - val_accuracy: 0.3165\n",
      "Epoch 2/32\n",
      "469/469 [==============================] - 55s 117ms/step - loss: 2.2365 - accuracy: 0.2395 - val_loss: 2.1892 - val_accuracy: 0.4605\n",
      "Epoch 3/32\n",
      "469/469 [==============================] - 55s 118ms/step - loss: 2.1676 - accuracy: 0.3419 - val_loss: 2.1017 - val_accuracy: 0.5864\n",
      "Epoch 4/32\n",
      "469/469 [==============================] - 57s 122ms/step - loss: 2.0747 - accuracy: 0.4223 - val_loss: 1.9844 - val_accuracy: 0.6583\n",
      "Epoch 5/32\n",
      "469/469 [==============================] - 55s 118ms/step - loss: 1.9551 - accuracy: 0.4880 - val_loss: 1.8309 - val_accuracy: 0.7032\n",
      "Epoch 6/32\n",
      "469/469 [==============================] - 57s 122ms/step - loss: 1.8070 - accuracy: 0.5427 - val_loss: 1.6456 - val_accuracy: 0.7353\n",
      "Epoch 7/32\n",
      "469/469 [==============================] - 60s 127ms/step - loss: 1.6380 - accuracy: 0.5829 - val_loss: 1.4448 - val_accuracy: 0.7600\n",
      "Epoch 8/32\n",
      "469/469 [==============================] - 59s 126ms/step - loss: 1.4708 - accuracy: 0.6150 - val_loss: 1.2501 - val_accuracy: 0.7819\n",
      "Epoch 9/32\n",
      "469/469 [==============================] - 66s 141ms/step - loss: 1.3222 - accuracy: 0.6417 - val_loss: 1.0828 - val_accuracy: 0.7996\n",
      "Epoch 10/32\n",
      "469/469 [==============================] - 80s 170ms/step - loss: 1.1952 - accuracy: 0.6659 - val_loss: 0.9479 - val_accuracy: 0.8136\n",
      "Epoch 11/32\n",
      "469/469 [==============================] - 92s 195ms/step - loss: 1.0907 - accuracy: 0.6830 - val_loss: 0.8434 - val_accuracy: 0.8238\n",
      "Epoch 12/32\n",
      "469/469 [==============================] - 112s 239ms/step - loss: 1.0123 - accuracy: 0.7023 - val_loss: 0.7625 - val_accuracy: 0.8317\n",
      "Epoch 13/32\n",
      "469/469 [==============================] - 105s 224ms/step - loss: 0.9501 - accuracy: 0.7171 - val_loss: 0.6996 - val_accuracy: 0.8411\n",
      "Epoch 14/32\n",
      "469/469 [==============================] - 125s 266ms/step - loss: 0.8956 - accuracy: 0.7292 - val_loss: 0.6490 - val_accuracy: 0.8488\n",
      "Epoch 15/32\n",
      "469/469 [==============================] - 108s 230ms/step - loss: 0.8511 - accuracy: 0.7412 - val_loss: 0.6083 - val_accuracy: 0.8531\n",
      "Epoch 16/32\n",
      "469/469 [==============================] - 96s 205ms/step - loss: 0.8132 - accuracy: 0.7519 - val_loss: 0.5741 - val_accuracy: 0.8594\n",
      "Epoch 17/32\n",
      "469/469 [==============================] - 100s 212ms/step - loss: 0.7783 - accuracy: 0.7625 - val_loss: 0.5453 - val_accuracy: 0.8623\n",
      "Epoch 18/32\n",
      "469/469 [==============================] - 89s 189ms/step - loss: 0.7502 - accuracy: 0.7705 - val_loss: 0.5213 - val_accuracy: 0.8668\n",
      "Epoch 19/32\n",
      "469/469 [==============================] - 111s 236ms/step - loss: 0.7257 - accuracy: 0.7773 - val_loss: 0.5002 - val_accuracy: 0.8713\n",
      "Epoch 20/32\n",
      "469/469 [==============================] - 100s 212ms/step - loss: 0.7041 - accuracy: 0.7849 - val_loss: 0.4827 - val_accuracy: 0.8751\n",
      "Epoch 21/32\n",
      "469/469 [==============================] - 93s 199ms/step - loss: 0.6838 - accuracy: 0.7908 - val_loss: 0.4661 - val_accuracy: 0.8795\n",
      "Epoch 22/32\n",
      "469/469 [==============================] - 95s 203ms/step - loss: 0.6664 - accuracy: 0.7973 - val_loss: 0.4519 - val_accuracy: 0.8823\n",
      "Epoch 23/32\n",
      "469/469 [==============================] - 96s 205ms/step - loss: 0.6483 - accuracy: 0.8002 - val_loss: 0.4386 - val_accuracy: 0.8857\n",
      "Epoch 24/32\n",
      "469/469 [==============================] - 98s 209ms/step - loss: 0.6351 - accuracy: 0.8044 - val_loss: 0.4269 - val_accuracy: 0.8879\n",
      "Epoch 25/32\n",
      "469/469 [==============================] - 94s 201ms/step - loss: 0.6194 - accuracy: 0.8119 - val_loss: 0.4162 - val_accuracy: 0.8891\n",
      "Epoch 26/32\n",
      "469/469 [==============================] - 81s 172ms/step - loss: 0.6123 - accuracy: 0.8125 - val_loss: 0.4066 - val_accuracy: 0.8919\n",
      "Epoch 27/32\n",
      "469/469 [==============================] - 119s 254ms/step - loss: 0.5965 - accuracy: 0.8175 - val_loss: 0.3974 - val_accuracy: 0.8932\n",
      "Epoch 28/32\n",
      "469/469 [==============================] - 114s 243ms/step - loss: 0.5861 - accuracy: 0.8208 - val_loss: 0.3892 - val_accuracy: 0.8951\n",
      "Epoch 29/32\n",
      "469/469 [==============================] - 107s 228ms/step - loss: 0.5739 - accuracy: 0.8248 - val_loss: 0.3819 - val_accuracy: 0.8958\n",
      "Epoch 30/32\n",
      "469/469 [==============================] - 106s 226ms/step - loss: 0.5662 - accuracy: 0.8265 - val_loss: 0.3748 - val_accuracy: 0.8979\n",
      "Epoch 31/32\n",
      "469/469 [==============================] - 108s 231ms/step - loss: 0.5567 - accuracy: 0.8304 - val_loss: 0.3683 - val_accuracy: 0.8995\n",
      "Epoch 32/32\n",
      "469/469 [==============================] - 96s 206ms/step - loss: 0.5501 - accuracy: 0.8327 - val_loss: 0.3621 - val_accuracy: 0.8999\n"
     ]
    }
   ],
   "source": [
    "history = model.fit(x_train, y_train,\n",
    "          batch_size=batch_size,\n",
    "          epochs=epochs,\n",
    "          verbose=1,\n",
    "          validation_data=(x_test, y_test))"
   ]
  },
  {
   "cell_type": "markdown",
   "metadata": {},
   "source": [
    "Present Results"
   ]
  },
  {
   "cell_type": "code",
   "execution_count": 7,
   "metadata": {},
   "outputs": [
    {
     "name": "stdout",
     "output_type": "stream",
     "text": [
      "Test loss: 0.3620811998844147\n",
      "Test accuracy: 0.8999000191688538\n"
     ]
    }
   ],
   "source": [
    "score = model.evaluate(x_test, y_test, verbose=0)\n",
    "print('Test loss:', score[0])\n",
    "print('Test accuracy:', score[1])"
   ]
  },
  {
   "cell_type": "code",
   "execution_count": 8,
   "metadata": {},
   "outputs": [
    {
     "data": {
      "image/png": "[encoded data removed]",
      "text/plain": [
       "<Figure size 432x288 with 1 Axes>"
      ]
     },
     "metadata": {
      "needs_background": "light"
     },
     "output_type": "display_data"
    },
    {
     "data": {
      "image/png": "[encoded data removed]",
      "text/plain": [
       "<Figure size 432x288 with 1 Axes>"
      ]
     },
     "metadata": {
      "needs_background": "light"
     },
     "output_type": "display_data"
    }
   ],
   "source": [
    "Analyze_training(history)"
   ]
  },
  {
   "cell_type": "code",
   "execution_count": 9,
   "metadata": {},
   "outputs": [],
   "source": [
    "#EOF"
   ]
  }
 ],
 "metadata": {
  "kernelspec": {
   "display_name": "DL",
   "language": "python",
   "name": "dl"
  },
  "language_info": {
   "codemirror_mode": {
    "name": "ipython",
    "version": 3
   },
   "file_extension": ".py",
   "mimetype": "text/x-python",
   "name": "python",
   "nbconvert_exporter": "python",
   "pygments_lexer": "ipython3",
   "version": "3.8.12"
  }
 },
 "nbformat": 4,
 "nbformat_minor": 2
}
