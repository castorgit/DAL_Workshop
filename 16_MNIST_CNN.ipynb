{
 "cells": [
  {
   "cell_type": "markdown",
   "metadata": {},
   "source": [
    "## MNIST CNN\n",
    "### Using a convolutional network for MNIST"
   ]
  },
  {
   "cell_type": "code",
   "execution_count": 1,
   "metadata": {},
   "outputs": [
    {
     "name": "stderr",
     "output_type": "stream",
     "text": [
      "2023-02-21 03:24:48.102490: W tensorflow/stream_executor/platform/default/dso_loader.cc:64] Could not load dynamic library 'libcudart.so.11.0'; dlerror: libcudart.so.11.0: cannot open shared object file: No such file or directory\n",
      "2023-02-21 03:24:48.102551: I tensorflow/stream_executor/cuda/cudart_stub.cc:29] Ignore above cudart dlerror if you do not have a GPU set up on your machine.\n"
     ]
    }
   ],
   "source": [
    "import os\n",
    "os.environ[\"CUDA_VISIBLE_DEVICES\"] = \"-1\" # to disable GPU\n",
    "\n",
    "import keras\n",
    "from keras.datasets import mnist\n",
    "from keras.models import Sequential\n",
    "from keras.layers import Dense, Dropout, Flatten\n",
    "from keras.layers import Conv2D, MaxPooling2D\n",
    "from keras import backend as K\n",
    "import matplotlib.pyplot as plt"
   ]
  },
  {
   "cell_type": "code",
   "execution_count": 2,
   "metadata": {},
   "outputs": [],
   "source": [
    "def Analyze_training(h):\n",
    "# summarize history for accuracy\n",
    "   plt.plot(h.history['accuracy'])\n",
    "   plt.plot(h.history['val_accuracy'])\n",
    "   plt.title('model accuracy')\n",
    "   plt.ylabel('accuracy')\n",
    "   plt.xlabel('epoch')\n",
    "   plt.legend(['train', 'test'], loc='upper left')\n",
    "   plt.show()\n",
    "# summarize history for loss\n",
    "   plt.plot(h.history['loss'])\n",
    "   plt.plot(h.history['val_loss'])\n",
    "   plt.title('model loss')\n",
    "   plt.ylabel('loss')\n",
    "   plt.xlabel('epoch')\n",
    "   plt.legend(['train', 'test'], loc='upper left')\n",
    "   plt.show()\n",
    "   return"
   ]
  },
  {
   "cell_type": "markdown",
   "metadata": {},
   "source": [
    "Meta parameters (Remember images are 28x28)"
   ]
  },
  {
   "cell_type": "code",
   "execution_count": 3,
   "metadata": {},
   "outputs": [],
   "source": [
    "batch_size = 128\n",
    "epochs = 64"
   ]
  },
  {
   "cell_type": "markdown",
   "metadata": {},
   "source": [
    "Read File using Keras function datasets and prepare data"
   ]
  },
  {
   "cell_type": "code",
   "execution_count": 4,
   "metadata": {},
   "outputs": [
    {
     "name": "stdout",
     "output_type": "stream",
     "text": [
      "x_train shape: (60000, 28, 28, 1)\n",
      "60000 train samples\n",
      "10000 test samples\n"
     ]
    }
   ],
   "source": [
    "(x_train, y_train), (x_test, y_test) = mnist.load_data()\n",
    "# In Keras, Default usually is 'channels_last'\n",
    "if K.image_data_format() == 'channels_first':\n",
    "    x_train = x_train.reshape(x_train.shape[0], 1, 28,28)\n",
    "    x_test = x_test.reshape(x_test.shape[0], 1, 28,28)\n",
    "    input_shape = (1, 28,28)\n",
    "else:\n",
    "    x_train = x_train.reshape(x_train.shape[0], 28,28, 1)\n",
    "    x_test = x_test.reshape(x_test.shape[0], 28,28, 1)\n",
    "    input_shape = (28,28, 1)\n",
    "    \n",
    "x_train = x_train.astype('float32')\n",
    "x_test = x_test.astype('float32')\n",
    "x_train /= 255\n",
    "x_test /= 255\n",
    "print('x_train shape:', x_train.shape)\n",
    "print(x_train.shape[0], 'train samples')\n",
    "print(x_test.shape[0], 'test samples')\n",
    "\n",
    "# convert class vectors to binary class matrices\n",
    "y_train = keras.utils.to_categorical(y_train, 10)\n",
    "y_test = keras.utils.to_categorical(y_test, 10)"
   ]
  },
  {
   "cell_type": "markdown",
   "metadata": {},
   "source": [
    "Network model"
   ]
  },
  {
   "cell_type": "code",
   "execution_count": 5,
   "metadata": {},
   "outputs": [
    {
     "name": "stdout",
     "output_type": "stream",
     "text": [
      "Model: \"sequential\"\n",
      "_________________________________________________________________\n",
      " Layer (type)                Output Shape              Param #   \n",
      "=================================================================\n",
      " conv2d (Conv2D)             (None, 26, 26, 32)        320       \n",
      "                                                                 \n",
      " conv2d_1 (Conv2D)           (None, 24, 24, 64)        18496     \n",
      "                                                                 \n",
      " max_pooling2d (MaxPooling2D  (None, 12, 12, 64)       0         \n",
      " )                                                               \n",
      "                                                                 \n",
      " dropout (Dropout)           (None, 12, 12, 64)        0         \n",
      "                                                                 \n",
      " flatten (Flatten)           (None, 9216)              0         \n",
      "                                                                 \n",
      " dense (Dense)               (None, 128)               1179776   \n",
      "                                                                 \n",
      " dropout_1 (Dropout)         (None, 128)               0         \n",
      "                                                                 \n",
      " dense_1 (Dense)             (None, 10)                1290      \n",
      "                                                                 \n",
      "=================================================================\n",
      "Total params: 1,199,882\n",
      "Trainable params: 1,199,882\n",
      "Non-trainable params: 0\n",
      "_________________________________________________________________\n"
     ]
    },
    {
     "name": "stderr",
     "output_type": "stream",
     "text": [
      "2023-02-21 03:24:54.684008: E tensorflow/stream_executor/cuda/cuda_driver.cc:271] failed call to cuInit: CUDA_ERROR_NO_DEVICE: no CUDA-capable device is detected\n",
      "2023-02-21 03:24:54.684092: I tensorflow/stream_executor/cuda/cuda_diagnostics.cc:169] retrieving CUDA diagnostic information for host: manero-ThinkPad-P52s\n",
      "2023-02-21 03:24:54.684110: I tensorflow/stream_executor/cuda/cuda_diagnostics.cc:176] hostname: manero-ThinkPad-P52s\n",
      "2023-02-21 03:24:54.684232: I tensorflow/stream_executor/cuda/cuda_diagnostics.cc:200] libcuda reported version is: 470.161.3\n",
      "2023-02-21 03:24:54.684275: I tensorflow/stream_executor/cuda/cuda_diagnostics.cc:204] kernel reported version is: 470.161.3\n",
      "2023-02-21 03:24:54.684288: I tensorflow/stream_executor/cuda/cuda_diagnostics.cc:310] kernel version seems to match DSO: 470.161.3\n",
      "2023-02-21 03:24:54.685141: I tensorflow/core/platform/cpu_feature_guard.cc:193] This TensorFlow binary is optimized with oneAPI Deep Neural Network Library (oneDNN) to use the following CPU instructions in performance-critical operations:  AVX2 FMA\n",
      "To enable them in other operations, rebuild TensorFlow with the appropriate compiler flags.\n"
     ]
    }
   ],
   "source": [
    "model = Sequential()\n",
    "model.add(Conv2D(32, kernel_size=(3, 3),activation='relu',input_shape=input_shape))\n",
    "model.add(Conv2D(64, (3, 3), activation='relu'))\n",
    "model.add(MaxPooling2D(pool_size=(2, 2)))\n",
    "model.add(Dropout(0.25))\n",
    "model.add(Flatten())\n",
    "model.add(Dense(128, activation='relu'))\n",
    "model.add(Dropout(0.5))\n",
    "model.add(Dense(10, activation='softmax'))\n",
    "model.summary()\n",
    "\n",
    "model.compile(loss=keras.losses.categorical_crossentropy,optimizer=keras.optimizers.Adadelta(),\n",
    "              metrics=['accuracy'])"
   ]
  },
  {
   "cell_type": "markdown",
   "metadata": {},
   "source": [
    "Train"
   ]
  },
  {
   "cell_type": "code",
   "execution_count": 6,
   "metadata": {},
   "outputs": [
    {
     "name": "stdout",
     "output_type": "stream",
     "text": [
      "Epoch 1/64\n",
      "469/469 [==============================] - 108s 228ms/step - loss: 2.2788 - accuracy: 0.1684 - val_loss: 2.2496 - val_accuracy: 0.3558\n",
      "Epoch 2/64\n",
      "469/469 [==============================] - 105s 223ms/step - loss: 2.2318 - accuracy: 0.2745 - val_loss: 2.1908 - val_accuracy: 0.4719\n",
      "Epoch 3/64\n",
      "469/469 [==============================] - 103s 220ms/step - loss: 2.1714 - accuracy: 0.3582 - val_loss: 2.1144 - val_accuracy: 0.5548\n",
      "Epoch 4/64\n",
      "469/469 [==============================] - 113s 241ms/step - loss: 2.0917 - accuracy: 0.4259 - val_loss: 2.0127 - val_accuracy: 0.6188\n",
      "Epoch 5/64\n",
      "469/469 [==============================] - 102s 218ms/step - loss: 1.9860 - accuracy: 0.4896 - val_loss: 1.8796 - val_accuracy: 0.6763\n",
      "Epoch 6/64\n",
      "469/469 [==============================] - 101s 216ms/step - loss: 1.8525 - accuracy: 0.5337 - val_loss: 1.7135 - val_accuracy: 0.7173\n",
      "Epoch 7/64\n",
      "469/469 [==============================] - 101s 216ms/step - loss: 1.6985 - accuracy: 0.5769 - val_loss: 1.5242 - val_accuracy: 0.7590\n",
      "Epoch 8/64\n",
      "469/469 [==============================] - 103s 220ms/step - loss: 1.5357 - accuracy: 0.6115 - val_loss: 1.3285 - val_accuracy: 0.7808\n",
      "Epoch 9/64\n",
      "469/469 [==============================] - 104s 222ms/step - loss: 1.3776 - accuracy: 0.6408 - val_loss: 1.1480 - val_accuracy: 0.8025\n",
      "Epoch 10/64\n",
      "469/469 [==============================] - 110s 234ms/step - loss: 1.2384 - accuracy: 0.6665 - val_loss: 0.9975 - val_accuracy: 0.8156\n",
      "Epoch 11/64\n",
      "469/469 [==============================] - 115s 245ms/step - loss: 1.1290 - accuracy: 0.6828 - val_loss: 0.8789 - val_accuracy: 0.8274\n",
      "Epoch 12/64\n",
      "469/469 [==============================] - 105s 224ms/step - loss: 1.0439 - accuracy: 0.6996 - val_loss: 0.7874 - val_accuracy: 0.8356\n",
      "Epoch 13/64\n",
      "469/469 [==============================] - 105s 223ms/step - loss: 0.9678 - accuracy: 0.7188 - val_loss: 0.7159 - val_accuracy: 0.8453\n",
      "Epoch 14/64\n",
      "469/469 [==============================] - 109s 232ms/step - loss: 0.9095 - accuracy: 0.7301 - val_loss: 0.6601 - val_accuracy: 0.8501\n",
      "Epoch 15/64\n",
      "469/469 [==============================] - 107s 228ms/step - loss: 0.8600 - accuracy: 0.7441 - val_loss: 0.6144 - val_accuracy: 0.8574\n",
      "Epoch 16/64\n",
      "469/469 [==============================] - 96s 204ms/step - loss: 0.8175 - accuracy: 0.7542 - val_loss: 0.5769 - val_accuracy: 0.8628\n",
      "Epoch 17/64\n",
      "469/469 [==============================] - 96s 204ms/step - loss: 0.7782 - accuracy: 0.7637 - val_loss: 0.5455 - val_accuracy: 0.8682\n",
      "Epoch 18/64\n",
      "469/469 [==============================] - 97s 207ms/step - loss: 0.7482 - accuracy: 0.7748 - val_loss: 0.5191 - val_accuracy: 0.8728\n",
      "Epoch 19/64\n",
      "469/469 [==============================] - 99s 211ms/step - loss: 0.7213 - accuracy: 0.7820 - val_loss: 0.4972 - val_accuracy: 0.8771\n",
      "Epoch 20/64\n",
      "469/469 [==============================] - 94s 201ms/step - loss: 0.6999 - accuracy: 0.7889 - val_loss: 0.4783 - val_accuracy: 0.8799\n",
      "Epoch 21/64\n",
      "469/469 [==============================] - 90s 192ms/step - loss: 0.6809 - accuracy: 0.7911 - val_loss: 0.4618 - val_accuracy: 0.8837\n",
      "Epoch 22/64\n",
      "469/469 [==============================] - 95s 203ms/step - loss: 0.6583 - accuracy: 0.7996 - val_loss: 0.4469 - val_accuracy: 0.8857\n",
      "Epoch 23/64\n",
      "469/469 [==============================] - 94s 200ms/step - loss: 0.6426 - accuracy: 0.8040 - val_loss: 0.4341 - val_accuracy: 0.8880\n",
      "Epoch 24/64\n",
      "469/469 [==============================] - 93s 197ms/step - loss: 0.6303 - accuracy: 0.8058 - val_loss: 0.4221 - val_accuracy: 0.8901\n",
      "Epoch 25/64\n",
      "469/469 [==============================] - 93s 198ms/step - loss: 0.6132 - accuracy: 0.8130 - val_loss: 0.4116 - val_accuracy: 0.8919\n",
      "Epoch 26/64\n",
      "469/469 [==============================] - 84s 180ms/step - loss: 0.6013 - accuracy: 0.8177 - val_loss: 0.4019 - val_accuracy: 0.8942\n",
      "Epoch 27/64\n",
      "469/469 [==============================] - 83s 177ms/step - loss: 0.5903 - accuracy: 0.8208 - val_loss: 0.3931 - val_accuracy: 0.8960\n",
      "Epoch 28/64\n",
      "469/469 [==============================] - 90s 192ms/step - loss: 0.5789 - accuracy: 0.8238 - val_loss: 0.3851 - val_accuracy: 0.8979\n",
      "Epoch 29/64\n",
      "469/469 [==============================] - 96s 205ms/step - loss: 0.5650 - accuracy: 0.8273 - val_loss: 0.3773 - val_accuracy: 0.8996\n",
      "Epoch 30/64\n",
      "469/469 [==============================] - 92s 196ms/step - loss: 0.5601 - accuracy: 0.8280 - val_loss: 0.3708 - val_accuracy: 0.9009\n",
      "Epoch 31/64\n",
      "469/469 [==============================] - 87s 186ms/step - loss: 0.5494 - accuracy: 0.8340 - val_loss: 0.3644 - val_accuracy: 0.9021\n",
      "Epoch 32/64\n",
      "469/469 [==============================] - 88s 188ms/step - loss: 0.5409 - accuracy: 0.8358 - val_loss: 0.3580 - val_accuracy: 0.9029\n",
      "Epoch 33/64\n",
      "469/469 [==============================] - 81s 172ms/step - loss: 0.5347 - accuracy: 0.8357 - val_loss: 0.3523 - val_accuracy: 0.9045\n",
      "Epoch 34/64\n",
      "469/469 [==============================] - 66s 142ms/step - loss: 0.5256 - accuracy: 0.8413 - val_loss: 0.3473 - val_accuracy: 0.9056\n",
      "Epoch 35/64\n",
      "469/469 [==============================] - 68s 144ms/step - loss: 0.5181 - accuracy: 0.8431 - val_loss: 0.3418 - val_accuracy: 0.9056\n",
      "Epoch 36/64\n",
      "469/469 [==============================] - 63s 135ms/step - loss: 0.5122 - accuracy: 0.8428 - val_loss: 0.3367 - val_accuracy: 0.9072\n",
      "Epoch 37/64\n",
      "469/469 [==============================] - 66s 140ms/step - loss: 0.5084 - accuracy: 0.8452 - val_loss: 0.3325 - val_accuracy: 0.9088\n",
      "Epoch 38/64\n",
      "469/469 [==============================] - 68s 144ms/step - loss: 0.4982 - accuracy: 0.8497 - val_loss: 0.3280 - val_accuracy: 0.9102\n",
      "Epoch 39/64\n",
      "469/469 [==============================] - 67s 144ms/step - loss: 0.4936 - accuracy: 0.8496 - val_loss: 0.3238 - val_accuracy: 0.9108\n",
      "Epoch 40/64\n",
      "469/469 [==============================] - 67s 144ms/step - loss: 0.4882 - accuracy: 0.8520 - val_loss: 0.3202 - val_accuracy: 0.9115\n",
      "Epoch 41/64\n",
      "469/469 [==============================] - 67s 143ms/step - loss: 0.4788 - accuracy: 0.8540 - val_loss: 0.3160 - val_accuracy: 0.9125\n",
      "Epoch 42/64\n",
      "469/469 [==============================] - 67s 143ms/step - loss: 0.4797 - accuracy: 0.8543 - val_loss: 0.3128 - val_accuracy: 0.9134\n",
      "Epoch 43/64\n",
      "469/469 [==============================] - 67s 144ms/step - loss: 0.4711 - accuracy: 0.8570 - val_loss: 0.3092 - val_accuracy: 0.9140\n",
      "Epoch 44/64\n",
      "469/469 [==============================] - 65s 138ms/step - loss: 0.4705 - accuracy: 0.8565 - val_loss: 0.3060 - val_accuracy: 0.9145\n",
      "Epoch 45/64\n",
      "469/469 [==============================] - 64s 136ms/step - loss: 0.4677 - accuracy: 0.8587 - val_loss: 0.3028 - val_accuracy: 0.9154\n",
      "Epoch 46/64\n",
      "469/469 [==============================] - 67s 144ms/step - loss: 0.4546 - accuracy: 0.8631 - val_loss: 0.2994 - val_accuracy: 0.9166\n",
      "Epoch 47/64\n",
      "469/469 [==============================] - 68s 144ms/step - loss: 0.4558 - accuracy: 0.8598 - val_loss: 0.2963 - val_accuracy: 0.9174\n",
      "Epoch 48/64\n",
      "469/469 [==============================] - 68s 144ms/step - loss: 0.4481 - accuracy: 0.8647 - val_loss: 0.2933 - val_accuracy: 0.9176\n",
      "Epoch 49/64\n",
      "469/469 [==============================] - 68s 145ms/step - loss: 0.4465 - accuracy: 0.8640 - val_loss: 0.2907 - val_accuracy: 0.9187\n",
      "Epoch 50/64\n",
      "469/469 [==============================] - 67s 143ms/step - loss: 0.4378 - accuracy: 0.8674 - val_loss: 0.2878 - val_accuracy: 0.9188\n",
      "Epoch 51/64\n",
      "469/469 [==============================] - 67s 144ms/step - loss: 0.4402 - accuracy: 0.8670 - val_loss: 0.2853 - val_accuracy: 0.9201\n",
      "Epoch 52/64\n",
      "469/469 [==============================] - 66s 142ms/step - loss: 0.4322 - accuracy: 0.8678 - val_loss: 0.2828 - val_accuracy: 0.9202\n",
      "Epoch 53/64\n",
      "469/469 [==============================] - 63s 134ms/step - loss: 0.4304 - accuracy: 0.8694 - val_loss: 0.2799 - val_accuracy: 0.9210\n",
      "Epoch 54/64\n",
      "469/469 [==============================] - 67s 144ms/step - loss: 0.4300 - accuracy: 0.8699 - val_loss: 0.2777 - val_accuracy: 0.9213\n",
      "Epoch 55/64\n",
      "469/469 [==============================] - 67s 143ms/step - loss: 0.4240 - accuracy: 0.8709 - val_loss: 0.2753 - val_accuracy: 0.9223\n",
      "Epoch 56/64\n",
      "469/469 [==============================] - 68s 144ms/step - loss: 0.4223 - accuracy: 0.8727 - val_loss: 0.2732 - val_accuracy: 0.9228\n",
      "Epoch 57/64\n"
     ]
    },
    {
     "name": "stdout",
     "output_type": "stream",
     "text": [
      "469/469 [==============================] - 68s 144ms/step - loss: 0.4180 - accuracy: 0.8736 - val_loss: 0.2711 - val_accuracy: 0.9236\n",
      "Epoch 58/64\n",
      "469/469 [==============================] - 68s 144ms/step - loss: 0.4152 - accuracy: 0.8742 - val_loss: 0.2686 - val_accuracy: 0.9240\n",
      "Epoch 59/64\n",
      "469/469 [==============================] - 68s 144ms/step - loss: 0.4094 - accuracy: 0.8749 - val_loss: 0.2661 - val_accuracy: 0.9243\n",
      "Epoch 60/64\n",
      "469/469 [==============================] - 68s 144ms/step - loss: 0.4092 - accuracy: 0.8767 - val_loss: 0.2643 - val_accuracy: 0.9247\n",
      "Epoch 61/64\n",
      "469/469 [==============================] - 63s 134ms/step - loss: 0.4068 - accuracy: 0.8760 - val_loss: 0.2626 - val_accuracy: 0.9245\n",
      "Epoch 62/64\n",
      "469/469 [==============================] - 67s 142ms/step - loss: 0.4071 - accuracy: 0.8763 - val_loss: 0.2605 - val_accuracy: 0.9249\n",
      "Epoch 63/64\n",
      "469/469 [==============================] - 68s 144ms/step - loss: 0.4020 - accuracy: 0.8776 - val_loss: 0.2587 - val_accuracy: 0.9251\n",
      "Epoch 64/64\n",
      "469/469 [==============================] - 68s 145ms/step - loss: 0.3972 - accuracy: 0.8792 - val_loss: 0.2564 - val_accuracy: 0.9255\n"
     ]
    }
   ],
   "source": [
    "history = model.fit(x_train, y_train,\n",
    "          batch_size=batch_size,\n",
    "          epochs=epochs,\n",
    "          verbose=1,\n",
    "          validation_data=(x_test, y_test))"
   ]
  },
  {
   "cell_type": "markdown",
   "metadata": {},
   "source": [
    "Present Results"
   ]
  },
  {
   "cell_type": "code",
   "execution_count": 7,
   "metadata": {},
   "outputs": [
    {
     "name": "stdout",
     "output_type": "stream",
     "text": [
      "Test loss: 0.2564179599285126\n",
      "Test accuracy: 0.9254999756813049\n"
     ]
    }
   ],
   "source": [
    "score = model.evaluate(x_test, y_test, verbose=0)\n",
    "print('Test loss:', score[0])\n",
    "print('Test accuracy:', score[1])"
   ]
  },
  {
   "cell_type": "code",
   "execution_count": 8,
   "metadata": {},
   "outputs": [
    {
     "data": {
      "image/png": "[encoded data removed]",
      "text/plain": [
       "<Figure size 432x288 with 1 Axes>"
      ]
     },
     "metadata": {
      "needs_background": "light"
     },
     "output_type": "display_data"
    },
    {
     "data": {
      "image/png": "[encoded data removed]",
      "text/plain": [
       "<Figure size 432x288 with 1 Axes>"
      ]
     },
     "metadata": {
      "needs_background": "light"
     },
     "output_type": "display_data"
    }
   ],
   "source": [
    "Analyze_training(history)"
   ]
  },
  {
   "cell_type": "code",
   "execution_count": 9,
   "metadata": {},
   "outputs": [],
   "source": [
    "#EOF"
   ]
  }
 ],
 "metadata": {
  "kernelspec": {
   "display_name": "DL",
   "language": "python",
   "name": "dl"
  },
  "language_info": {
   "codemirror_mode": {
    "name": "ipython",
    "version": 3
   },
   "file_extension": ".py",
   "mimetype": "text/x-python",
   "name": "python",
   "nbconvert_exporter": "python",
   "pygments_lexer": "ipython3",
   "version": "3.8.12"
  }
 },
 "nbformat": 4,
 "nbformat_minor": 2
}
