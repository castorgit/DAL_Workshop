{
 "cells": [
  {
   "cell_type": "markdown",
   "metadata": {
    "_cell_guid": "b1076dfc-b9ad-4769-8c92-a6c4dae69d19",
    "_uuid": "8f2839f25d086af736a60e9eeb907d3b93b6e0e5"
   },
   "source": [
    "### PIMA with LightGBM && MLP\n"
   ]
  },
  {
   "cell_type": "code",
   "execution_count": 3,
   "metadata": {
    "_kg_hide-input": true,
    "_uuid": "23a0cc4633a7c695bce637852e5c1a3ba912b7d3"
   },
   "outputs": [
    {
     "name": "stderr",
     "output_type": "stream",
     "text": [
      "Using TensorFlow backend.\n"
     ]
    }
   ],
   "source": [
    "# Python libraries\n",
    "# Classic,data manipulation and linear algebra\n",
    "import pandas as pd\n",
    "import numpy as np\n",
    "\n",
    "# Plots\n",
    "import seaborn as sns\n",
    "import matplotlib.pyplot as plt\n",
    "%matplotlib inline\n",
    "\n",
    "\n",
    "# Data processing, metrics and modeling\n",
    "from sklearn.preprocessing import StandardScaler, LabelEncoder\n",
    "from sklearn.model_selection import GridSearchCV, cross_val_score, train_test_split, GridSearchCV, RandomizedSearchCV\n",
    "from sklearn.metrics import precision_score, recall_score, confusion_matrix,  roc_curve, precision_recall_curve, accuracy_score, roc_auc_score\n",
    "import lightgbm as lgbm\n",
    "from sklearn.ensemble import VotingClassifier\n",
    "from sklearn.neighbors import KNeighborsClassifier\n",
    "from sklearn.metrics import roc_curve,auc\n",
    "from sklearn.model_selection import KFold\n",
    "from sklearn.model_selection import cross_val_predict\n",
    "#from yellowbrick.classifier import DiscriminationThreshold\n",
    "\n",
    "# Stats\n",
    "import scipy.stats as ss\n",
    "from scipy import interp\n",
    "from scipy.stats import randint as sp_randint\n",
    "from scipy.stats import uniform as sp_uniform \n",
    "    \n",
    "from sklearn.metrics import confusion_matrix\n",
    "from sklearn.metrics import accuracy_score\n",
    "from keras import Sequential\n",
    "from keras.layers import Dense\n",
    "from keras.layers import Dense, Dropout, Activation, Flatten\n",
    "\n",
    "#ignore warning messages \n",
    "import warnings\n",
    "warnings.filterwarnings('ignore') "
   ]
  },
  {
   "cell_type": "code",
   "execution_count": 4,
   "metadata": {},
   "outputs": [],
   "source": [
    "# support functions\n",
    "# prints missing data per column\n",
    "def missing(dff):\n",
    "    return pd.DataFrame(round((dff.isnull().sum() * 100/ len(dff)),2).sort_values(ascending=False))\n",
    "#obtains median for target for each column\n",
    "def median_target(var):   \n",
    "    temp = data[data[var].notnull()]\n",
    "    temp = temp[[var, 'Outcome']].groupby(['Outcome'])[[var]].median().reset_index()\n",
    "    return (temp)\n"
   ]
  },
  {
   "cell_type": "code",
   "execution_count": 5,
   "metadata": {
    "_uuid": "47800952ce6180ef76df6165c011c54235a08356"
   },
   "outputs": [],
   "source": [
    "data = pd.read_csv('e:/$Notebooks/pima-indians-diabetes.csv')"
   ]
  },
  {
   "cell_type": "code",
   "execution_count": 6,
   "metadata": {
    "_uuid": "9d15227c13a351df3b718588fe53a32f1772cf28"
   },
   "outputs": [
    {
     "name": "stdout",
     "output_type": "stream",
     "text": [
      "<class 'pandas.core.frame.DataFrame'>\n",
      "RangeIndex: 768 entries, 0 to 767\n",
      "Data columns (total 9 columns):\n",
      "Pregnancies                 768 non-null int64\n",
      "Glucose                     768 non-null int64\n",
      "BloodPressure               768 non-null int64\n",
      "SkinThickness               768 non-null int64\n",
      "Insulin                     768 non-null int64\n",
      "BMI                         768 non-null float64\n",
      "DiabetesPedigreeFunction    768 non-null float64\n",
      "Age                         768 non-null int64\n",
      "Outcome                     768 non-null int64\n",
      "dtypes: float64(2), int64(7)\n",
      "memory usage: 54.1 KB\n"
     ]
    },
    {
     "data": {
      "text/plain": [
       "None"
      ]
     },
     "metadata": {},
     "output_type": "display_data"
    },
    {
     "data": {
      "text/html": [
       "<div>\n",
       "<style scoped>\n",
       "    .dataframe tbody tr th:only-of-type {\n",
       "        vertical-align: middle;\n",
       "    }\n",
       "\n",
       "    .dataframe tbody tr th {\n",
       "        vertical-align: top;\n",
       "    }\n",
       "\n",
       "    .dataframe thead th {\n",
       "        text-align: right;\n",
       "    }\n",
       "</style>\n",
       "<table border=\"1\" class=\"dataframe\">\n",
       "  <thead>\n",
       "    <tr style=\"text-align: right;\">\n",
       "      <th></th>\n",
       "      <th>Pregnancies</th>\n",
       "      <th>Glucose</th>\n",
       "      <th>BloodPressure</th>\n",
       "      <th>SkinThickness</th>\n",
       "      <th>Insulin</th>\n",
       "      <th>BMI</th>\n",
       "      <th>DiabetesPedigreeFunction</th>\n",
       "      <th>Age</th>\n",
       "      <th>Outcome</th>\n",
       "    </tr>\n",
       "  </thead>\n",
       "  <tbody>\n",
       "    <tr>\n",
       "      <th>0</th>\n",
       "      <td>6</td>\n",
       "      <td>148</td>\n",
       "      <td>72</td>\n",
       "      <td>35</td>\n",
       "      <td>0</td>\n",
       "      <td>33.6</td>\n",
       "      <td>0.627</td>\n",
       "      <td>50</td>\n",
       "      <td>1</td>\n",
       "    </tr>\n",
       "    <tr>\n",
       "      <th>1</th>\n",
       "      <td>1</td>\n",
       "      <td>85</td>\n",
       "      <td>66</td>\n",
       "      <td>29</td>\n",
       "      <td>0</td>\n",
       "      <td>26.6</td>\n",
       "      <td>0.351</td>\n",
       "      <td>31</td>\n",
       "      <td>0</td>\n",
       "    </tr>\n",
       "    <tr>\n",
       "      <th>2</th>\n",
       "      <td>8</td>\n",
       "      <td>183</td>\n",
       "      <td>64</td>\n",
       "      <td>0</td>\n",
       "      <td>0</td>\n",
       "      <td>23.3</td>\n",
       "      <td>0.672</td>\n",
       "      <td>32</td>\n",
       "      <td>1</td>\n",
       "    </tr>\n",
       "    <tr>\n",
       "      <th>3</th>\n",
       "      <td>1</td>\n",
       "      <td>89</td>\n",
       "      <td>66</td>\n",
       "      <td>23</td>\n",
       "      <td>94</td>\n",
       "      <td>28.1</td>\n",
       "      <td>0.167</td>\n",
       "      <td>21</td>\n",
       "      <td>0</td>\n",
       "    </tr>\n",
       "    <tr>\n",
       "      <th>4</th>\n",
       "      <td>0</td>\n",
       "      <td>137</td>\n",
       "      <td>40</td>\n",
       "      <td>35</td>\n",
       "      <td>168</td>\n",
       "      <td>43.1</td>\n",
       "      <td>2.288</td>\n",
       "      <td>33</td>\n",
       "      <td>1</td>\n",
       "    </tr>\n",
       "  </tbody>\n",
       "</table>\n",
       "</div>"
      ],
      "text/plain": [
       "   Pregnancies  Glucose  BloodPressure  SkinThickness  Insulin   BMI  \\\n",
       "0            6      148             72             35        0  33.6   \n",
       "1            1       85             66             29        0  26.6   \n",
       "2            8      183             64              0        0  23.3   \n",
       "3            1       89             66             23       94  28.1   \n",
       "4            0      137             40             35      168  43.1   \n",
       "\n",
       "   DiabetesPedigreeFunction  Age  Outcome  \n",
       "0                     0.627   50        1  \n",
       "1                     0.351   31        0  \n",
       "2                     0.672   32        1  \n",
       "3                     0.167   21        0  \n",
       "4                     2.288   33        1  "
      ]
     },
     "metadata": {},
     "output_type": "display_data"
    }
   ],
   "source": [
    "display(data.info(),data.head())"
   ]
  },
  {
   "cell_type": "markdown",
   "metadata": {
    "_uuid": "d01251d4fa7bde6617bdbed27d925b92b9442108"
   },
   "source": [
    "The datasets consist of several medical predictor (independent) variables and one target (dependent) variable, Outcome. Independent variables include the number of pregnancies the patient has had, their BMI, insulin level, age, and so on."
   ]
  },
  {
   "cell_type": "markdown",
   "metadata": {
    "_uuid": "bdb4169ef7c50a08a5e624ce829cd423ee7ae7a8"
   },
   "source": [
    "The above graph shows that the data is unbalanced. The number of non-diabetic is 268 the number of diabetic patients is 500"
   ]
  },
  {
   "cell_type": "code",
   "execution_count": 7,
   "metadata": {
    "_kg_hide-input": true,
    "_uuid": "76b73e2c539996fe0e478fb2d2e3b0919af1fb1d"
   },
   "outputs": [
    {
     "data": {
      "text/html": [
       "<div>\n",
       "<style scoped>\n",
       "    .dataframe tbody tr th:only-of-type {\n",
       "        vertical-align: middle;\n",
       "    }\n",
       "\n",
       "    .dataframe tbody tr th {\n",
       "        vertical-align: top;\n",
       "    }\n",
       "\n",
       "    .dataframe thead th {\n",
       "        text-align: right;\n",
       "    }\n",
       "</style>\n",
       "<table border=\"1\" class=\"dataframe\">\n",
       "  <thead>\n",
       "    <tr style=\"text-align: right;\">\n",
       "      <th></th>\n",
       "      <th>0</th>\n",
       "    </tr>\n",
       "  </thead>\n",
       "  <tbody>\n",
       "    <tr>\n",
       "      <th>Insulin</th>\n",
       "      <td>48.70</td>\n",
       "    </tr>\n",
       "    <tr>\n",
       "      <th>SkinThickness</th>\n",
       "      <td>29.56</td>\n",
       "    </tr>\n",
       "    <tr>\n",
       "      <th>BloodPressure</th>\n",
       "      <td>4.56</td>\n",
       "    </tr>\n",
       "    <tr>\n",
       "      <th>BMI</th>\n",
       "      <td>1.43</td>\n",
       "    </tr>\n",
       "    <tr>\n",
       "      <th>Glucose</th>\n",
       "      <td>0.65</td>\n",
       "    </tr>\n",
       "    <tr>\n",
       "      <th>Outcome</th>\n",
       "      <td>0.00</td>\n",
       "    </tr>\n",
       "    <tr>\n",
       "      <th>Age</th>\n",
       "      <td>0.00</td>\n",
       "    </tr>\n",
       "    <tr>\n",
       "      <th>DiabetesPedigreeFunction</th>\n",
       "      <td>0.00</td>\n",
       "    </tr>\n",
       "    <tr>\n",
       "      <th>Pregnancies</th>\n",
       "      <td>0.00</td>\n",
       "    </tr>\n",
       "  </tbody>\n",
       "</table>\n",
       "</div>"
      ],
      "text/plain": [
       "                              0\n",
       "Insulin                   48.70\n",
       "SkinThickness             29.56\n",
       "BloodPressure              4.56\n",
       "BMI                        1.43\n",
       "Glucose                    0.65\n",
       "Outcome                    0.00\n",
       "Age                        0.00\n",
       "DiabetesPedigreeFunction   0.00\n",
       "Pregnancies                0.00"
      ]
     },
     "execution_count": 7,
     "metadata": {},
     "output_type": "execute_result"
    }
   ],
   "source": [
    "data[['Glucose','BloodPressure','SkinThickness','Insulin','BMI']] = data[['Glucose','BloodPressure','SkinThickness','Insulin','BMI']].replace(0,np.NaN)\n",
    "missing(data)"
   ]
  },
  {
   "cell_type": "markdown",
   "metadata": {},
   "source": [
    "    Fill missing values with median (against target)"
   ]
  },
  {
   "cell_type": "code",
   "execution_count": 8,
   "metadata": {},
   "outputs": [
    {
     "data": {
      "text/plain": [
       "102.5"
      ]
     },
     "execution_count": 8,
     "metadata": {},
     "output_type": "execute_result"
    }
   ],
   "source": [
    "res = median_target('Insulin')\n",
    "res.loc[res['Outcome'] == 0].Insulin[0]"
   ]
  },
  {
   "cell_type": "code",
   "execution_count": 9,
   "metadata": {},
   "outputs": [],
   "source": [
    "res = median_target('Insulin')\n",
    "\n",
    "data.loc[(data['Outcome'] == 0 ) & (data['Insulin'].isnull()), 'Insulin'] = res.loc[res['Outcome'] == 0].Insulin[0]\n",
    "data.loc[(data['Outcome'] == 1 ) & (data['Insulin'].isnull()), 'Insulin'] = res.loc[res['Outcome'] == 1].Insulin[1]\n",
    "\n",
    "res = median_target('SkinThickness')\n",
    "data.loc[(data['Outcome'] == 0 ) & (data['SkinThickness'].isnull()), 'SkinThickness'] = res.loc[res['Outcome'] == 0].SkinThickness[0]\n",
    "data.loc[(data['Outcome'] == 1 ) & (data['SkinThickness'].isnull()), 'SkinThickness'] = res.loc[res['Outcome'] == 1].SkinThickness[1]\n",
    "\n",
    "res = median_target('BloodPressure')\n",
    "data.loc[(data['Outcome'] == 0 ) & (data['BloodPressure'].isnull()), 'BloodPressure'] = res.loc[res['Outcome'] == 0].BloodPressure[0]\n",
    "data.loc[(data['Outcome'] == 1 ) & (data['BloodPressure'].isnull()), 'BloodPressure'] = res.loc[res['Outcome'] == 1].BloodPressure[1]\n",
    "\n",
    "res = median_target('BMI')\n",
    "data.loc[(data['Outcome'] == 0 ) & (data['BMI'].isnull()), 'BMI'] = res.loc[res['Outcome'] == 0].BMI[0]\n",
    "data.loc[(data['Outcome'] == 1 ) & (data['BMI'].isnull()), 'BMI'] = res.loc[res['Outcome'] == 1].BMI[1]\n",
    "\n",
    "res = median_target('Glucose')\n",
    "data.loc[(data['Outcome'] == 0 ) & (data['Glucose'].isnull()), 'Glucose'] = res.loc[res['Outcome'] == 0].Glucose[0]\n"
   ]
  },
  {
   "cell_type": "markdown",
   "metadata": {},
   "source": [
    "Now - Generate new features (not done)"
   ]
  },
  {
   "cell_type": "code",
   "execution_count": 10,
   "metadata": {},
   "outputs": [],
   "source": [
    "# You could trick the features creating new ones by combinations of columns. It has not been done in this example "
   ]
  },
  {
   "cell_type": "code",
   "execution_count": 11,
   "metadata": {},
   "outputs": [],
   "source": [
    "# Def X and y\n",
    "X = data.iloc[:,0:8]\n",
    "y = data.iloc[:,8]\n",
    "\n",
    "scaler = StandardScaler()\n",
    "X = scaler.fit_transform(X)\n",
    "X_train, X_test, y_train, y_test = train_test_split(X, y, test_size=0.3)"
   ]
  },
  {
   "cell_type": "code",
   "execution_count": 12,
   "metadata": {},
   "outputs": [
    {
     "name": "stdout",
     "output_type": "stream",
     "text": [
      "[1]\ttrain's binary_error: 0.370577\teval's binary_error: 0.298701\n",
      "Training until validation scores don't improve for 10 rounds.\n",
      "[2]\ttrain's binary_error: 0.370577\teval's binary_error: 0.298701\n",
      "[3]\ttrain's binary_error: 0.16946\teval's binary_error: 0.186147\n",
      "[4]\ttrain's binary_error: 0.124767\teval's binary_error: 0.17316\n",
      "[5]\ttrain's binary_error: 0.0875233\teval's binary_error: 0.17316\n",
      "[6]\ttrain's binary_error: 0.0875233\teval's binary_error: 0.177489\n",
      "[7]\ttrain's binary_error: 0.0819367\teval's binary_error: 0.168831\n",
      "[8]\ttrain's binary_error: 0.0856611\teval's binary_error: 0.177489\n",
      "[9]\ttrain's binary_error: 0.0819367\teval's binary_error: 0.164502\n",
      "[10]\ttrain's binary_error: 0.0819367\teval's binary_error: 0.164502\n",
      "[11]\ttrain's binary_error: 0.0726257\teval's binary_error: 0.160173\n",
      "[12]\ttrain's binary_error: 0.0726257\teval's binary_error: 0.155844\n",
      "[13]\ttrain's binary_error: 0.0744879\teval's binary_error: 0.168831\n",
      "[14]\ttrain's binary_error: 0.0726257\teval's binary_error: 0.168831\n",
      "[15]\ttrain's binary_error: 0.0707635\teval's binary_error: 0.151515\n",
      "[16]\ttrain's binary_error: 0.0670391\teval's binary_error: 0.142857\n",
      "[17]\ttrain's binary_error: 0.0651769\teval's binary_error: 0.142857\n",
      "[18]\ttrain's binary_error: 0.0651769\teval's binary_error: 0.147186\n",
      "[19]\ttrain's binary_error: 0.0595903\teval's binary_error: 0.147186\n",
      "[20]\ttrain's binary_error: 0.0558659\teval's binary_error: 0.151515\n",
      "[21]\ttrain's binary_error: 0.0558659\teval's binary_error: 0.155844\n",
      "[22]\ttrain's binary_error: 0.0540037\teval's binary_error: 0.151515\n",
      "[23]\ttrain's binary_error: 0.0540037\teval's binary_error: 0.155844\n",
      "[24]\ttrain's binary_error: 0.0540037\teval's binary_error: 0.155844\n",
      "[25]\ttrain's binary_error: 0.0502793\teval's binary_error: 0.151515\n",
      "[26]\ttrain's binary_error: 0.0465549\teval's binary_error: 0.164502\n",
      "Early stopping, best iteration is:\n",
      "[16]\ttrain's binary_error: 0.0670391\teval's binary_error: 0.142857\n",
      "confussion matrix:  [[141  21]\n",
      " [ 12  57]]\n",
      "accuracy: 0.8571428571428571\n"
     ]
    }
   ],
   "source": [
    "lgb_train = lgbm.Dataset(X_train, y_train)\n",
    "lgb_eval = lgbm.Dataset(X_test, y_test, reference=lgb_train)\n",
    "params = {\n",
    "        'task': 'train',\n",
    "        'objective': 'binary',    \n",
    "        'metric': 'binary_error', \n",
    "        'verbose': 1\n",
    "}\n",
    "gbm = lgbm.train(params,\n",
    "            lgb_train,\n",
    "            num_boost_round=50,       \n",
    "            early_stopping_rounds=10, \n",
    "            valid_sets=[lgb_train,lgb_eval],\n",
    "            valid_names=['train', 'eval'])\n",
    "#Confusion matrix\n",
    "y_pred=gbm.predict(X_test)\n",
    "for i in range(0,len(y_pred)):\n",
    "    if y_pred[i]>=.5:       # setting threshold to .5\n",
    "       y_pred[i]=1\n",
    "    else:  \n",
    "       y_pred[i]=0\n",
    "cm = confusion_matrix(y_test, y_pred)\n",
    "accuracy_lgbm = accuracy_score(y_pred,y_test)\n",
    "\n",
    "print('confussion matrix: ',cm)\n",
    "print('accuracy:', accuracy_lgbm)"
   ]
  },
  {
   "cell_type": "code",
   "execution_count": 13,
   "metadata": {},
   "outputs": [
    {
     "name": "stdout",
     "output_type": "stream",
     "text": [
      "WARNING:tensorflow:From C:\\Users\\Manero\\Anaconda3\\lib\\site-packages\\tensorflow\\python\\framework\\op_def_library.py:263: colocate_with (from tensorflow.python.framework.ops) is deprecated and will be removed in a future version.\n",
      "Instructions for updating:\n",
      "Colocations handled automatically by placer.\n",
      "WARNING:tensorflow:From C:\\Users\\Manero\\Anaconda3\\lib\\site-packages\\keras\\backend\\tensorflow_backend.py:3445: calling dropout (from tensorflow.python.ops.nn_ops) with keep_prob is deprecated and will be removed in a future version.\n",
      "Instructions for updating:\n",
      "Please use `rate` instead of `keep_prob`. Rate should be set to `rate = 1 - keep_prob`.\n",
      "_________________________________________________________________\n",
      "Layer (type)                 Output Shape              Param #   \n",
      "=================================================================\n",
      "dense_1 (Dense)              (None, 12)                108       \n",
      "_________________________________________________________________\n",
      "dropout_1 (Dropout)          (None, 12)                0         \n",
      "_________________________________________________________________\n",
      "dense_2 (Dense)              (None, 16)                208       \n",
      "_________________________________________________________________\n",
      "dropout_2 (Dropout)          (None, 16)                0         \n",
      "_________________________________________________________________\n",
      "dense_3 (Dense)              (None, 1)                 17        \n",
      "=================================================================\n",
      "Total params: 333\n",
      "Trainable params: 333\n",
      "Non-trainable params: 0\n",
      "_________________________________________________________________\n",
      "WARNING:tensorflow:From C:\\Users\\Manero\\Anaconda3\\lib\\site-packages\\tensorflow\\python\\ops\\math_ops.py:3066: to_int32 (from tensorflow.python.ops.math_ops) is deprecated and will be removed in a future version.\n",
      "Instructions for updating:\n",
      "Use tf.cast instead.\n",
      "Epoch 1/10\n",
      "537/537 [==============================] - 16s 29ms/step - loss: 2.6461 - acc: 0.6276\n",
      "Epoch 2/10\n",
      "537/537 [==============================] - 1s 1ms/step - loss: 0.8842 - acc: 0.6294\n",
      "Epoch 3/10\n",
      "537/537 [==============================] - 1s 1ms/step - loss: 0.7710 - acc: 0.6294\n",
      "Epoch 4/10\n",
      "537/537 [==============================] - 1s 1ms/step - loss: 0.7137 - acc: 0.6294\n",
      "Epoch 5/10\n",
      "537/537 [==============================] - 1s 1ms/step - loss: 0.7030 - acc: 0.6294\n",
      "Epoch 6/10\n",
      "537/537 [==============================] - 1s 1ms/step - loss: 0.6969 - acc: 0.6276\n",
      "Epoch 7/10\n",
      "537/537 [==============================] - 1s 1ms/step - loss: 0.6894 - acc: 0.6182\n",
      "Epoch 8/10\n",
      "537/537 [==============================] - 1s 1ms/step - loss: 0.6798 - acc: 0.6220\n",
      "Epoch 9/10\n",
      "537/537 [==============================] - 1s 1ms/step - loss: 0.6948 - acc: 0.6015\n",
      "Epoch 10/10\n",
      "537/537 [==============================] - 1s 1ms/step - loss: 0.6845 - acc: 0.5978\n",
      "confussion matrix:  [[162   0]\n",
      " [ 69   0]]\n",
      "accuracy: 0.7012987012987013\n"
     ]
    }
   ],
   "source": [
    "def model_diabetes(optimizer='Adam', init='uniform', activation='relu', dropout = 0.5, layer_size=16):\n",
    "    \n",
    "    model = Sequential()\n",
    "    model.add(Dense(12, input_dim=8, activation=activation,kernel_initializer=init))\n",
    "    model.add(Dropout(dropout))\n",
    "    model.add(Dense(layer_size, activation=activation))\n",
    "    model.add(Dropout(dropout))\n",
    "    model.add(Dense(1, activation=activation))\n",
    "    model.compile(loss='binary_crossentropy', optimizer='Adam', metrics=['accuracy'])\n",
    "    return model\n",
    "\n",
    "NN = model_diabetes()\n",
    "NN.summary()\n",
    "#Fitting the data to the training dataset\n",
    "NN.fit(X_train,y_train, batch_size=10, epochs=10)\n",
    "y_pred=NN.predict(X_test)\n",
    "for i in range(0,len(y_pred)):\n",
    "    if y_pred[i]>=.5:       # setting threshold to .5\n",
    "       y_pred[i]=1\n",
    "    else:  \n",
    "       y_pred[i]=0\n",
    "cm = confusion_matrix(y_test, y_pred)\n",
    "accuracy=accuracy_score(y_pred,y_test)\n",
    "\n",
    "print('confussion matrix: ',cm)\n",
    "print('accuracy:', accuracy)"
   ]
  },
  {
   "cell_type": "code",
   "execution_count": 16,
   "metadata": {},
   "outputs": [
    {
     "name": "stdout",
     "output_type": "stream",
     "text": [
      "Accuracy lgbm :  0.8571428571428571 Accuracy MLP :  0.7012987012987013\n"
     ]
    }
   ],
   "source": [
    "print('Accuracy lgbm : ', accuracy_lgbm, 'Accuracy MLP : ', accuracy)"
   ]
  }
 ],
 "metadata": {
  "kernelspec": {
   "display_name": "Python 3",
   "language": "python",
   "name": "python3"
  },
  "language_info": {
   "codemirror_mode": {
    "name": "ipython",
    "version": 3
   },
   "file_extension": ".py",
   "mimetype": "text/x-python",
   "name": "python",
   "nbconvert_exporter": "python",
   "pygments_lexer": "ipython3",
   "version": "3.6.4"
  }
 },
 "nbformat": 4,
 "nbformat_minor": 1
}
