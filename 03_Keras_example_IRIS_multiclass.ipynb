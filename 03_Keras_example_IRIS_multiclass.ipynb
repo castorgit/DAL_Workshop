{
 "cells": [
  {
   "cell_type": "markdown",
   "metadata": {},
   "source": [
    "**Iris example multiclassification with categorical labels**"
   ]
  },
  {
   "cell_type": "code",
   "execution_count": 8,
   "metadata": {},
   "outputs": [],
   "source": [
    "import numpy as np\n",
    "import matplotlib.pyplot as plt\n",
    "\n",
    "from keras.utils import np_utils\n",
    "from keras.wrappers.scikit_learn import KerasClassifier\n",
    "from keras.models import Sequential\n",
    "from keras.layers import Dense\n",
    "\n",
    "from sklearn import datasets\n",
    "from sklearn.utils.multiclass import unique_labels\n",
    "from sklearn.preprocessing import LabelEncoder\n",
    "from sklearn.model_selection import cross_val_score\n",
    "from sklearn.model_selection import KFold"
   ]
  },
  {
   "cell_type": "markdown",
   "metadata": {},
   "source": [
    "    Load Iris Dataset using Keras module"
   ]
  },
  {
   "cell_type": "code",
   "execution_count": 17,
   "metadata": {},
   "outputs": [
    {
     "name": "stdout",
     "output_type": "stream",
     "text": [
      "class_names:  ['setosa' 'versicolor' 'virginica']\n",
      "clases in encoded_y:  [0 1 2]\n",
      "categorical classes: [[0. 0. 1.]\n",
      " [0. 1. 0.]\n",
      " [1. 0. 0.]]\n"
     ]
    }
   ],
   "source": [
    "seed = 137\n",
    "iris = datasets.load_iris()\n",
    "X = iris.data\n",
    "y = iris.target\n",
    "class_names = iris.target_names\n",
    "\n",
    "encoder = LabelEncoder()\n",
    "encoder.fit(y)\n",
    "encoded_y = encoder.transform(y)\n",
    "\n",
    "print(\"class_names: \", class_names)\n",
    "print(\"clases in encoded_y: \", np.unique(encoded_y))\n",
    "\n",
    "categ_y = np_utils.to_categorical(encoded_y)\n",
    "print(\"categorical classes:\", np.unique(categ_y, axis=0))"
   ]
  },
  {
   "cell_type": "markdown",
   "metadata": {},
   "source": [
    "Network definition"
   ]
  },
  {
   "cell_type": "code",
   "execution_count": 18,
   "metadata": {},
   "outputs": [],
   "source": [
    "def network_model():\n",
    "\t# create model\n",
    "\tmodel = Sequential()\n",
    "\tmodel.add(Dense(128, input_dim=4, activation='relu'))\n",
    "\tmodel.add(Dense(3, activation='softmax'))\n",
    "\t# Compile model\n",
    "\tmodel.compile(loss='categorical_crossentropy', optimizer='adam', metrics=['accuracy'])\n",
    "\treturn model"
   ]
  },
  {
   "cell_type": "markdown",
   "metadata": {},
   "source": [
    "Run Network & present results"
   ]
  },
  {
   "cell_type": "code",
   "execution_count": 20,
   "metadata": {},
   "outputs": [
    {
     "name": "stdout",
     "output_type": "stream",
     "text": [
      "Epoch 1/10\n",
      " - 4s - loss: 1.1024 - acc: 0.5917\n",
      "Epoch 2/10\n",
      " - 0s - loss: 0.7899 - acc: 0.7333\n",
      "Epoch 3/10\n",
      " - 0s - loss: 0.6688 - acc: 0.8417\n",
      "Epoch 4/10\n",
      " - 0s - loss: 0.5931 - acc: 0.7083\n",
      "Epoch 5/10\n",
      " - 0s - loss: 0.5631 - acc: 0.6667\n",
      "Epoch 6/10\n",
      " - 0s - loss: 0.5047 - acc: 0.8917\n",
      "Epoch 7/10\n",
      " - 0s - loss: 0.4685 - acc: 0.9500\n",
      "Epoch 8/10\n",
      " - 0s - loss: 0.4426 - acc: 0.9417\n",
      "Epoch 9/10\n",
      " - 0s - loss: 0.4269 - acc: 0.9417\n",
      "Epoch 10/10\n",
      " - 0s - loss: 0.4086 - acc: 0.8083\n",
      "Epoch 1/10\n",
      " - 4s - loss: 0.8851 - acc: 0.5750\n",
      "Epoch 2/10\n",
      " - 0s - loss: 0.6901 - acc: 0.7083\n",
      "Epoch 3/10\n",
      " - 0s - loss: 0.5723 - acc: 0.7667\n",
      "Epoch 4/10\n",
      " - 0s - loss: 0.5171 - acc: 0.7250\n",
      "Epoch 5/10\n",
      " - 0s - loss: 0.4749 - acc: 0.8500\n",
      "Epoch 6/10\n",
      " - 0s - loss: 0.4542 - acc: 0.8750\n",
      "Epoch 7/10\n",
      " - 0s - loss: 0.4164 - acc: 0.7500\n",
      "Epoch 8/10\n",
      " - 0s - loss: 0.3952 - acc: 0.8917\n",
      "Epoch 9/10\n",
      " - 0s - loss: 0.3703 - acc: 0.9833\n",
      "Epoch 10/10\n",
      " - 0s - loss: 0.3463 - acc: 0.9500\n",
      "Epoch 1/10\n",
      " - 4s - loss: 0.9272 - acc: 0.5417\n",
      "Epoch 2/10\n",
      " - 0s - loss: 0.7376 - acc: 0.6750\n",
      "Epoch 3/10\n",
      " - 0s - loss: 0.6153 - acc: 0.9167\n",
      "Epoch 4/10\n",
      " - 0s - loss: 0.5550 - acc: 0.9500\n",
      "Epoch 5/10\n",
      " - 0s - loss: 0.5104 - acc: 0.8917\n",
      "Epoch 6/10\n",
      " - 0s - loss: 0.4767 - acc: 0.9167\n",
      "Epoch 7/10\n",
      " - 0s - loss: 0.4429 - acc: 0.9250\n",
      "Epoch 8/10\n",
      " - 0s - loss: 0.4207 - acc: 0.9417\n",
      "Epoch 9/10\n",
      " - 0s - loss: 0.3927 - acc: 0.9417\n",
      "Epoch 10/10\n",
      " - 0s - loss: 0.3661 - acc: 0.9417\n",
      "Epoch 1/10\n",
      " - 4s - loss: 1.2103 - acc: 0.5167\n",
      "Epoch 2/10\n",
      " - 0s - loss: 0.8185 - acc: 0.6667\n",
      "Epoch 3/10\n",
      " - 0s - loss: 0.7093 - acc: 0.7167\n",
      "Epoch 4/10\n",
      " - 0s - loss: 0.6367 - acc: 0.7667\n",
      "Epoch 5/10\n",
      " - 0s - loss: 0.5627 - acc: 0.6750\n",
      "Epoch 6/10\n",
      " - 0s - loss: 0.5217 - acc: 0.8167\n",
      "Epoch 7/10\n",
      " - 0s - loss: 0.4915 - acc: 0.7917\n",
      "Epoch 8/10\n",
      " - 0s - loss: 0.4586 - acc: 0.8417\n",
      "Epoch 9/10\n",
      " - 0s - loss: 0.4245 - acc: 0.8667\n",
      "Epoch 10/10\n",
      " - 0s - loss: 0.4095 - acc: 0.9083\n",
      "Epoch 1/10\n",
      " - 5s - loss: 1.0958 - acc: 0.4917\n",
      "Epoch 2/10\n",
      " - 0s - loss: 0.8424 - acc: 0.8000\n",
      "Epoch 3/10\n",
      " - 0s - loss: 0.6926 - acc: 0.8000\n",
      "Epoch 4/10\n",
      " - 0s - loss: 0.5981 - acc: 0.8333\n",
      "Epoch 5/10\n",
      " - 0s - loss: 0.5286 - acc: 0.9167\n",
      "Epoch 6/10\n",
      " - 0s - loss: 0.4849 - acc: 0.8167\n",
      "Epoch 7/10\n",
      " - 0s - loss: 0.4434 - acc: 0.9167\n",
      "Epoch 8/10\n",
      " - 0s - loss: 0.4135 - acc: 0.9083\n",
      "Epoch 9/10\n",
      " - 0s - loss: 0.3819 - acc: 0.9667\n",
      "Epoch 10/10\n",
      " - 0s - loss: 0.3557 - acc: 0.9667\n",
      "Cross Validation Result: 90.67% (6.46%)\n"
     ]
    }
   ],
   "source": [
    "estimator = KerasClassifier(build_fn=network_model, epochs=10, batch_size=5, verbose=2)\n",
    "kfold = KFold(n_splits=5, shuffle=True, random_state=seed)\n",
    "results = cross_val_score(estimator, X, categ_y, cv=kfold)\n",
    "print(\"Cross Validation Result: %.2f%% (%.2f%%)\" % (results.mean()*100, results.std()*100))"
   ]
  }
 ],
 "metadata": {
  "kernelspec": {
   "display_name": "Python 3",
   "language": "python",
   "name": "python3"
  },
  "language_info": {
   "codemirror_mode": {
    "name": "ipython",
    "version": 3
   },
   "file_extension": ".py",
   "mimetype": "text/x-python",
   "name": "python",
   "nbconvert_exporter": "python",
   "pygments_lexer": "ipython3",
   "version": "3.6.4"
  }
 },
 "nbformat": 4,
 "nbformat_minor": 2
}
